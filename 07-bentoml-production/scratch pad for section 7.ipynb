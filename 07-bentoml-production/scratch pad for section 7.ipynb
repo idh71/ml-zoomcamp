{
 "cells": [
  {
   "cell_type": "markdown",
   "id": "e67fc1f9",
   "metadata": {},
   "source": [
    "## 7.2"
   ]
  },
  {
   "cell_type": "markdown",
   "id": "d66e19d6",
   "metadata": {},
   "source": [
    "-this used in the notebook to save the model\n",
    "bentoml.xgboost.save_model('credit_risk_model', model)"
   ]
  },
  {
   "cell_type": "markdown",
   "id": "bcf6aaa2",
   "metadata": {},
   "source": [
    "-this is to be run in a terminal to open a text editor in ther terminal\n",
    "vim service.py"
   ]
  },
  {
   "cell_type": "markdown",
   "id": "b0276de2",
   "metadata": {},
   "source": [
    "-this is run in a terminal after you write your service.py script to start the service\n",
    "\n",
    "bentoml serve service.py:svc\n",
    "\n",
    "-or do it like this and anytime you alter the code in the service.py it will automatically reload the service, which is convenient\n",
    "\n",
    "bentoml serve service.py:svc --reload"
   ]
  },
  {
   "cell_type": "markdown",
   "id": "1014d497",
   "metadata": {},
   "source": [
    "## 7.3 deploying your prediction service"
   ]
  },
  {
   "cell_type": "markdown",
   "id": "d5989016",
   "metadata": {},
   "source": [
    "-use this in the terminal to see a list of the models saved and some info about them\n",
    "bentoml models list\n",
    "\n",
    "-in order to get detailed info on a specific model\n",
    "bentoml models get credit_risk_model:pnvlm2cqh2u4mhqa (use the tag of the model you want to see)\n",
    "\n",
    "-once you have the bentofile.yaml filled out you can build your bento with\n",
    "bentoml build\n",
    "\n",
    "-to build the docker container with the appropriate model (whatever the tag is)\n",
    "bentoml containerize credit_risk_classifier:jm3344sqjgswehqa\n",
    "\n",
    "-to see the docker images you have\n",
    "docker images\n",
    "\n",
    "to run the docker image you just built\n",
    "docker run -it --rm -p 3000:3000 credit_risk_classifier:jm3344sqjgswehqa \n",
    "\n",
    "or (I'm not sure what the \"serve --production\" does)\n",
    "\n",
    "docker run -it --rm -p 3000:3000 credit_risk_classifier:jm3344sqjgswehqa serve --production\n",
    " \n"
   ]
  }
 ],
 "metadata": {
  "kernelspec": {
   "display_name": "Python 3 (ipykernel)",
   "language": "python",
   "name": "python3"
  },
  "language_info": {
   "codemirror_mode": {
    "name": "ipython",
    "version": 3
   },
   "file_extension": ".py",
   "mimetype": "text/x-python",
   "name": "python",
   "nbconvert_exporter": "python",
   "pygments_lexer": "ipython3",
   "version": "3.9.7"
  }
 },
 "nbformat": 4,
 "nbformat_minor": 5
}
