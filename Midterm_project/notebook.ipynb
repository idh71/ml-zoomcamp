{
 "cells": [
  {
   "cell_type": "code",
   "execution_count": 1,
   "id": "67284783",
   "metadata": {},
   "outputs": [],
   "source": [
    "import numpy as np\n",
    "import pandas as pd\n",
    "import matplotlib.pyplot as plt\n",
    "import seaborn as sns\n",
    "\n",
    "from sklearn.model_selection import train_test_split\n",
    "\n",
    "%matplotlib inline"
   ]
  },
  {
   "cell_type": "code",
   "execution_count": 2,
   "id": "dd525110",
   "metadata": {},
   "outputs": [],
   "source": [
    "columns = ['age', \"workclass\", \"fnlwgt\", \"education\", \"education-num\", \"marital-status\", \"occupation\",\n",
    "          \"relationship\", \"race\", \"sex\", \"capital-gain\", \"capital-loss\", \"hours-per-week\", \"native-country\", \"greater-than-50K\"]"
   ]
  },
  {
   "cell_type": "code",
   "execution_count": 3,
   "id": "3a6fe2d5",
   "metadata": {},
   "outputs": [],
   "source": [
    "df = pd.read_csv(\"adult.data\", sep=\",\", header=None)"
   ]
  },
  {
   "cell_type": "code",
   "execution_count": 4,
   "id": "f8ac320a",
   "metadata": {},
   "outputs": [],
   "source": [
    "df.columns = columns"
   ]
  },
  {
   "cell_type": "code",
   "execution_count": 5,
   "id": "628d0242",
   "metadata": {},
   "outputs": [],
   "source": [
    "df.columns = df.columns.str.lower().str.replace(\"-\", \"_\").str.strip()"
   ]
  },
  {
   "cell_type": "code",
   "execution_count": 6,
   "id": "e5dd9441",
   "metadata": {},
   "outputs": [
    {
     "data": {
      "text/html": [
       "<div>\n",
       "<style scoped>\n",
       "    .dataframe tbody tr th:only-of-type {\n",
       "        vertical-align: middle;\n",
       "    }\n",
       "\n",
       "    .dataframe tbody tr th {\n",
       "        vertical-align: top;\n",
       "    }\n",
       "\n",
       "    .dataframe thead th {\n",
       "        text-align: right;\n",
       "    }\n",
       "</style>\n",
       "<table border=\"1\" class=\"dataframe\">\n",
       "  <thead>\n",
       "    <tr style=\"text-align: right;\">\n",
       "      <th></th>\n",
       "      <th>0</th>\n",
       "      <th>1</th>\n",
       "      <th>2</th>\n",
       "      <th>3</th>\n",
       "      <th>4</th>\n",
       "    </tr>\n",
       "  </thead>\n",
       "  <tbody>\n",
       "    <tr>\n",
       "      <th>age</th>\n",
       "      <td>39</td>\n",
       "      <td>50</td>\n",
       "      <td>38</td>\n",
       "      <td>53</td>\n",
       "      <td>28</td>\n",
       "    </tr>\n",
       "    <tr>\n",
       "      <th>workclass</th>\n",
       "      <td>State-gov</td>\n",
       "      <td>Self-emp-not-inc</td>\n",
       "      <td>Private</td>\n",
       "      <td>Private</td>\n",
       "      <td>Private</td>\n",
       "    </tr>\n",
       "    <tr>\n",
       "      <th>fnlwgt</th>\n",
       "      <td>77516</td>\n",
       "      <td>83311</td>\n",
       "      <td>215646</td>\n",
       "      <td>234721</td>\n",
       "      <td>338409</td>\n",
       "    </tr>\n",
       "    <tr>\n",
       "      <th>education</th>\n",
       "      <td>Bachelors</td>\n",
       "      <td>Bachelors</td>\n",
       "      <td>HS-grad</td>\n",
       "      <td>11th</td>\n",
       "      <td>Bachelors</td>\n",
       "    </tr>\n",
       "    <tr>\n",
       "      <th>education_num</th>\n",
       "      <td>13</td>\n",
       "      <td>13</td>\n",
       "      <td>9</td>\n",
       "      <td>7</td>\n",
       "      <td>13</td>\n",
       "    </tr>\n",
       "    <tr>\n",
       "      <th>marital_status</th>\n",
       "      <td>Never-married</td>\n",
       "      <td>Married-civ-spouse</td>\n",
       "      <td>Divorced</td>\n",
       "      <td>Married-civ-spouse</td>\n",
       "      <td>Married-civ-spouse</td>\n",
       "    </tr>\n",
       "    <tr>\n",
       "      <th>occupation</th>\n",
       "      <td>Adm-clerical</td>\n",
       "      <td>Exec-managerial</td>\n",
       "      <td>Handlers-cleaners</td>\n",
       "      <td>Handlers-cleaners</td>\n",
       "      <td>Prof-specialty</td>\n",
       "    </tr>\n",
       "    <tr>\n",
       "      <th>relationship</th>\n",
       "      <td>Not-in-family</td>\n",
       "      <td>Husband</td>\n",
       "      <td>Not-in-family</td>\n",
       "      <td>Husband</td>\n",
       "      <td>Wife</td>\n",
       "    </tr>\n",
       "    <tr>\n",
       "      <th>race</th>\n",
       "      <td>White</td>\n",
       "      <td>White</td>\n",
       "      <td>White</td>\n",
       "      <td>Black</td>\n",
       "      <td>Black</td>\n",
       "    </tr>\n",
       "    <tr>\n",
       "      <th>sex</th>\n",
       "      <td>Male</td>\n",
       "      <td>Male</td>\n",
       "      <td>Male</td>\n",
       "      <td>Male</td>\n",
       "      <td>Female</td>\n",
       "    </tr>\n",
       "    <tr>\n",
       "      <th>capital_gain</th>\n",
       "      <td>2174</td>\n",
       "      <td>0</td>\n",
       "      <td>0</td>\n",
       "      <td>0</td>\n",
       "      <td>0</td>\n",
       "    </tr>\n",
       "    <tr>\n",
       "      <th>capital_loss</th>\n",
       "      <td>0</td>\n",
       "      <td>0</td>\n",
       "      <td>0</td>\n",
       "      <td>0</td>\n",
       "      <td>0</td>\n",
       "    </tr>\n",
       "    <tr>\n",
       "      <th>hours_per_week</th>\n",
       "      <td>40</td>\n",
       "      <td>13</td>\n",
       "      <td>40</td>\n",
       "      <td>40</td>\n",
       "      <td>40</td>\n",
       "    </tr>\n",
       "    <tr>\n",
       "      <th>native_country</th>\n",
       "      <td>United-States</td>\n",
       "      <td>United-States</td>\n",
       "      <td>United-States</td>\n",
       "      <td>United-States</td>\n",
       "      <td>Cuba</td>\n",
       "    </tr>\n",
       "    <tr>\n",
       "      <th>greater_than_50k</th>\n",
       "      <td>&lt;=50K</td>\n",
       "      <td>&lt;=50K</td>\n",
       "      <td>&lt;=50K</td>\n",
       "      <td>&lt;=50K</td>\n",
       "      <td>&lt;=50K</td>\n",
       "    </tr>\n",
       "  </tbody>\n",
       "</table>\n",
       "</div>"
      ],
      "text/plain": [
       "                               0                    1                   2  \\\n",
       "age                           39                   50                  38   \n",
       "workclass              State-gov     Self-emp-not-inc             Private   \n",
       "fnlwgt                     77516                83311              215646   \n",
       "education              Bachelors            Bachelors             HS-grad   \n",
       "education_num                 13                   13                   9   \n",
       "marital_status     Never-married   Married-civ-spouse            Divorced   \n",
       "occupation          Adm-clerical      Exec-managerial   Handlers-cleaners   \n",
       "relationship       Not-in-family              Husband       Not-in-family   \n",
       "race                       White                White               White   \n",
       "sex                         Male                 Male                Male   \n",
       "capital_gain                2174                    0                   0   \n",
       "capital_loss                   0                    0                   0   \n",
       "hours_per_week                40                   13                  40   \n",
       "native_country     United-States        United-States       United-States   \n",
       "greater_than_50k           <=50K                <=50K               <=50K   \n",
       "\n",
       "                                    3                    4  \n",
       "age                                53                   28  \n",
       "workclass                     Private              Private  \n",
       "fnlwgt                         234721               338409  \n",
       "education                        11th            Bachelors  \n",
       "education_num                       7                   13  \n",
       "marital_status     Married-civ-spouse   Married-civ-spouse  \n",
       "occupation          Handlers-cleaners       Prof-specialty  \n",
       "relationship                  Husband                 Wife  \n",
       "race                            Black                Black  \n",
       "sex                              Male               Female  \n",
       "capital_gain                        0                    0  \n",
       "capital_loss                        0                    0  \n",
       "hours_per_week                     40                   40  \n",
       "native_country          United-States                 Cuba  \n",
       "greater_than_50k                <=50K                <=50K  "
      ]
     },
     "execution_count": 6,
     "metadata": {},
     "output_type": "execute_result"
    }
   ],
   "source": [
    "df.head().T"
   ]
  },
  {
   "cell_type": "code",
   "execution_count": 7,
   "id": "6c24d836",
   "metadata": {},
   "outputs": [
    {
     "data": {
      "text/plain": [
       "age                  int64\n",
       "workclass           object\n",
       "fnlwgt               int64\n",
       "education           object\n",
       "education_num        int64\n",
       "marital_status      object\n",
       "occupation          object\n",
       "relationship        object\n",
       "race                object\n",
       "sex                 object\n",
       "capital_gain         int64\n",
       "capital_loss         int64\n",
       "hours_per_week       int64\n",
       "native_country      object\n",
       "greater_than_50k    object\n",
       "dtype: object"
      ]
     },
     "execution_count": 7,
     "metadata": {},
     "output_type": "execute_result"
    }
   ],
   "source": [
    "# find out out which columns contain string entries so we can make them more uniform\n",
    "df.dtypes"
   ]
  },
  {
   "cell_type": "code",
   "execution_count": 8,
   "id": "2594f857",
   "metadata": {},
   "outputs": [],
   "source": [
    "strings = list(df.dtypes[df.dtypes == 'object'].index)"
   ]
  },
  {
   "cell_type": "code",
   "execution_count": 9,
   "id": "94978fe6",
   "metadata": {},
   "outputs": [],
   "source": [
    "# making all the entries lower-case and seperated by undescore\n",
    "for col in strings:\n",
    "    df[col] = df[col].str.lower().str.replace(\"-\", \"_\").str.strip()\n",
    "    "
   ]
  },
  {
   "cell_type": "code",
   "execution_count": 10,
   "id": "0242c291",
   "metadata": {},
   "outputs": [
    {
     "data": {
      "text/html": [
       "<div>\n",
       "<style scoped>\n",
       "    .dataframe tbody tr th:only-of-type {\n",
       "        vertical-align: middle;\n",
       "    }\n",
       "\n",
       "    .dataframe tbody tr th {\n",
       "        vertical-align: top;\n",
       "    }\n",
       "\n",
       "    .dataframe thead th {\n",
       "        text-align: right;\n",
       "    }\n",
       "</style>\n",
       "<table border=\"1\" class=\"dataframe\">\n",
       "  <thead>\n",
       "    <tr style=\"text-align: right;\">\n",
       "      <th></th>\n",
       "      <th>age</th>\n",
       "      <th>workclass</th>\n",
       "      <th>fnlwgt</th>\n",
       "      <th>education</th>\n",
       "      <th>education_num</th>\n",
       "      <th>marital_status</th>\n",
       "      <th>occupation</th>\n",
       "      <th>relationship</th>\n",
       "      <th>race</th>\n",
       "      <th>sex</th>\n",
       "      <th>capital_gain</th>\n",
       "      <th>capital_loss</th>\n",
       "      <th>hours_per_week</th>\n",
       "      <th>native_country</th>\n",
       "      <th>greater_than_50k</th>\n",
       "    </tr>\n",
       "  </thead>\n",
       "  <tbody>\n",
       "    <tr>\n",
       "      <th>0</th>\n",
       "      <td>39</td>\n",
       "      <td>state_gov</td>\n",
       "      <td>77516</td>\n",
       "      <td>bachelors</td>\n",
       "      <td>13</td>\n",
       "      <td>never_married</td>\n",
       "      <td>adm_clerical</td>\n",
       "      <td>not_in_family</td>\n",
       "      <td>white</td>\n",
       "      <td>male</td>\n",
       "      <td>2174</td>\n",
       "      <td>0</td>\n",
       "      <td>40</td>\n",
       "      <td>united_states</td>\n",
       "      <td>&lt;=50k</td>\n",
       "    </tr>\n",
       "    <tr>\n",
       "      <th>1</th>\n",
       "      <td>50</td>\n",
       "      <td>self_emp_not_inc</td>\n",
       "      <td>83311</td>\n",
       "      <td>bachelors</td>\n",
       "      <td>13</td>\n",
       "      <td>married_civ_spouse</td>\n",
       "      <td>exec_managerial</td>\n",
       "      <td>husband</td>\n",
       "      <td>white</td>\n",
       "      <td>male</td>\n",
       "      <td>0</td>\n",
       "      <td>0</td>\n",
       "      <td>13</td>\n",
       "      <td>united_states</td>\n",
       "      <td>&lt;=50k</td>\n",
       "    </tr>\n",
       "    <tr>\n",
       "      <th>2</th>\n",
       "      <td>38</td>\n",
       "      <td>private</td>\n",
       "      <td>215646</td>\n",
       "      <td>hs_grad</td>\n",
       "      <td>9</td>\n",
       "      <td>divorced</td>\n",
       "      <td>handlers_cleaners</td>\n",
       "      <td>not_in_family</td>\n",
       "      <td>white</td>\n",
       "      <td>male</td>\n",
       "      <td>0</td>\n",
       "      <td>0</td>\n",
       "      <td>40</td>\n",
       "      <td>united_states</td>\n",
       "      <td>&lt;=50k</td>\n",
       "    </tr>\n",
       "    <tr>\n",
       "      <th>3</th>\n",
       "      <td>53</td>\n",
       "      <td>private</td>\n",
       "      <td>234721</td>\n",
       "      <td>11th</td>\n",
       "      <td>7</td>\n",
       "      <td>married_civ_spouse</td>\n",
       "      <td>handlers_cleaners</td>\n",
       "      <td>husband</td>\n",
       "      <td>black</td>\n",
       "      <td>male</td>\n",
       "      <td>0</td>\n",
       "      <td>0</td>\n",
       "      <td>40</td>\n",
       "      <td>united_states</td>\n",
       "      <td>&lt;=50k</td>\n",
       "    </tr>\n",
       "    <tr>\n",
       "      <th>4</th>\n",
       "      <td>28</td>\n",
       "      <td>private</td>\n",
       "      <td>338409</td>\n",
       "      <td>bachelors</td>\n",
       "      <td>13</td>\n",
       "      <td>married_civ_spouse</td>\n",
       "      <td>prof_specialty</td>\n",
       "      <td>wife</td>\n",
       "      <td>black</td>\n",
       "      <td>female</td>\n",
       "      <td>0</td>\n",
       "      <td>0</td>\n",
       "      <td>40</td>\n",
       "      <td>cuba</td>\n",
       "      <td>&lt;=50k</td>\n",
       "    </tr>\n",
       "  </tbody>\n",
       "</table>\n",
       "</div>"
      ],
      "text/plain": [
       "   age         workclass  fnlwgt  education  education_num  \\\n",
       "0   39         state_gov   77516  bachelors             13   \n",
       "1   50  self_emp_not_inc   83311  bachelors             13   \n",
       "2   38           private  215646    hs_grad              9   \n",
       "3   53           private  234721       11th              7   \n",
       "4   28           private  338409  bachelors             13   \n",
       "\n",
       "       marital_status         occupation   relationship   race     sex  \\\n",
       "0       never_married       adm_clerical  not_in_family  white    male   \n",
       "1  married_civ_spouse    exec_managerial        husband  white    male   \n",
       "2            divorced  handlers_cleaners  not_in_family  white    male   \n",
       "3  married_civ_spouse  handlers_cleaners        husband  black    male   \n",
       "4  married_civ_spouse     prof_specialty           wife  black  female   \n",
       "\n",
       "   capital_gain  capital_loss  hours_per_week native_country greater_than_50k  \n",
       "0          2174             0              40  united_states            <=50k  \n",
       "1             0             0              13  united_states            <=50k  \n",
       "2             0             0              40  united_states            <=50k  \n",
       "3             0             0              40  united_states            <=50k  \n",
       "4             0             0              40           cuba            <=50k  "
      ]
     },
     "execution_count": 10,
     "metadata": {},
     "output_type": "execute_result"
    }
   ],
   "source": [
    "df.head()"
   ]
  },
  {
   "cell_type": "markdown",
   "id": "ca6537d5",
   "metadata": {},
   "source": [
    "## Exploratory data analysis"
   ]
  },
  {
   "cell_type": "code",
   "execution_count": 11,
   "id": "b910a769",
   "metadata": {},
   "outputs": [
    {
     "data": {
      "text/plain": [
       "age                    73\n",
       "workclass               9\n",
       "fnlwgt              21648\n",
       "education              16\n",
       "education_num          16\n",
       "marital_status          7\n",
       "occupation             15\n",
       "relationship            6\n",
       "race                    5\n",
       "sex                     2\n",
       "capital_gain          119\n",
       "capital_loss           92\n",
       "hours_per_week         94\n",
       "native_country         42\n",
       "greater_than_50k        2\n",
       "dtype: int64"
      ]
     },
     "execution_count": 11,
     "metadata": {},
     "output_type": "execute_result"
    }
   ],
   "source": [
    "df.nunique()"
   ]
  },
  {
   "cell_type": "code",
   "execution_count": 12,
   "id": "e31101cb",
   "metadata": {},
   "outputs": [
    {
     "name": "stdout",
     "output_type": "stream",
     "text": [
      "age\n",
      "[39 50 38 53 28]\n",
      "unique values:  73\n",
      "\n",
      "workclass\n",
      "['state_gov' 'self_emp_not_inc' 'private' 'federal_gov' 'local_gov']\n",
      "unique values:  9\n",
      "\n",
      "fnlwgt\n",
      "[ 77516  83311 215646 234721 338409]\n",
      "unique values:  21648\n",
      "\n",
      "education\n",
      "['bachelors' 'hs_grad' '11th' 'masters' '9th']\n",
      "unique values:  16\n",
      "\n",
      "education_num\n",
      "[13  9  7 14  5]\n",
      "unique values:  16\n",
      "\n",
      "marital_status\n",
      "['never_married' 'married_civ_spouse' 'divorced' 'married_spouse_absent'\n",
      " 'separated']\n",
      "unique values:  7\n",
      "\n",
      "occupation\n",
      "['adm_clerical' 'exec_managerial' 'handlers_cleaners' 'prof_specialty'\n",
      " 'other_service']\n",
      "unique values:  15\n",
      "\n",
      "relationship\n",
      "['not_in_family' 'husband' 'wife' 'own_child' 'unmarried']\n",
      "unique values:  6\n",
      "\n",
      "race\n",
      "['white' 'black' 'asian_pac_islander' 'amer_indian_eskimo' 'other']\n",
      "unique values:  5\n",
      "\n",
      "sex\n",
      "['male' 'female']\n",
      "unique values:  2\n",
      "\n",
      "capital_gain\n",
      "[ 2174     0 14084  5178  5013]\n",
      "unique values:  119\n",
      "\n",
      "capital_loss\n",
      "[   0 2042 1408 1902 1573]\n",
      "unique values:  92\n",
      "\n",
      "hours_per_week\n",
      "[40 13 16 45 50]\n",
      "unique values:  94\n",
      "\n",
      "native_country\n",
      "['united_states' 'cuba' 'jamaica' 'india' '?']\n",
      "unique values:  42\n",
      "\n",
      "greater_than_50k\n",
      "['<=50k' '>50k']\n",
      "unique values:  2\n",
      "\n"
     ]
    }
   ],
   "source": [
    "for col in df.columns:\n",
    "    print(col)\n",
    "    print(df[col].unique()[:5])\n",
    "    print(\"unique values: \", df[col].nunique())\n",
    "    print()\n",
    "    "
   ]
  },
  {
   "cell_type": "code",
   "execution_count": 13,
   "id": "dba1e7da",
   "metadata": {},
   "outputs": [],
   "source": [
    "df['us_native'] = (df['native_country'] == 'united_states').astype(int)"
   ]
  },
  {
   "cell_type": "code",
   "execution_count": 14,
   "id": "f87806d0",
   "metadata": {},
   "outputs": [],
   "source": [
    "def trans_func(x):\n",
    "    if x == 'united_states':\n",
    "        return 'united_states'\n",
    "    else:\n",
    "        return 'other'"
   ]
  },
  {
   "cell_type": "code",
   "execution_count": 15,
   "id": "a677671d",
   "metadata": {},
   "outputs": [],
   "source": [
    "df['us_native'] = df['native_country'].apply(trans_func)"
   ]
  },
  {
   "cell_type": "code",
   "execution_count": 16,
   "id": "24fadac1",
   "metadata": {},
   "outputs": [
    {
     "data": {
      "text/plain": [
       "0        united_states\n",
       "1        united_states\n",
       "2        united_states\n",
       "3        united_states\n",
       "4                other\n",
       "             ...      \n",
       "32556    united_states\n",
       "32557    united_states\n",
       "32558    united_states\n",
       "32559    united_states\n",
       "32560    united_states\n",
       "Name: us_native, Length: 32561, dtype: object"
      ]
     },
     "execution_count": 16,
     "metadata": {},
     "output_type": "execute_result"
    }
   ],
   "source": [
    "df.us_native"
   ]
  },
  {
   "cell_type": "code",
   "execution_count": 17,
   "id": "f2f980b6",
   "metadata": {},
   "outputs": [
    {
     "data": {
      "text/plain": [
       "united_states    29170\n",
       "other             3391\n",
       "Name: us_native, dtype: int64"
      ]
     },
     "execution_count": 17,
     "metadata": {},
     "output_type": "execute_result"
    }
   ],
   "source": [
    "df.us_native.value_counts()"
   ]
  },
  {
   "cell_type": "code",
   "execution_count": 18,
   "id": "e06feb91",
   "metadata": {},
   "outputs": [
    {
     "data": {
      "text/plain": [
       "<AxesSubplot:xlabel='greater_than_50k', ylabel='Count'>"
      ]
     },
     "execution_count": 18,
     "metadata": {},
     "output_type": "execute_result"
    },
    {
     "data": {
      "image/png": "[encoded data removed]",
      "text/plain": [
       "<Figure size 640x480 with 1 Axes>"
      ]
     },
     "metadata": {},
     "output_type": "display_data"
    }
   ],
   "source": [
    "sns.histplot(df.greater_than_50k)"
   ]
  },
  {
   "cell_type": "code",
   "execution_count": 19,
   "id": "eaa61349",
   "metadata": {},
   "outputs": [
    {
     "data": {
      "text/plain": [
       "age                 0\n",
       "workclass           0\n",
       "fnlwgt              0\n",
       "education           0\n",
       "education_num       0\n",
       "marital_status      0\n",
       "occupation          0\n",
       "relationship        0\n",
       "race                0\n",
       "sex                 0\n",
       "capital_gain        0\n",
       "capital_loss        0\n",
       "hours_per_week      0\n",
       "native_country      0\n",
       "greater_than_50k    0\n",
       "us_native           0\n",
       "dtype: int64"
      ]
     },
     "execution_count": 19,
     "metadata": {},
     "output_type": "execute_result"
    }
   ],
   "source": [
    "df.isnull().sum()"
   ]
  },
  {
   "cell_type": "code",
   "execution_count": 20,
   "id": "9bfef374",
   "metadata": {},
   "outputs": [
    {
     "data": {
      "text/plain": [
       "<=50k    24720\n",
       ">50k      7841\n",
       "Name: greater_than_50k, dtype: int64"
      ]
     },
     "execution_count": 20,
     "metadata": {},
     "output_type": "execute_result"
    }
   ],
   "source": [
    "# for machine learning models we want our target to be expressed in 1 or 0 instead of >50k\n",
    "# so lets do that \n",
    "\n",
    "df.greater_than_50k.value_counts()"
   ]
  },
  {
   "cell_type": "code",
   "execution_count": 21,
   "id": "b94ac9ff",
   "metadata": {},
   "outputs": [],
   "source": [
    "# this changes the entries to either 1 or 0\n",
    "df.greater_than_50k = (df.greater_than_50k == '>50k').astype(int)"
   ]
  },
  {
   "cell_type": "code",
   "execution_count": 22,
   "id": "13a09cae",
   "metadata": {},
   "outputs": [
    {
     "data": {
      "text/plain": [
       "7841"
      ]
     },
     "execution_count": 22,
     "metadata": {},
     "output_type": "execute_result"
    }
   ],
   "source": [
    "df.greater_than_50k.sum()"
   ]
  },
  {
   "cell_type": "code",
   "execution_count": 23,
   "id": "0c12488f",
   "metadata": {},
   "outputs": [],
   "source": [
    "# now to split the data up into train and test sets\n",
    "df_full_train, df_test = train_test_split(df, test_size=0.2, random_state=1)"
   ]
  },
  {
   "cell_type": "code",
   "execution_count": 24,
   "id": "5fa94f01",
   "metadata": {},
   "outputs": [],
   "source": [
    "df_train, df_val = train_test_split(df_full_train, test_size=0.25, random_state=1)"
   ]
  },
  {
   "cell_type": "code",
   "execution_count": 25,
   "id": "105b6ebb",
   "metadata": {},
   "outputs": [
    {
     "data": {
      "text/plain": [
       "(19536, 6512, 6513)"
      ]
     },
     "execution_count": 25,
     "metadata": {},
     "output_type": "execute_result"
    }
   ],
   "source": [
    "len(df_train), len(df_val), len(df_test)"
   ]
  },
  {
   "cell_type": "code",
   "execution_count": 26,
   "id": "f2fe58c4",
   "metadata": {},
   "outputs": [],
   "source": [
    "# just so that the indices arent all shuffled up (though it doesnt make any difference to the result)\n",
    "df_train = df_train.reset_index(drop=True)\n",
    "df_val = df_val.reset_index(drop=True)\n",
    "df_test = df_test.reset_index(drop=True)"
   ]
  },
  {
   "cell_type": "code",
   "execution_count": 27,
   "id": "5af11525",
   "metadata": {},
   "outputs": [],
   "source": [
    "# gettnig the target values (note you have to use the .values)\n",
    "y_train = df_train.greater_than_50k.values\n",
    "y_val = df_val.greater_than_50k.values\n",
    "y_test = df_test.greater_than_50k.values\n"
   ]
  },
  {
   "cell_type": "code",
   "execution_count": 28,
   "id": "ab3040cd",
   "metadata": {},
   "outputs": [],
   "source": [
    "# now we delet the targets from our three datasets.  note we need to use the bracket, dot notation does not work \n",
    "\n",
    "del df_train['greater_than_50k']\n",
    "del df_val['greater_than_50k']\n",
    "del df_test['greater_than_50k']"
   ]
  },
  {
   "cell_type": "markdown",
   "id": "f801e2f4",
   "metadata": {},
   "source": [
    "### Exploratory data analysis\n",
    "we will use the df_full_train which we have not deleted the targets from yet"
   ]
  },
  {
   "cell_type": "code",
   "execution_count": 29,
   "id": "bf99e163",
   "metadata": {},
   "outputs": [
    {
     "data": {
      "text/html": [
       "<div>\n",
       "<style scoped>\n",
       "    .dataframe tbody tr th:only-of-type {\n",
       "        vertical-align: middle;\n",
       "    }\n",
       "\n",
       "    .dataframe tbody tr th {\n",
       "        vertical-align: top;\n",
       "    }\n",
       "\n",
       "    .dataframe thead th {\n",
       "        text-align: right;\n",
       "    }\n",
       "</style>\n",
       "<table border=\"1\" class=\"dataframe\">\n",
       "  <thead>\n",
       "    <tr style=\"text-align: right;\">\n",
       "      <th></th>\n",
       "      <th>age</th>\n",
       "      <th>workclass</th>\n",
       "      <th>fnlwgt</th>\n",
       "      <th>education</th>\n",
       "      <th>education_num</th>\n",
       "      <th>marital_status</th>\n",
       "      <th>occupation</th>\n",
       "      <th>relationship</th>\n",
       "      <th>race</th>\n",
       "      <th>sex</th>\n",
       "      <th>capital_gain</th>\n",
       "      <th>capital_loss</th>\n",
       "      <th>hours_per_week</th>\n",
       "      <th>native_country</th>\n",
       "      <th>greater_than_50k</th>\n",
       "      <th>us_native</th>\n",
       "    </tr>\n",
       "  </thead>\n",
       "  <tbody>\n",
       "    <tr>\n",
       "      <th>0</th>\n",
       "      <td>39</td>\n",
       "      <td>self_emp_not_inc</td>\n",
       "      <td>188571</td>\n",
       "      <td>11th</td>\n",
       "      <td>7</td>\n",
       "      <td>married_civ_spouse</td>\n",
       "      <td>transport_moving</td>\n",
       "      <td>husband</td>\n",
       "      <td>white</td>\n",
       "      <td>male</td>\n",
       "      <td>0</td>\n",
       "      <td>0</td>\n",
       "      <td>40</td>\n",
       "      <td>united_states</td>\n",
       "      <td>0</td>\n",
       "      <td>united_states</td>\n",
       "    </tr>\n",
       "    <tr>\n",
       "      <th>1</th>\n",
       "      <td>54</td>\n",
       "      <td>self_emp_not_inc</td>\n",
       "      <td>105010</td>\n",
       "      <td>bachelors</td>\n",
       "      <td>13</td>\n",
       "      <td>married_civ_spouse</td>\n",
       "      <td>exec_managerial</td>\n",
       "      <td>husband</td>\n",
       "      <td>white</td>\n",
       "      <td>male</td>\n",
       "      <td>0</td>\n",
       "      <td>0</td>\n",
       "      <td>40</td>\n",
       "      <td>united_states</td>\n",
       "      <td>1</td>\n",
       "      <td>united_states</td>\n",
       "    </tr>\n",
       "    <tr>\n",
       "      <th>2</th>\n",
       "      <td>32</td>\n",
       "      <td>private</td>\n",
       "      <td>156464</td>\n",
       "      <td>hs_grad</td>\n",
       "      <td>9</td>\n",
       "      <td>married_civ_spouse</td>\n",
       "      <td>sales</td>\n",
       "      <td>husband</td>\n",
       "      <td>white</td>\n",
       "      <td>male</td>\n",
       "      <td>0</td>\n",
       "      <td>1902</td>\n",
       "      <td>50</td>\n",
       "      <td>united_states</td>\n",
       "      <td>1</td>\n",
       "      <td>united_states</td>\n",
       "    </tr>\n",
       "    <tr>\n",
       "      <th>3</th>\n",
       "      <td>45</td>\n",
       "      <td>self_emp_not_inc</td>\n",
       "      <td>32172</td>\n",
       "      <td>some_college</td>\n",
       "      <td>10</td>\n",
       "      <td>never_married</td>\n",
       "      <td>farming_fishing</td>\n",
       "      <td>not_in_family</td>\n",
       "      <td>white</td>\n",
       "      <td>male</td>\n",
       "      <td>0</td>\n",
       "      <td>0</td>\n",
       "      <td>50</td>\n",
       "      <td>united_states</td>\n",
       "      <td>0</td>\n",
       "      <td>united_states</td>\n",
       "    </tr>\n",
       "    <tr>\n",
       "      <th>4</th>\n",
       "      <td>60</td>\n",
       "      <td>private</td>\n",
       "      <td>146674</td>\n",
       "      <td>10th</td>\n",
       "      <td>6</td>\n",
       "      <td>married_civ_spouse</td>\n",
       "      <td>handlers_cleaners</td>\n",
       "      <td>husband</td>\n",
       "      <td>black</td>\n",
       "      <td>male</td>\n",
       "      <td>0</td>\n",
       "      <td>0</td>\n",
       "      <td>40</td>\n",
       "      <td>united_states</td>\n",
       "      <td>0</td>\n",
       "      <td>united_states</td>\n",
       "    </tr>\n",
       "    <tr>\n",
       "      <th>...</th>\n",
       "      <td>...</td>\n",
       "      <td>...</td>\n",
       "      <td>...</td>\n",
       "      <td>...</td>\n",
       "      <td>...</td>\n",
       "      <td>...</td>\n",
       "      <td>...</td>\n",
       "      <td>...</td>\n",
       "      <td>...</td>\n",
       "      <td>...</td>\n",
       "      <td>...</td>\n",
       "      <td>...</td>\n",
       "      <td>...</td>\n",
       "      <td>...</td>\n",
       "      <td>...</td>\n",
       "      <td>...</td>\n",
       "    </tr>\n",
       "    <tr>\n",
       "      <th>26043</th>\n",
       "      <td>25</td>\n",
       "      <td>local_gov</td>\n",
       "      <td>514716</td>\n",
       "      <td>bachelors</td>\n",
       "      <td>13</td>\n",
       "      <td>never_married</td>\n",
       "      <td>adm_clerical</td>\n",
       "      <td>own_child</td>\n",
       "      <td>black</td>\n",
       "      <td>female</td>\n",
       "      <td>0</td>\n",
       "      <td>0</td>\n",
       "      <td>40</td>\n",
       "      <td>united_states</td>\n",
       "      <td>0</td>\n",
       "      <td>united_states</td>\n",
       "    </tr>\n",
       "    <tr>\n",
       "      <th>26044</th>\n",
       "      <td>32</td>\n",
       "      <td>private</td>\n",
       "      <td>207668</td>\n",
       "      <td>bachelors</td>\n",
       "      <td>13</td>\n",
       "      <td>married_civ_spouse</td>\n",
       "      <td>exec_managerial</td>\n",
       "      <td>husband</td>\n",
       "      <td>white</td>\n",
       "      <td>male</td>\n",
       "      <td>15024</td>\n",
       "      <td>0</td>\n",
       "      <td>45</td>\n",
       "      <td>united_states</td>\n",
       "      <td>1</td>\n",
       "      <td>united_states</td>\n",
       "    </tr>\n",
       "    <tr>\n",
       "      <th>26045</th>\n",
       "      <td>27</td>\n",
       "      <td>private</td>\n",
       "      <td>104457</td>\n",
       "      <td>bachelors</td>\n",
       "      <td>13</td>\n",
       "      <td>never_married</td>\n",
       "      <td>machine_op_inspct</td>\n",
       "      <td>not_in_family</td>\n",
       "      <td>asian_pac_islander</td>\n",
       "      <td>male</td>\n",
       "      <td>0</td>\n",
       "      <td>0</td>\n",
       "      <td>40</td>\n",
       "      <td>?</td>\n",
       "      <td>0</td>\n",
       "      <td>other</td>\n",
       "    </tr>\n",
       "    <tr>\n",
       "      <th>26046</th>\n",
       "      <td>59</td>\n",
       "      <td>state_gov</td>\n",
       "      <td>268700</td>\n",
       "      <td>hs_grad</td>\n",
       "      <td>9</td>\n",
       "      <td>married_civ_spouse</td>\n",
       "      <td>other_service</td>\n",
       "      <td>husband</td>\n",
       "      <td>white</td>\n",
       "      <td>male</td>\n",
       "      <td>0</td>\n",
       "      <td>0</td>\n",
       "      <td>40</td>\n",
       "      <td>united_states</td>\n",
       "      <td>0</td>\n",
       "      <td>united_states</td>\n",
       "    </tr>\n",
       "    <tr>\n",
       "      <th>26047</th>\n",
       "      <td>33</td>\n",
       "      <td>private</td>\n",
       "      <td>59083</td>\n",
       "      <td>bachelors</td>\n",
       "      <td>13</td>\n",
       "      <td>married_civ_spouse</td>\n",
       "      <td>adm_clerical</td>\n",
       "      <td>husband</td>\n",
       "      <td>white</td>\n",
       "      <td>male</td>\n",
       "      <td>0</td>\n",
       "      <td>1902</td>\n",
       "      <td>45</td>\n",
       "      <td>united_states</td>\n",
       "      <td>1</td>\n",
       "      <td>united_states</td>\n",
       "    </tr>\n",
       "  </tbody>\n",
       "</table>\n",
       "<p>26048 rows × 16 columns</p>\n",
       "</div>"
      ],
      "text/plain": [
       "       age         workclass  fnlwgt     education  education_num  \\\n",
       "0       39  self_emp_not_inc  188571          11th              7   \n",
       "1       54  self_emp_not_inc  105010     bachelors             13   \n",
       "2       32           private  156464       hs_grad              9   \n",
       "3       45  self_emp_not_inc   32172  some_college             10   \n",
       "4       60           private  146674          10th              6   \n",
       "...    ...               ...     ...           ...            ...   \n",
       "26043   25         local_gov  514716     bachelors             13   \n",
       "26044   32           private  207668     bachelors             13   \n",
       "26045   27           private  104457     bachelors             13   \n",
       "26046   59         state_gov  268700       hs_grad              9   \n",
       "26047   33           private   59083     bachelors             13   \n",
       "\n",
       "           marital_status         occupation   relationship  \\\n",
       "0      married_civ_spouse   transport_moving        husband   \n",
       "1      married_civ_spouse    exec_managerial        husband   \n",
       "2      married_civ_spouse              sales        husband   \n",
       "3           never_married    farming_fishing  not_in_family   \n",
       "4      married_civ_spouse  handlers_cleaners        husband   \n",
       "...                   ...                ...            ...   \n",
       "26043       never_married       adm_clerical      own_child   \n",
       "26044  married_civ_spouse    exec_managerial        husband   \n",
       "26045       never_married  machine_op_inspct  not_in_family   \n",
       "26046  married_civ_spouse      other_service        husband   \n",
       "26047  married_civ_spouse       adm_clerical        husband   \n",
       "\n",
       "                     race     sex  capital_gain  capital_loss  hours_per_week  \\\n",
       "0                   white    male             0             0              40   \n",
       "1                   white    male             0             0              40   \n",
       "2                   white    male             0          1902              50   \n",
       "3                   white    male             0             0              50   \n",
       "4                   black    male             0             0              40   \n",
       "...                   ...     ...           ...           ...             ...   \n",
       "26043               black  female             0             0              40   \n",
       "26044               white    male         15024             0              45   \n",
       "26045  asian_pac_islander    male             0             0              40   \n",
       "26046               white    male             0             0              40   \n",
       "26047               white    male             0          1902              45   \n",
       "\n",
       "      native_country  greater_than_50k      us_native  \n",
       "0      united_states                 0  united_states  \n",
       "1      united_states                 1  united_states  \n",
       "2      united_states                 1  united_states  \n",
       "3      united_states                 0  united_states  \n",
       "4      united_states                 0  united_states  \n",
       "...              ...               ...            ...  \n",
       "26043  united_states                 0  united_states  \n",
       "26044  united_states                 1  united_states  \n",
       "26045              ?                 0          other  \n",
       "26046  united_states                 0  united_states  \n",
       "26047  united_states                 1  united_states  \n",
       "\n",
       "[26048 rows x 16 columns]"
      ]
     },
     "execution_count": 29,
     "metadata": {},
     "output_type": "execute_result"
    }
   ],
   "source": [
    "df_full_train.reset_index(drop=True)"
   ]
  },
  {
   "cell_type": "code",
   "execution_count": 30,
   "id": "2fa6a8e4",
   "metadata": {},
   "outputs": [
    {
     "data": {
      "text/plain": [
       "age                 0\n",
       "workclass           0\n",
       "fnlwgt              0\n",
       "education           0\n",
       "education_num       0\n",
       "marital_status      0\n",
       "occupation          0\n",
       "relationship        0\n",
       "race                0\n",
       "sex                 0\n",
       "capital_gain        0\n",
       "capital_loss        0\n",
       "hours_per_week      0\n",
       "native_country      0\n",
       "greater_than_50k    0\n",
       "us_native           0\n",
       "dtype: int64"
      ]
     },
     "execution_count": 30,
     "metadata": {},
     "output_type": "execute_result"
    }
   ],
   "source": [
    "# checking for missing values\n",
    "df_full_train.isnull().sum()"
   ]
  },
  {
   "cell_type": "markdown",
   "id": "37eba500",
   "metadata": {},
   "source": [
    "nice! no missing values"
   ]
  },
  {
   "cell_type": "code",
   "execution_count": 31,
   "id": "4f5c4f62",
   "metadata": {},
   "outputs": [
    {
     "data": {
      "text/plain": [
       "0    0.756066\n",
       "1    0.243934\n",
       "Name: greater_than_50k, dtype: float64"
      ]
     },
     "execution_count": 31,
     "metadata": {},
     "output_type": "execute_result"
    }
   ],
   "source": [
    "# checking how balanced the data set is (in terms of the target)\n",
    "# Nice little trick here to get them in percentage terms\n",
    "df_full_train.greater_than_50k.value_counts(normalize=True)"
   ]
  },
  {
   "cell_type": "code",
   "execution_count": 33,
   "id": "f6ea1b3a",
   "metadata": {},
   "outputs": [
    {
     "data": {
      "text/plain": [
       "0.24393427518427518"
      ]
     },
     "execution_count": 33,
     "metadata": {},
     "output_type": "execute_result"
    }
   ],
   "source": [
    "# a shorter way to ge the same result\n",
    "df_full_train.greater_than_50k.mean()"
   ]
  },
  {
   "cell_type": "code",
   "execution_count": 34,
   "id": "15ab99e1",
   "metadata": {},
   "outputs": [
    {
     "data": {
      "text/plain": [
       "age                  int64\n",
       "workclass           object\n",
       "fnlwgt               int64\n",
       "education           object\n",
       "education_num        int64\n",
       "marital_status      object\n",
       "occupation          object\n",
       "relationship        object\n",
       "race                object\n",
       "sex                 object\n",
       "capital_gain         int64\n",
       "capital_loss         int64\n",
       "hours_per_week       int64\n",
       "native_country      object\n",
       "greater_than_50k     int64\n",
       "us_native           object\n",
       "dtype: object"
      ]
     },
     "execution_count": 34,
     "metadata": {},
     "output_type": "execute_result"
    }
   ],
   "source": [
    "df_full_train.dtypes"
   ]
  },
  {
   "cell_type": "code",
   "execution_count": 35,
   "id": "dde464d6",
   "metadata": {},
   "outputs": [
    {
     "data": {
      "text/plain": [
       "['workclass',\n",
       " 'education',\n",
       " 'marital_status',\n",
       " 'occupation',\n",
       " 'relationship',\n",
       " 'race',\n",
       " 'sex',\n",
       " 'native_country',\n",
       " 'us_native']"
      ]
     },
     "execution_count": 35,
     "metadata": {},
     "output_type": "execute_result"
    }
   ],
   "source": [
    "# to ge the categorical cols\n",
    "categorical = []\n",
    "a = dict(df_full_train.dtypes)\n",
    "for k, c in a.items():\n",
    "    if a[k] == 'object':\n",
    "        categorical.append(k)\n",
    "    \n",
    "categorical\n",
    "    "
   ]
  },
  {
   "cell_type": "code",
   "execution_count": 36,
   "id": "76daf95d",
   "metadata": {},
   "outputs": [
    {
     "data": {
      "text/plain": [
       "['age',\n",
       " 'fnlwgt',\n",
       " 'education_num',\n",
       " 'capital_gain',\n",
       " 'capital_loss',\n",
       " 'hours_per_week',\n",
       " 'greater_than_50k']"
      ]
     },
     "execution_count": 36,
     "metadata": {},
     "output_type": "execute_result"
    }
   ],
   "source": [
    "# to get the numerical cols\n",
    "numerical = []\n",
    "b = dict(df_full_train.dtypes)\n",
    "for k, c in b.items():\n",
    "    if b[k] == 'int64':\n",
    "        numerical.append(k)\n",
    "    \n",
    "numerical"
   ]
  },
  {
   "cell_type": "code",
   "execution_count": 37,
   "id": "43932fc2",
   "metadata": {},
   "outputs": [],
   "source": [
    "# I'm going to manually removes 'greater_than_50k' because that is the target we already took out of our data sets\n",
    "numerical = ['age',\n",
    " 'fnlwgt',\n",
    " 'education_num',\n",
    " 'capital_gain',\n",
    " 'capital_loss',\n",
    " 'hours_per_week']"
   ]
  },
  {
   "cell_type": "code",
   "execution_count": 38,
   "id": "fdb77097",
   "metadata": {},
   "outputs": [
    {
     "data": {
      "text/plain": [
       "workclass          9\n",
       "education         16\n",
       "marital_status     7\n",
       "occupation        15\n",
       "relationship       6\n",
       "race               5\n",
       "sex                2\n",
       "native_country    41\n",
       "us_native          2\n",
       "dtype: int64"
      ]
     },
     "execution_count": 38,
     "metadata": {},
     "output_type": "execute_result"
    }
   ],
   "source": [
    "# to get a sense of how many categories are in the categorical variables\n",
    "df_full_train[categorical].nunique()"
   ]
  },
  {
   "cell_type": "markdown",
   "id": "f29da0b1",
   "metadata": {},
   "source": [
    "## Feature Importance"
   ]
  },
  {
   "cell_type": "code",
   "execution_count": 39,
   "id": "777e6e96",
   "metadata": {},
   "outputs": [
    {
     "data": {
      "text/plain": [
       "0.25910112359550563"
      ]
     },
     "execution_count": 39,
     "metadata": {},
     "output_type": "execute_result"
    }
   ],
   "source": [
    "## a way we can look at  how the different features correlate with each other\n",
    "df_full_train[df_full_train.race == 'white'].greater_than_50k.mean()"
   ]
  },
  {
   "cell_type": "markdown",
   "id": "04e74571",
   "metadata": {},
   "source": [
    "that above indicates that around 25 percent of the examples where race is white earn more than 50k"
   ]
  },
  {
   "cell_type": "code",
   "execution_count": 40,
   "id": "18b8da65",
   "metadata": {},
   "outputs": [
    {
     "data": {
      "text/plain": [
       "0.12188254223652453"
      ]
     },
     "execution_count": 40,
     "metadata": {},
     "output_type": "execute_result"
    }
   ],
   "source": [
    "df_full_train[df_full_train.race == 'black'].greater_than_50k.mean()"
   ]
  },
  {
   "cell_type": "markdown",
   "id": "31e38f6a",
   "metadata": {},
   "source": [
    "whereas only around 12 percent of the examples where race is black made more than 50k"
   ]
  },
  {
   "cell_type": "code",
   "execution_count": 41,
   "id": "902d537a",
   "metadata": {},
   "outputs": [
    {
     "data": {
      "text/plain": [
       "0.12601626016260162"
      ]
     },
     "execution_count": 41,
     "metadata": {},
     "output_type": "execute_result"
    }
   ],
   "source": [
    "df_full_train[df_full_train.race == 'amer_indian_eskimo'].greater_than_50k.mean()"
   ]
  },
  {
   "cell_type": "code",
   "execution_count": 42,
   "id": "40876dc9",
   "metadata": {},
   "outputs": [],
   "source": [
    "over50k_rate = df_full_train.greater_than_50k.mean()"
   ]
  },
  {
   "cell_type": "code",
   "execution_count": 43,
   "id": "999b0c57",
   "metadata": {},
   "outputs": [
    {
     "data": {
      "text/plain": [
       "0.24393427518427518"
      ]
     },
     "execution_count": 43,
     "metadata": {},
     "output_type": "execute_result"
    }
   ],
   "source": [
    "over50k_rate"
   ]
  },
  {
   "cell_type": "code",
   "execution_count": 44,
   "id": "2a6b4fb0",
   "metadata": {},
   "outputs": [
    {
     "data": {
      "text/plain": [
       "white                 0.854192\n",
       "black                 0.095439\n",
       "asian_pac_islander    0.032786\n",
       "amer_indian_eskimo    0.009444\n",
       "other                 0.008139\n",
       "Name: race, dtype: float64"
      ]
     },
     "execution_count": 44,
     "metadata": {},
     "output_type": "execute_result"
    }
   ],
   "source": [
    "df_full_train.race.value_counts(normalize=True)"
   ]
  },
  {
   "cell_type": "markdown",
   "id": "a453212b",
   "metadata": {},
   "source": [
    "this dateset is overwhelmingly white"
   ]
  },
  {
   "cell_type": "code",
   "execution_count": 45,
   "id": "e0a8f8ef",
   "metadata": {},
   "outputs": [
    {
     "name": "stdout",
     "output_type": "stream",
     "text": [
      "male_rate:  0.3091878871300757\n",
      "female_rate:  0.11182071528100325\n"
     ]
    }
   ],
   "source": [
    "male_rate = df_full_train[df_full_train.sex == 'male'].greater_than_50k.mean()\n",
    "female_rate = df_full_train[df_full_train.sex == 'female'].greater_than_50k.mean()\n",
    "\n",
    "print('male_rate: ', male_rate)\n",
    "print('female_rate: ', female_rate)"
   ]
  },
  {
   "cell_type": "code",
   "execution_count": 46,
   "id": "5e858ab0",
   "metadata": {},
   "outputs": [
    {
     "data": {
      "text/plain": [
       "male      17436\n",
       "female     8612\n",
       "Name: sex, dtype: int64"
      ]
     },
     "execution_count": 46,
     "metadata": {},
     "output_type": "execute_result"
    }
   ],
   "source": [
    "df_full_train.sex.value_counts()"
   ]
  },
  {
   "cell_type": "markdown",
   "id": "b1575eb3",
   "metadata": {},
   "source": [
    "### we get the risk ratio by dividing the over_50k rate for a group by the global rate"
   ]
  },
  {
   "cell_type": "code",
   "execution_count": 47,
   "id": "42bd87ef",
   "metadata": {},
   "outputs": [
    {
     "data": {
      "text/plain": [
       "1.0210857294978717"
      ]
     },
     "execution_count": 47,
     "metadata": {},
     "output_type": "execute_result"
    }
   ],
   "source": [
    "# To get the us_native risk_ratio (though risk is really more appropriate for curn, this is a good us_native_rate = df_full_train[df_full_train.us_native == 'united_statthing)\n",
    "us_native_rate = df_full_train[df_full_train.us_native == 'united_states'].greater_than_50k.mean()\n",
    "\n",
    "us_native_rate / over50k_rate"
   ]
  },
  {
   "cell_type": "markdown",
   "id": "8b0bf0b8",
   "metadata": {},
   "source": [
    "I think this means that being a us_native gives one a around 2 percent higher chance of making more than 50k"
   ]
  },
  {
   "cell_type": "code",
   "execution_count": 48,
   "id": "8276d1ba",
   "metadata": {},
   "outputs": [
    {
     "data": {
      "text/plain": [
       "0.820192868502788"
      ]
     },
     "execution_count": 48,
     "metadata": {},
     "output_type": "execute_result"
    }
   ],
   "source": [
    "non_native_rate = df_full_train[df_full_train.us_native == 'other'].greater_than_50k.mean()\n",
    "\n",
    "non_native_rate / over50k_rate"
   ]
  },
  {
   "cell_type": "markdown",
   "id": "c0db4783",
   "metadata": {},
   "source": [
    "and being born in another country gave one an around 18 percent less chance of making over 50k"
   ]
  },
  {
   "cell_type": "code",
   "execution_count": 49,
   "id": "04c8df97",
   "metadata": {},
   "outputs": [
    {
     "data": {
      "text/plain": [
       "race\n",
       "amer_indian_eskimo    0.126016\n",
       "asian_pac_islander    0.274005\n",
       "black                 0.121883\n",
       "other                 0.099057\n",
       "white                 0.259101\n",
       "Name: greater_than_50k, dtype: float64"
      ]
     },
     "execution_count": 49,
     "metadata": {},
     "output_type": "execute_result"
    }
   ],
   "source": [
    "# all that above is too slow though, a better way is\n",
    "df_full_train.groupby('race').greater_than_50k.mean()"
   ]
  },
  {
   "cell_type": "code",
   "execution_count": 50,
   "id": "261b261f",
   "metadata": {},
   "outputs": [
    {
     "data": {
      "text/html": [
       "<div>\n",
       "<style scoped>\n",
       "    .dataframe tbody tr th:only-of-type {\n",
       "        vertical-align: middle;\n",
       "    }\n",
       "\n",
       "    .dataframe tbody tr th {\n",
       "        vertical-align: top;\n",
       "    }\n",
       "\n",
       "    .dataframe thead th {\n",
       "        text-align: right;\n",
       "    }\n",
       "</style>\n",
       "<table border=\"1\" class=\"dataframe\">\n",
       "  <thead>\n",
       "    <tr style=\"text-align: right;\">\n",
       "      <th></th>\n",
       "      <th>mean</th>\n",
       "      <th>count</th>\n",
       "    </tr>\n",
       "    <tr>\n",
       "      <th>race</th>\n",
       "      <th></th>\n",
       "      <th></th>\n",
       "    </tr>\n",
       "  </thead>\n",
       "  <tbody>\n",
       "    <tr>\n",
       "      <th>amer_indian_eskimo</th>\n",
       "      <td>0.126016</td>\n",
       "      <td>246</td>\n",
       "    </tr>\n",
       "    <tr>\n",
       "      <th>asian_pac_islander</th>\n",
       "      <td>0.274005</td>\n",
       "      <td>854</td>\n",
       "    </tr>\n",
       "    <tr>\n",
       "      <th>black</th>\n",
       "      <td>0.121883</td>\n",
       "      <td>2486</td>\n",
       "    </tr>\n",
       "    <tr>\n",
       "      <th>other</th>\n",
       "      <td>0.099057</td>\n",
       "      <td>212</td>\n",
       "    </tr>\n",
       "    <tr>\n",
       "      <th>white</th>\n",
       "      <td>0.259101</td>\n",
       "      <td>22250</td>\n",
       "    </tr>\n",
       "  </tbody>\n",
       "</table>\n",
       "</div>"
      ],
      "text/plain": [
       "                        mean  count\n",
       "race                               \n",
       "amer_indian_eskimo  0.126016    246\n",
       "asian_pac_islander  0.274005    854\n",
       "black               0.121883   2486\n",
       "other               0.099057    212\n",
       "white               0.259101  22250"
      ]
     },
     "execution_count": 50,
     "metadata": {},
     "output_type": "execute_result"
    }
   ],
   "source": [
    "df_full_train.groupby('race').greater_than_50k.agg(['mean', 'count'])"
   ]
  },
  {
   "cell_type": "code",
   "execution_count": 51,
   "id": "6ce1b4ef",
   "metadata": {},
   "outputs": [],
   "source": [
    "global_over50k_rate = over50k_rate"
   ]
  },
  {
   "cell_type": "code",
   "execution_count": 52,
   "id": "0b1d3944",
   "metadata": {},
   "outputs": [],
   "source": [
    "from IPython.display import display"
   ]
  },
  {
   "cell_type": "code",
   "execution_count": 53,
   "id": "bd7da8ba",
   "metadata": {},
   "outputs": [
    {
     "name": "stdout",
     "output_type": "stream",
     "text": [
      "workclass\n"
     ]
    },
    {
     "data": {
      "text/html": [
       "<div>\n",
       "<style scoped>\n",
       "    .dataframe tbody tr th:only-of-type {\n",
       "        vertical-align: middle;\n",
       "    }\n",
       "\n",
       "    .dataframe tbody tr th {\n",
       "        vertical-align: top;\n",
       "    }\n",
       "\n",
       "    .dataframe thead th {\n",
       "        text-align: right;\n",
       "    }\n",
       "</style>\n",
       "<table border=\"1\" class=\"dataframe\">\n",
       "  <thead>\n",
       "    <tr style=\"text-align: right;\">\n",
       "      <th></th>\n",
       "      <th>mean</th>\n",
       "      <th>count</th>\n",
       "      <th>risk</th>\n",
       "    </tr>\n",
       "    <tr>\n",
       "      <th>workclass</th>\n",
       "      <th></th>\n",
       "      <th></th>\n",
       "      <th></th>\n",
       "    </tr>\n",
       "  </thead>\n",
       "  <tbody>\n",
       "    <tr>\n",
       "      <th>?</th>\n",
       "      <td>0.102249</td>\n",
       "      <td>1467</td>\n",
       "      <td>0.419168</td>\n",
       "    </tr>\n",
       "    <tr>\n",
       "      <th>federal_gov</th>\n",
       "      <td>0.391134</td>\n",
       "      <td>767</td>\n",
       "      <td>1.603441</td>\n",
       "    </tr>\n",
       "    <tr>\n",
       "      <th>local_gov</th>\n",
       "      <td>0.295374</td>\n",
       "      <td>1686</td>\n",
       "      <td>1.210874</td>\n",
       "    </tr>\n",
       "    <tr>\n",
       "      <th>never_worked</th>\n",
       "      <td>0.000000</td>\n",
       "      <td>6</td>\n",
       "      <td>0.000000</td>\n",
       "    </tr>\n",
       "    <tr>\n",
       "      <th>private</th>\n",
       "      <td>0.221744</td>\n",
       "      <td>18111</td>\n",
       "      <td>0.909030</td>\n",
       "    </tr>\n",
       "    <tr>\n",
       "      <th>self_emp_inc</th>\n",
       "      <td>0.566225</td>\n",
       "      <td>906</td>\n",
       "      <td>2.321220</td>\n",
       "    </tr>\n",
       "    <tr>\n",
       "      <th>self_emp_not_inc</th>\n",
       "      <td>0.282152</td>\n",
       "      <td>2045</td>\n",
       "      <td>1.156671</td>\n",
       "    </tr>\n",
       "    <tr>\n",
       "      <th>state_gov</th>\n",
       "      <td>0.285714</td>\n",
       "      <td>1050</td>\n",
       "      <td>1.171276</td>\n",
       "    </tr>\n",
       "    <tr>\n",
       "      <th>without_pay</th>\n",
       "      <td>0.000000</td>\n",
       "      <td>10</td>\n",
       "      <td>0.000000</td>\n",
       "    </tr>\n",
       "  </tbody>\n",
       "</table>\n",
       "</div>"
      ],
      "text/plain": [
       "                      mean  count      risk\n",
       "workclass                                  \n",
       "?                 0.102249   1467  0.419168\n",
       "federal_gov       0.391134    767  1.603441\n",
       "local_gov         0.295374   1686  1.210874\n",
       "never_worked      0.000000      6  0.000000\n",
       "private           0.221744  18111  0.909030\n",
       "self_emp_inc      0.566225    906  2.321220\n",
       "self_emp_not_inc  0.282152   2045  1.156671\n",
       "state_gov         0.285714   1050  1.171276\n",
       "without_pay       0.000000     10  0.000000"
      ]
     },
     "metadata": {},
     "output_type": "display_data"
    },
    {
     "name": "stdout",
     "output_type": "stream",
     "text": [
      "\n",
      "\n",
      "education\n"
     ]
    },
    {
     "data": {
      "text/html": [
       "<div>\n",
       "<style scoped>\n",
       "    .dataframe tbody tr th:only-of-type {\n",
       "        vertical-align: middle;\n",
       "    }\n",
       "\n",
       "    .dataframe tbody tr th {\n",
       "        vertical-align: top;\n",
       "    }\n",
       "\n",
       "    .dataframe thead th {\n",
       "        text-align: right;\n",
       "    }\n",
       "</style>\n",
       "<table border=\"1\" class=\"dataframe\">\n",
       "  <thead>\n",
       "    <tr style=\"text-align: right;\">\n",
       "      <th></th>\n",
       "      <th>mean</th>\n",
       "      <th>count</th>\n",
       "      <th>risk</th>\n",
       "    </tr>\n",
       "    <tr>\n",
       "      <th>education</th>\n",
       "      <th></th>\n",
       "      <th></th>\n",
       "      <th></th>\n",
       "    </tr>\n",
       "  </thead>\n",
       "  <tbody>\n",
       "    <tr>\n",
       "      <th>10th</th>\n",
       "      <td>0.063660</td>\n",
       "      <td>754</td>\n",
       "      <td>0.260974</td>\n",
       "    </tr>\n",
       "    <tr>\n",
       "      <th>11th</th>\n",
       "      <td>0.049041</td>\n",
       "      <td>938</td>\n",
       "      <td>0.201040</td>\n",
       "    </tr>\n",
       "    <tr>\n",
       "      <th>12th</th>\n",
       "      <td>0.083582</td>\n",
       "      <td>335</td>\n",
       "      <td>0.342642</td>\n",
       "    </tr>\n",
       "    <tr>\n",
       "      <th>1st_4th</th>\n",
       "      <td>0.030769</td>\n",
       "      <td>130</td>\n",
       "      <td>0.126137</td>\n",
       "    </tr>\n",
       "    <tr>\n",
       "      <th>5th_6th</th>\n",
       "      <td>0.056180</td>\n",
       "      <td>267</td>\n",
       "      <td>0.230307</td>\n",
       "    </tr>\n",
       "    <tr>\n",
       "      <th>7th_8th</th>\n",
       "      <td>0.058939</td>\n",
       "      <td>509</td>\n",
       "      <td>0.241619</td>\n",
       "    </tr>\n",
       "    <tr>\n",
       "      <th>9th</th>\n",
       "      <td>0.050239</td>\n",
       "      <td>418</td>\n",
       "      <td>0.205954</td>\n",
       "    </tr>\n",
       "    <tr>\n",
       "      <th>assoc_acdm</th>\n",
       "      <td>0.253239</td>\n",
       "      <td>849</td>\n",
       "      <td>1.038145</td>\n",
       "    </tr>\n",
       "    <tr>\n",
       "      <th>assoc_voc</th>\n",
       "      <td>0.264574</td>\n",
       "      <td>1115</td>\n",
       "      <td>1.084612</td>\n",
       "    </tr>\n",
       "    <tr>\n",
       "      <th>bachelors</th>\n",
       "      <td>0.417924</td>\n",
       "      <td>4307</td>\n",
       "      <td>1.713266</td>\n",
       "    </tr>\n",
       "    <tr>\n",
       "      <th>doctorate</th>\n",
       "      <td>0.730769</td>\n",
       "      <td>338</td>\n",
       "      <td>2.995763</td>\n",
       "    </tr>\n",
       "    <tr>\n",
       "      <th>hs_grad</th>\n",
       "      <td>0.163021</td>\n",
       "      <td>8367</td>\n",
       "      <td>0.668300</td>\n",
       "    </tr>\n",
       "    <tr>\n",
       "      <th>masters</th>\n",
       "      <td>0.558123</td>\n",
       "      <td>1385</td>\n",
       "      <td>2.288005</td>\n",
       "    </tr>\n",
       "    <tr>\n",
       "      <th>preschool</th>\n",
       "      <td>0.000000</td>\n",
       "      <td>45</td>\n",
       "      <td>0.000000</td>\n",
       "    </tr>\n",
       "    <tr>\n",
       "      <th>prof_school</th>\n",
       "      <td>0.736170</td>\n",
       "      <td>470</td>\n",
       "      <td>3.017904</td>\n",
       "    </tr>\n",
       "    <tr>\n",
       "      <th>some_college</th>\n",
       "      <td>0.192750</td>\n",
       "      <td>5821</td>\n",
       "      <td>0.790173</td>\n",
       "    </tr>\n",
       "  </tbody>\n",
       "</table>\n",
       "</div>"
      ],
      "text/plain": [
       "                  mean  count      risk\n",
       "education                              \n",
       "10th          0.063660    754  0.260974\n",
       "11th          0.049041    938  0.201040\n",
       "12th          0.083582    335  0.342642\n",
       "1st_4th       0.030769    130  0.126137\n",
       "5th_6th       0.056180    267  0.230307\n",
       "7th_8th       0.058939    509  0.241619\n",
       "9th           0.050239    418  0.205954\n",
       "assoc_acdm    0.253239    849  1.038145\n",
       "assoc_voc     0.264574   1115  1.084612\n",
       "bachelors     0.417924   4307  1.713266\n",
       "doctorate     0.730769    338  2.995763\n",
       "hs_grad       0.163021   8367  0.668300\n",
       "masters       0.558123   1385  2.288005\n",
       "preschool     0.000000     45  0.000000\n",
       "prof_school   0.736170    470  3.017904\n",
       "some_college  0.192750   5821  0.790173"
      ]
     },
     "metadata": {},
     "output_type": "display_data"
    },
    {
     "name": "stdout",
     "output_type": "stream",
     "text": [
      "\n",
      "\n",
      "marital_status\n"
     ]
    },
    {
     "data": {
      "text/html": [
       "<div>\n",
       "<style scoped>\n",
       "    .dataframe tbody tr th:only-of-type {\n",
       "        vertical-align: middle;\n",
       "    }\n",
       "\n",
       "    .dataframe tbody tr th {\n",
       "        vertical-align: top;\n",
       "    }\n",
       "\n",
       "    .dataframe thead th {\n",
       "        text-align: right;\n",
       "    }\n",
       "</style>\n",
       "<table border=\"1\" class=\"dataframe\">\n",
       "  <thead>\n",
       "    <tr style=\"text-align: right;\">\n",
       "      <th></th>\n",
       "      <th>mean</th>\n",
       "      <th>count</th>\n",
       "      <th>risk</th>\n",
       "    </tr>\n",
       "    <tr>\n",
       "      <th>marital_status</th>\n",
       "      <th></th>\n",
       "      <th></th>\n",
       "      <th></th>\n",
       "    </tr>\n",
       "  </thead>\n",
       "  <tbody>\n",
       "    <tr>\n",
       "      <th>divorced</th>\n",
       "      <td>0.103497</td>\n",
       "      <td>3575</td>\n",
       "      <td>0.424280</td>\n",
       "    </tr>\n",
       "    <tr>\n",
       "      <th>married_af_spouse</th>\n",
       "      <td>0.421053</td>\n",
       "      <td>19</td>\n",
       "      <td>1.726090</td>\n",
       "    </tr>\n",
       "    <tr>\n",
       "      <th>married_civ_spouse</th>\n",
       "      <td>0.452808</td>\n",
       "      <td>11983</td>\n",
       "      <td>1.856271</td>\n",
       "    </tr>\n",
       "    <tr>\n",
       "      <th>married_spouse_absent</th>\n",
       "      <td>0.086310</td>\n",
       "      <td>336</td>\n",
       "      <td>0.353823</td>\n",
       "    </tr>\n",
       "    <tr>\n",
       "      <th>never_married</th>\n",
       "      <td>0.046879</td>\n",
       "      <td>8554</td>\n",
       "      <td>0.192177</td>\n",
       "    </tr>\n",
       "    <tr>\n",
       "      <th>separated</th>\n",
       "      <td>0.064757</td>\n",
       "      <td>803</td>\n",
       "      <td>0.265470</td>\n",
       "    </tr>\n",
       "    <tr>\n",
       "      <th>widowed</th>\n",
       "      <td>0.087404</td>\n",
       "      <td>778</td>\n",
       "      <td>0.358308</td>\n",
       "    </tr>\n",
       "  </tbody>\n",
       "</table>\n",
       "</div>"
      ],
      "text/plain": [
       "                           mean  count      risk\n",
       "marital_status                                  \n",
       "divorced               0.103497   3575  0.424280\n",
       "married_af_spouse      0.421053     19  1.726090\n",
       "married_civ_spouse     0.452808  11983  1.856271\n",
       "married_spouse_absent  0.086310    336  0.353823\n",
       "never_married          0.046879   8554  0.192177\n",
       "separated              0.064757    803  0.265470\n",
       "widowed                0.087404    778  0.358308"
      ]
     },
     "metadata": {},
     "output_type": "display_data"
    },
    {
     "name": "stdout",
     "output_type": "stream",
     "text": [
      "\n",
      "\n",
      "occupation\n"
     ]
    },
    {
     "data": {
      "text/html": [
       "<div>\n",
       "<style scoped>\n",
       "    .dataframe tbody tr th:only-of-type {\n",
       "        vertical-align: middle;\n",
       "    }\n",
       "\n",
       "    .dataframe tbody tr th {\n",
       "        vertical-align: top;\n",
       "    }\n",
       "\n",
       "    .dataframe thead th {\n",
       "        text-align: right;\n",
       "    }\n",
       "</style>\n",
       "<table border=\"1\" class=\"dataframe\">\n",
       "  <thead>\n",
       "    <tr style=\"text-align: right;\">\n",
       "      <th></th>\n",
       "      <th>mean</th>\n",
       "      <th>count</th>\n",
       "      <th>risk</th>\n",
       "    </tr>\n",
       "    <tr>\n",
       "      <th>occupation</th>\n",
       "      <th></th>\n",
       "      <th></th>\n",
       "      <th></th>\n",
       "    </tr>\n",
       "  </thead>\n",
       "  <tbody>\n",
       "    <tr>\n",
       "      <th>?</th>\n",
       "      <td>0.101833</td>\n",
       "      <td>1473</td>\n",
       "      <td>0.417461</td>\n",
       "    </tr>\n",
       "    <tr>\n",
       "      <th>adm_clerical</th>\n",
       "      <td>0.137815</td>\n",
       "      <td>2975</td>\n",
       "      <td>0.564968</td>\n",
       "    </tr>\n",
       "    <tr>\n",
       "      <th>armed_forces</th>\n",
       "      <td>0.166667</td>\n",
       "      <td>6</td>\n",
       "      <td>0.683244</td>\n",
       "    </tr>\n",
       "    <tr>\n",
       "      <th>craft_repair</th>\n",
       "      <td>0.231990</td>\n",
       "      <td>3276</td>\n",
       "      <td>0.951036</td>\n",
       "    </tr>\n",
       "    <tr>\n",
       "      <th>exec_managerial</th>\n",
       "      <td>0.491038</td>\n",
       "      <td>3236</td>\n",
       "      <td>2.012994</td>\n",
       "    </tr>\n",
       "    <tr>\n",
       "      <th>farming_fishing</th>\n",
       "      <td>0.118404</td>\n",
       "      <td>777</td>\n",
       "      <td>0.485394</td>\n",
       "    </tr>\n",
       "    <tr>\n",
       "      <th>handlers_cleaners</th>\n",
       "      <td>0.065707</td>\n",
       "      <td>1111</td>\n",
       "      <td>0.269362</td>\n",
       "    </tr>\n",
       "    <tr>\n",
       "      <th>machine_op_inspct</th>\n",
       "      <td>0.129032</td>\n",
       "      <td>1612</td>\n",
       "      <td>0.528963</td>\n",
       "    </tr>\n",
       "    <tr>\n",
       "      <th>other_service</th>\n",
       "      <td>0.039728</td>\n",
       "      <td>2643</td>\n",
       "      <td>0.162862</td>\n",
       "    </tr>\n",
       "    <tr>\n",
       "      <th>priv_house_serv</th>\n",
       "      <td>0.008065</td>\n",
       "      <td>124</td>\n",
       "      <td>0.033060</td>\n",
       "    </tr>\n",
       "    <tr>\n",
       "      <th>prof_specialty</th>\n",
       "      <td>0.455338</td>\n",
       "      <td>3325</td>\n",
       "      <td>1.866644</td>\n",
       "    </tr>\n",
       "    <tr>\n",
       "      <th>protective_serv</th>\n",
       "      <td>0.329567</td>\n",
       "      <td>531</td>\n",
       "      <td>1.351048</td>\n",
       "    </tr>\n",
       "    <tr>\n",
       "      <th>sales</th>\n",
       "      <td>0.271888</td>\n",
       "      <td>2924</td>\n",
       "      <td>1.114595</td>\n",
       "    </tr>\n",
       "    <tr>\n",
       "      <th>tech_support</th>\n",
       "      <td>0.300000</td>\n",
       "      <td>750</td>\n",
       "      <td>1.229839</td>\n",
       "    </tr>\n",
       "    <tr>\n",
       "      <th>transport_moving</th>\n",
       "      <td>0.199222</td>\n",
       "      <td>1285</td>\n",
       "      <td>0.816703</td>\n",
       "    </tr>\n",
       "  </tbody>\n",
       "</table>\n",
       "</div>"
      ],
      "text/plain": [
       "                       mean  count      risk\n",
       "occupation                                  \n",
       "?                  0.101833   1473  0.417461\n",
       "adm_clerical       0.137815   2975  0.564968\n",
       "armed_forces       0.166667      6  0.683244\n",
       "craft_repair       0.231990   3276  0.951036\n",
       "exec_managerial    0.491038   3236  2.012994\n",
       "farming_fishing    0.118404    777  0.485394\n",
       "handlers_cleaners  0.065707   1111  0.269362\n",
       "machine_op_inspct  0.129032   1612  0.528963\n",
       "other_service      0.039728   2643  0.162862\n",
       "priv_house_serv    0.008065    124  0.033060\n",
       "prof_specialty     0.455338   3325  1.866644\n",
       "protective_serv    0.329567    531  1.351048\n",
       "sales              0.271888   2924  1.114595\n",
       "tech_support       0.300000    750  1.229839\n",
       "transport_moving   0.199222   1285  0.816703"
      ]
     },
     "metadata": {},
     "output_type": "display_data"
    },
    {
     "name": "stdout",
     "output_type": "stream",
     "text": [
      "\n",
      "\n",
      "relationship\n"
     ]
    },
    {
     "data": {
      "text/html": [
       "<div>\n",
       "<style scoped>\n",
       "    .dataframe tbody tr th:only-of-type {\n",
       "        vertical-align: middle;\n",
       "    }\n",
       "\n",
       "    .dataframe tbody tr th {\n",
       "        vertical-align: top;\n",
       "    }\n",
       "\n",
       "    .dataframe thead th {\n",
       "        text-align: right;\n",
       "    }\n",
       "</style>\n",
       "<table border=\"1\" class=\"dataframe\">\n",
       "  <thead>\n",
       "    <tr style=\"text-align: right;\">\n",
       "      <th></th>\n",
       "      <th>mean</th>\n",
       "      <th>count</th>\n",
       "      <th>risk</th>\n",
       "    </tr>\n",
       "    <tr>\n",
       "      <th>relationship</th>\n",
       "      <th></th>\n",
       "      <th></th>\n",
       "      <th></th>\n",
       "    </tr>\n",
       "  </thead>\n",
       "  <tbody>\n",
       "    <tr>\n",
       "      <th>husband</th>\n",
       "      <td>0.453744</td>\n",
       "      <td>10550</td>\n",
       "      <td>1.860108</td>\n",
       "    </tr>\n",
       "    <tr>\n",
       "      <th>not_in_family</th>\n",
       "      <td>0.103734</td>\n",
       "      <td>6642</td>\n",
       "      <td>0.425253</td>\n",
       "    </tr>\n",
       "    <tr>\n",
       "      <th>other_relative</th>\n",
       "      <td>0.041667</td>\n",
       "      <td>768</td>\n",
       "      <td>0.170811</td>\n",
       "    </tr>\n",
       "    <tr>\n",
       "      <th>own_child</th>\n",
       "      <td>0.013213</td>\n",
       "      <td>4087</td>\n",
       "      <td>0.054165</td>\n",
       "    </tr>\n",
       "    <tr>\n",
       "      <th>unmarried</th>\n",
       "      <td>0.064575</td>\n",
       "      <td>2741</td>\n",
       "      <td>0.264723</td>\n",
       "    </tr>\n",
       "    <tr>\n",
       "      <th>wife</th>\n",
       "      <td>0.488095</td>\n",
       "      <td>1260</td>\n",
       "      <td>2.000929</td>\n",
       "    </tr>\n",
       "  </tbody>\n",
       "</table>\n",
       "</div>"
      ],
      "text/plain": [
       "                    mean  count      risk\n",
       "relationship                             \n",
       "husband         0.453744  10550  1.860108\n",
       "not_in_family   0.103734   6642  0.425253\n",
       "other_relative  0.041667    768  0.170811\n",
       "own_child       0.013213   4087  0.054165\n",
       "unmarried       0.064575   2741  0.264723\n",
       "wife            0.488095   1260  2.000929"
      ]
     },
     "metadata": {},
     "output_type": "display_data"
    },
    {
     "name": "stdout",
     "output_type": "stream",
     "text": [
      "\n",
      "\n",
      "race\n"
     ]
    },
    {
     "data": {
      "text/html": [
       "<div>\n",
       "<style scoped>\n",
       "    .dataframe tbody tr th:only-of-type {\n",
       "        vertical-align: middle;\n",
       "    }\n",
       "\n",
       "    .dataframe tbody tr th {\n",
       "        vertical-align: top;\n",
       "    }\n",
       "\n",
       "    .dataframe thead th {\n",
       "        text-align: right;\n",
       "    }\n",
       "</style>\n",
       "<table border=\"1\" class=\"dataframe\">\n",
       "  <thead>\n",
       "    <tr style=\"text-align: right;\">\n",
       "      <th></th>\n",
       "      <th>mean</th>\n",
       "      <th>count</th>\n",
       "      <th>risk</th>\n",
       "    </tr>\n",
       "    <tr>\n",
       "      <th>race</th>\n",
       "      <th></th>\n",
       "      <th></th>\n",
       "      <th></th>\n",
       "    </tr>\n",
       "  </thead>\n",
       "  <tbody>\n",
       "    <tr>\n",
       "      <th>amer_indian_eskimo</th>\n",
       "      <td>0.126016</td>\n",
       "      <td>246</td>\n",
       "      <td>0.516599</td>\n",
       "    </tr>\n",
       "    <tr>\n",
       "      <th>asian_pac_islander</th>\n",
       "      <td>0.274005</td>\n",
       "      <td>854</td>\n",
       "      <td>1.123273</td>\n",
       "    </tr>\n",
       "    <tr>\n",
       "      <th>black</th>\n",
       "      <td>0.121883</td>\n",
       "      <td>2486</td>\n",
       "      <td>0.499653</td>\n",
       "    </tr>\n",
       "    <tr>\n",
       "      <th>other</th>\n",
       "      <td>0.099057</td>\n",
       "      <td>212</td>\n",
       "      <td>0.406079</td>\n",
       "    </tr>\n",
       "    <tr>\n",
       "      <th>white</th>\n",
       "      <td>0.259101</td>\n",
       "      <td>22250</td>\n",
       "      <td>1.062176</td>\n",
       "    </tr>\n",
       "  </tbody>\n",
       "</table>\n",
       "</div>"
      ],
      "text/plain": [
       "                        mean  count      risk\n",
       "race                                         \n",
       "amer_indian_eskimo  0.126016    246  0.516599\n",
       "asian_pac_islander  0.274005    854  1.123273\n",
       "black               0.121883   2486  0.499653\n",
       "other               0.099057    212  0.406079\n",
       "white               0.259101  22250  1.062176"
      ]
     },
     "metadata": {},
     "output_type": "display_data"
    },
    {
     "name": "stdout",
     "output_type": "stream",
     "text": [
      "\n",
      "\n",
      "sex\n"
     ]
    },
    {
     "data": {
      "text/html": [
       "<div>\n",
       "<style scoped>\n",
       "    .dataframe tbody tr th:only-of-type {\n",
       "        vertical-align: middle;\n",
       "    }\n",
       "\n",
       "    .dataframe tbody tr th {\n",
       "        vertical-align: top;\n",
       "    }\n",
       "\n",
       "    .dataframe thead th {\n",
       "        text-align: right;\n",
       "    }\n",
       "</style>\n",
       "<table border=\"1\" class=\"dataframe\">\n",
       "  <thead>\n",
       "    <tr style=\"text-align: right;\">\n",
       "      <th></th>\n",
       "      <th>mean</th>\n",
       "      <th>count</th>\n",
       "      <th>risk</th>\n",
       "    </tr>\n",
       "    <tr>\n",
       "      <th>sex</th>\n",
       "      <th></th>\n",
       "      <th></th>\n",
       "      <th></th>\n",
       "    </tr>\n",
       "  </thead>\n",
       "  <tbody>\n",
       "    <tr>\n",
       "      <th>female</th>\n",
       "      <td>0.111821</td>\n",
       "      <td>8612</td>\n",
       "      <td>0.458405</td>\n",
       "    </tr>\n",
       "    <tr>\n",
       "      <th>male</th>\n",
       "      <td>0.309188</td>\n",
       "      <td>17436</td>\n",
       "      <td>1.267505</td>\n",
       "    </tr>\n",
       "  </tbody>\n",
       "</table>\n",
       "</div>"
      ],
      "text/plain": [
       "            mean  count      risk\n",
       "sex                              \n",
       "female  0.111821   8612  0.458405\n",
       "male    0.309188  17436  1.267505"
      ]
     },
     "metadata": {},
     "output_type": "display_data"
    },
    {
     "name": "stdout",
     "output_type": "stream",
     "text": [
      "\n",
      "\n",
      "native_country\n"
     ]
    },
    {
     "data": {
      "text/html": [
       "<div>\n",
       "<style scoped>\n",
       "    .dataframe tbody tr th:only-of-type {\n",
       "        vertical-align: middle;\n",
       "    }\n",
       "\n",
       "    .dataframe tbody tr th {\n",
       "        vertical-align: top;\n",
       "    }\n",
       "\n",
       "    .dataframe thead th {\n",
       "        text-align: right;\n",
       "    }\n",
       "</style>\n",
       "<table border=\"1\" class=\"dataframe\">\n",
       "  <thead>\n",
       "    <tr style=\"text-align: right;\">\n",
       "      <th></th>\n",
       "      <th>mean</th>\n",
       "      <th>count</th>\n",
       "      <th>risk</th>\n",
       "    </tr>\n",
       "    <tr>\n",
       "      <th>native_country</th>\n",
       "      <th></th>\n",
       "      <th></th>\n",
       "      <th></th>\n",
       "    </tr>\n",
       "  </thead>\n",
       "  <tbody>\n",
       "    <tr>\n",
       "      <th>?</th>\n",
       "      <td>0.248971</td>\n",
       "      <td>486</td>\n",
       "      <td>1.020649</td>\n",
       "    </tr>\n",
       "    <tr>\n",
       "      <th>cambodia</th>\n",
       "      <td>0.428571</td>\n",
       "      <td>14</td>\n",
       "      <td>1.756914</td>\n",
       "    </tr>\n",
       "    <tr>\n",
       "      <th>canada</th>\n",
       "      <td>0.308511</td>\n",
       "      <td>94</td>\n",
       "      <td>1.264729</td>\n",
       "    </tr>\n",
       "    <tr>\n",
       "      <th>china</th>\n",
       "      <td>0.278689</td>\n",
       "      <td>61</td>\n",
       "      <td>1.142474</td>\n",
       "    </tr>\n",
       "    <tr>\n",
       "      <th>columbia</th>\n",
       "      <td>0.000000</td>\n",
       "      <td>40</td>\n",
       "      <td>0.000000</td>\n",
       "    </tr>\n",
       "    <tr>\n",
       "      <th>cuba</th>\n",
       "      <td>0.282051</td>\n",
       "      <td>78</td>\n",
       "      <td>1.156259</td>\n",
       "    </tr>\n",
       "    <tr>\n",
       "      <th>dominican_republic</th>\n",
       "      <td>0.030769</td>\n",
       "      <td>65</td>\n",
       "      <td>0.126137</td>\n",
       "    </tr>\n",
       "    <tr>\n",
       "      <th>ecuador</th>\n",
       "      <td>0.136364</td>\n",
       "      <td>22</td>\n",
       "      <td>0.559018</td>\n",
       "    </tr>\n",
       "    <tr>\n",
       "      <th>el_salvador</th>\n",
       "      <td>0.083333</td>\n",
       "      <td>84</td>\n",
       "      <td>0.341622</td>\n",
       "    </tr>\n",
       "    <tr>\n",
       "      <th>england</th>\n",
       "      <td>0.366197</td>\n",
       "      <td>71</td>\n",
       "      <td>1.501213</td>\n",
       "    </tr>\n",
       "    <tr>\n",
       "      <th>france</th>\n",
       "      <td>0.440000</td>\n",
       "      <td>25</td>\n",
       "      <td>1.803765</td>\n",
       "    </tr>\n",
       "    <tr>\n",
       "      <th>germany</th>\n",
       "      <td>0.315789</td>\n",
       "      <td>114</td>\n",
       "      <td>1.294568</td>\n",
       "    </tr>\n",
       "    <tr>\n",
       "      <th>greece</th>\n",
       "      <td>0.269231</td>\n",
       "      <td>26</td>\n",
       "      <td>1.103702</td>\n",
       "    </tr>\n",
       "    <tr>\n",
       "      <th>guatemala</th>\n",
       "      <td>0.019608</td>\n",
       "      <td>51</td>\n",
       "      <td>0.080382</td>\n",
       "    </tr>\n",
       "    <tr>\n",
       "      <th>haiti</th>\n",
       "      <td>0.055556</td>\n",
       "      <td>36</td>\n",
       "      <td>0.227748</td>\n",
       "    </tr>\n",
       "    <tr>\n",
       "      <th>honduras</th>\n",
       "      <td>0.142857</td>\n",
       "      <td>7</td>\n",
       "      <td>0.585638</td>\n",
       "    </tr>\n",
       "    <tr>\n",
       "      <th>hong</th>\n",
       "      <td>0.294118</td>\n",
       "      <td>17</td>\n",
       "      <td>1.205725</td>\n",
       "    </tr>\n",
       "    <tr>\n",
       "      <th>hungary</th>\n",
       "      <td>0.250000</td>\n",
       "      <td>12</td>\n",
       "      <td>1.024866</td>\n",
       "    </tr>\n",
       "    <tr>\n",
       "      <th>india</th>\n",
       "      <td>0.392857</td>\n",
       "      <td>84</td>\n",
       "      <td>1.610504</td>\n",
       "    </tr>\n",
       "    <tr>\n",
       "      <th>iran</th>\n",
       "      <td>0.432432</td>\n",
       "      <td>37</td>\n",
       "      <td>1.772742</td>\n",
       "    </tr>\n",
       "    <tr>\n",
       "      <th>ireland</th>\n",
       "      <td>0.166667</td>\n",
       "      <td>18</td>\n",
       "      <td>0.683244</td>\n",
       "    </tr>\n",
       "    <tr>\n",
       "      <th>italy</th>\n",
       "      <td>0.345455</td>\n",
       "      <td>55</td>\n",
       "      <td>1.416179</td>\n",
       "    </tr>\n",
       "    <tr>\n",
       "      <th>jamaica</th>\n",
       "      <td>0.090909</td>\n",
       "      <td>66</td>\n",
       "      <td>0.372679</td>\n",
       "    </tr>\n",
       "    <tr>\n",
       "      <th>japan</th>\n",
       "      <td>0.377358</td>\n",
       "      <td>53</td>\n",
       "      <td>1.546968</td>\n",
       "    </tr>\n",
       "    <tr>\n",
       "      <th>laos</th>\n",
       "      <td>0.142857</td>\n",
       "      <td>14</td>\n",
       "      <td>0.585638</td>\n",
       "    </tr>\n",
       "    <tr>\n",
       "      <th>mexico</th>\n",
       "      <td>0.051485</td>\n",
       "      <td>505</td>\n",
       "      <td>0.211062</td>\n",
       "    </tr>\n",
       "    <tr>\n",
       "      <th>nicaragua</th>\n",
       "      <td>0.076923</td>\n",
       "      <td>26</td>\n",
       "      <td>0.315343</td>\n",
       "    </tr>\n",
       "    <tr>\n",
       "      <th>outlying_us(guam_usvi_etc)</th>\n",
       "      <td>0.000000</td>\n",
       "      <td>10</td>\n",
       "      <td>0.000000</td>\n",
       "    </tr>\n",
       "    <tr>\n",
       "      <th>peru</th>\n",
       "      <td>0.000000</td>\n",
       "      <td>23</td>\n",
       "      <td>0.000000</td>\n",
       "    </tr>\n",
       "    <tr>\n",
       "      <th>philippines</th>\n",
       "      <td>0.312500</td>\n",
       "      <td>160</td>\n",
       "      <td>1.281083</td>\n",
       "    </tr>\n",
       "    <tr>\n",
       "      <th>poland</th>\n",
       "      <td>0.188679</td>\n",
       "      <td>53</td>\n",
       "      <td>0.773484</td>\n",
       "    </tr>\n",
       "    <tr>\n",
       "      <th>portugal</th>\n",
       "      <td>0.137931</td>\n",
       "      <td>29</td>\n",
       "      <td>0.565443</td>\n",
       "    </tr>\n",
       "    <tr>\n",
       "      <th>puerto_rico</th>\n",
       "      <td>0.103448</td>\n",
       "      <td>87</td>\n",
       "      <td>0.424083</td>\n",
       "    </tr>\n",
       "    <tr>\n",
       "      <th>scotland</th>\n",
       "      <td>0.333333</td>\n",
       "      <td>9</td>\n",
       "      <td>1.366488</td>\n",
       "    </tr>\n",
       "    <tr>\n",
       "      <th>south</th>\n",
       "      <td>0.241935</td>\n",
       "      <td>62</td>\n",
       "      <td>0.991806</td>\n",
       "    </tr>\n",
       "    <tr>\n",
       "      <th>taiwan</th>\n",
       "      <td>0.386364</td>\n",
       "      <td>44</td>\n",
       "      <td>1.583884</td>\n",
       "    </tr>\n",
       "    <tr>\n",
       "      <th>thailand</th>\n",
       "      <td>0.200000</td>\n",
       "      <td>15</td>\n",
       "      <td>0.819893</td>\n",
       "    </tr>\n",
       "    <tr>\n",
       "      <th>trinadad&amp;tobago</th>\n",
       "      <td>0.125000</td>\n",
       "      <td>16</td>\n",
       "      <td>0.512433</td>\n",
       "    </tr>\n",
       "    <tr>\n",
       "      <th>united_states</th>\n",
       "      <td>0.249078</td>\n",
       "      <td>23314</td>\n",
       "      <td>1.021086</td>\n",
       "    </tr>\n",
       "    <tr>\n",
       "      <th>vietnam</th>\n",
       "      <td>0.096154</td>\n",
       "      <td>52</td>\n",
       "      <td>0.394179</td>\n",
       "    </tr>\n",
       "    <tr>\n",
       "      <th>yugoslavia</th>\n",
       "      <td>0.230769</td>\n",
       "      <td>13</td>\n",
       "      <td>0.946030</td>\n",
       "    </tr>\n",
       "  </tbody>\n",
       "</table>\n",
       "</div>"
      ],
      "text/plain": [
       "                                mean  count      risk\n",
       "native_country                                       \n",
       "?                           0.248971    486  1.020649\n",
       "cambodia                    0.428571     14  1.756914\n",
       "canada                      0.308511     94  1.264729\n",
       "china                       0.278689     61  1.142474\n",
       "columbia                    0.000000     40  0.000000\n",
       "cuba                        0.282051     78  1.156259\n",
       "dominican_republic          0.030769     65  0.126137\n",
       "ecuador                     0.136364     22  0.559018\n",
       "el_salvador                 0.083333     84  0.341622\n",
       "england                     0.366197     71  1.501213\n",
       "france                      0.440000     25  1.803765\n",
       "germany                     0.315789    114  1.294568\n",
       "greece                      0.269231     26  1.103702\n",
       "guatemala                   0.019608     51  0.080382\n",
       "haiti                       0.055556     36  0.227748\n",
       "honduras                    0.142857      7  0.585638\n",
       "hong                        0.294118     17  1.205725\n",
       "hungary                     0.250000     12  1.024866\n",
       "india                       0.392857     84  1.610504\n",
       "iran                        0.432432     37  1.772742\n",
       "ireland                     0.166667     18  0.683244\n",
       "italy                       0.345455     55  1.416179\n",
       "jamaica                     0.090909     66  0.372679\n",
       "japan                       0.377358     53  1.546968\n",
       "laos                        0.142857     14  0.585638\n",
       "mexico                      0.051485    505  0.211062\n",
       "nicaragua                   0.076923     26  0.315343\n",
       "outlying_us(guam_usvi_etc)  0.000000     10  0.000000\n",
       "peru                        0.000000     23  0.000000\n",
       "philippines                 0.312500    160  1.281083\n",
       "poland                      0.188679     53  0.773484\n",
       "portugal                    0.137931     29  0.565443\n",
       "puerto_rico                 0.103448     87  0.424083\n",
       "scotland                    0.333333      9  1.366488\n",
       "south                       0.241935     62  0.991806\n",
       "taiwan                      0.386364     44  1.583884\n",
       "thailand                    0.200000     15  0.819893\n",
       "trinadad&tobago             0.125000     16  0.512433\n",
       "united_states               0.249078  23314  1.021086\n",
       "vietnam                     0.096154     52  0.394179\n",
       "yugoslavia                  0.230769     13  0.946030"
      ]
     },
     "metadata": {},
     "output_type": "display_data"
    },
    {
     "name": "stdout",
     "output_type": "stream",
     "text": [
      "\n",
      "\n",
      "us_native\n"
     ]
    },
    {
     "data": {
      "text/html": [
       "<div>\n",
       "<style scoped>\n",
       "    .dataframe tbody tr th:only-of-type {\n",
       "        vertical-align: middle;\n",
       "    }\n",
       "\n",
       "    .dataframe tbody tr th {\n",
       "        vertical-align: top;\n",
       "    }\n",
       "\n",
       "    .dataframe thead th {\n",
       "        text-align: right;\n",
       "    }\n",
       "</style>\n",
       "<table border=\"1\" class=\"dataframe\">\n",
       "  <thead>\n",
       "    <tr style=\"text-align: right;\">\n",
       "      <th></th>\n",
       "      <th>mean</th>\n",
       "      <th>count</th>\n",
       "      <th>risk</th>\n",
       "    </tr>\n",
       "    <tr>\n",
       "      <th>us_native</th>\n",
       "      <th></th>\n",
       "      <th></th>\n",
       "      <th></th>\n",
       "    </tr>\n",
       "  </thead>\n",
       "  <tbody>\n",
       "    <tr>\n",
       "      <th>other</th>\n",
       "      <td>0.200073</td>\n",
       "      <td>2734</td>\n",
       "      <td>0.820193</td>\n",
       "    </tr>\n",
       "    <tr>\n",
       "      <th>united_states</th>\n",
       "      <td>0.249078</td>\n",
       "      <td>23314</td>\n",
       "      <td>1.021086</td>\n",
       "    </tr>\n",
       "  </tbody>\n",
       "</table>\n",
       "</div>"
      ],
      "text/plain": [
       "                   mean  count      risk\n",
       "us_native                               \n",
       "other          0.200073   2734  0.820193\n",
       "united_states  0.249078  23314  1.021086"
      ]
     },
     "metadata": {},
     "output_type": "display_data"
    },
    {
     "name": "stdout",
     "output_type": "stream",
     "text": [
      "\n",
      "\n"
     ]
    }
   ],
   "source": [
    "for c in categorical:\n",
    "    print(c)\n",
    "    df_group = df_full_train.groupby(c).greater_than_50k.agg(['mean', 'count'])\n",
    "    df_group_diff = df_group['mean'] - global_over50k_rate\n",
    "    df_group['risk'] = df_group['mean'] / global_over50k_rate\n",
    "    display(df_group)\n",
    "    print()\n",
    "    print()"
   ]
  },
  {
   "cell_type": "code",
   "execution_count": 54,
   "id": "49008531",
   "metadata": {},
   "outputs": [
    {
     "data": {
      "text/plain": [
       "99999      125\n",
       "41310        2\n",
       "34095        4\n",
       "27828       26\n",
       "25236        9\n",
       "         ...  \n",
       "914          6\n",
       "594         24\n",
       "401          2\n",
       "114          5\n",
       "0        23857\n",
       "Name: capital_gain, Length: 116, dtype: int64"
      ]
     },
     "execution_count": 54,
     "metadata": {},
     "output_type": "execute_result"
    }
   ],
   "source": [
    "df_full_train.capital_gain.value_counts().sort_index(ascending=False)"
   ]
  },
  {
   "cell_type": "code",
   "execution_count": 55,
   "id": "4f7ea8ba",
   "metadata": {},
   "outputs": [
    {
     "data": {
      "text/plain": [
       "1     14\n",
       "2     25\n",
       "3     32\n",
       "4     48\n",
       "5     49\n",
       "      ..\n",
       "95     1\n",
       "96     3\n",
       "97     1\n",
       "98     9\n",
       "99    68\n",
       "Name: hours_per_week, Length: 93, dtype: int64"
      ]
     },
     "execution_count": 55,
     "metadata": {},
     "output_type": "execute_result"
    }
   ],
   "source": [
    "df_full_train.hours_per_week.value_counts().sort_index()"
   ]
  },
  {
   "cell_type": "markdown",
   "id": "7808ae81",
   "metadata": {},
   "source": [
    "#### I should have maybe removed some rows where the values were probably fake (max of the dataset).  for instructions on how to do that look in video 6.2 around 8 minutes in, maybe a little earlier.  but really all that should have been done before splitting up into sets, so when you decide to do it, do it earlier in the notebook"
   ]
  },
  {
   "cell_type": "code",
   "execution_count": 56,
   "id": "b047d99d",
   "metadata": {},
   "outputs": [
    {
     "data": {
      "text/plain": [
       "16"
      ]
     },
     "execution_count": 56,
     "metadata": {},
     "output_type": "execute_result"
    }
   ],
   "source": [
    "len(df_full_train.education.unique())"
   ]
  },
  {
   "cell_type": "markdown",
   "id": "574511e9",
   "metadata": {},
   "source": [
    "## Mutual Information (3.6)"
   ]
  },
  {
   "cell_type": "markdown",
   "id": "3429522a",
   "metadata": {},
   "source": [
    "### A better way to see the importance of the categorical variables"
   ]
  },
  {
   "cell_type": "code",
   "execution_count": 57,
   "id": "9ec362cf",
   "metadata": {},
   "outputs": [],
   "source": [
    "from sklearn.metrics import mutual_info_score"
   ]
  },
  {
   "cell_type": "code",
   "execution_count": 58,
   "id": "e6362f74",
   "metadata": {},
   "outputs": [
    {
     "name": "stdout",
     "output_type": "stream",
     "text": [
      "workclass ----> 0.015484660991721078\n",
      "education ----> 0.06510886597926843\n",
      "marital_status ----> 0.11041451810505261\n",
      "occupation ----> 0.06588872485542067\n",
      "relationship ----> 0.11676318197815819\n",
      "race ----> 0.00604379173802283\n",
      "sex ----> 0.02577722046756832\n",
      "native_country ----> 0.006528153843910634\n",
      "us_native ----> 0.0006361146801989043\n"
     ]
    }
   ],
   "source": [
    "for i in categorical:\n",
    "    mutual_info = mutual_info_score(df_full_train.greater_than_50k, df_full_train[i])\n",
    "    print(i, \"---->\",  mutual_info)"
   ]
  },
  {
   "cell_type": "code",
   "execution_count": 60,
   "id": "366d2f09",
   "metadata": {},
   "outputs": [],
   "source": [
    "# better way to do it\n",
    "def mutual_info_rate_score(series):\n",
    "    return mutual_info_score(series, df_full_train.greater_than_50k)"
   ]
  },
  {
   "cell_type": "code",
   "execution_count": 61,
   "id": "ffb53639",
   "metadata": {},
   "outputs": [
    {
     "data": {
      "text/plain": [
       "relationship      0.116763\n",
       "marital_status    0.110415\n",
       "occupation        0.065889\n",
       "education         0.065109\n",
       "sex               0.025777\n",
       "workclass         0.015485\n",
       "native_country    0.006528\n",
       "race              0.006044\n",
       "us_native         0.000636\n",
       "dtype: float64"
      ]
     },
     "execution_count": 61,
     "metadata": {},
     "output_type": "execute_result"
    }
   ],
   "source": [
    "# applying our mutual_info calculator function to the cattegorical cols and sorting them by most important\n",
    "df_full_train[categorical].apply(mutual_info_rate_score).sort_values(ascending=False)"
   ]
  },
  {
   "cell_type": "markdown",
   "id": "2d399933",
   "metadata": {},
   "source": [
    "## Feature importance: Correlation (3.7)"
   ]
  },
  {
   "cell_type": "markdown",
   "id": "a0befd6b",
   "metadata": {},
   "source": [
    "### while mutual information is for categorical features, correlation is for numerical"
   ]
  },
  {
   "cell_type": "code",
   "execution_count": 62,
   "id": "89335d73",
   "metadata": {},
   "outputs": [
    {
     "data": {
      "text/plain": [
       "greater_than_50k    1.000000\n",
       "education_num       0.335926\n",
       "hours_per_week      0.234797\n",
       "age                 0.232541\n",
       "capital_gain        0.223440\n",
       "capital_loss        0.149641\n",
       "fnlwgt             -0.006218\n",
       "Name: greater_than_50k, dtype: float64"
      ]
     },
     "execution_count": 62,
     "metadata": {},
     "output_type": "execute_result"
    }
   ],
   "source": [
    "# I did this on my own while he was talking\n",
    "df_full_train.corr()['greater_than_50k'].sort_values(ascending=False)"
   ]
  },
  {
   "cell_type": "code",
   "execution_count": 63,
   "id": "6486c0e5",
   "metadata": {},
   "outputs": [
    {
     "data": {
      "text/plain": [
       "education_num     0.335926\n",
       "hours_per_week    0.234797\n",
       "age               0.232541\n",
       "capital_gain      0.223440\n",
       "capital_loss      0.149641\n",
       "fnlwgt           -0.006218\n",
       "dtype: float64"
      ]
     },
     "execution_count": 63,
     "metadata": {},
     "output_type": "execute_result"
    }
   ],
   "source": [
    "# this is what he showed up in the lesson.  Gets the same result\n",
    "df_full_train[numerical].corrwith(df_full_train.greater_than_50k).sort_values(ascending=False)"
   ]
  },
  {
   "cell_type": "code",
   "execution_count": 64,
   "id": "414f648f",
   "metadata": {},
   "outputs": [
    {
     "data": {
      "text/plain": [
       "25437    16\n",
       "19810    16\n",
       "32222    16\n",
       "5668     16\n",
       "16482    16\n",
       "         ..\n",
       "24698     1\n",
       "21388     1\n",
       "7070      1\n",
       "26606     1\n",
       "22167     1\n",
       "Name: education_num, Length: 26048, dtype: int64"
      ]
     },
     "execution_count": 64,
     "metadata": {},
     "output_type": "execute_result"
    }
   ],
   "source": [
    "df_full_train['education_num'].sort_values(ascending=False)"
   ]
  },
  {
   "cell_type": "code",
   "execution_count": 65,
   "id": "da3f253b",
   "metadata": {},
   "outputs": [
    {
     "data": {
      "text/plain": [
       "0.43431001890359167"
      ]
     },
     "execution_count": 65,
     "metadata": {},
     "output_type": "execute_result"
    }
   ],
   "source": [
    "# good way to see how areas of the distribution of a variable fair in terms of the target\n",
    "df_full_train[df_full_train.education_num > 10].greater_than_50k.mean()"
   ]
  },
  {
   "cell_type": "code",
   "execution_count": 66,
   "id": "7d90cf0f",
   "metadata": {},
   "outputs": [
    {
     "data": {
      "text/plain": [
       "0.13227918048116977"
      ]
     },
     "execution_count": 66,
     "metadata": {},
     "output_type": "execute_result"
    }
   ],
   "source": [
    "df_full_train[df_full_train.education_num < 10].greater_than_50k.mean()"
   ]
  },
  {
   "cell_type": "code",
   "execution_count": 67,
   "id": "5ba17bbb",
   "metadata": {},
   "outputs": [
    {
     "data": {
      "text/plain": [
       "education_num     0.335926\n",
       "hours_per_week    0.234797\n",
       "age               0.232541\n",
       "capital_gain      0.223440\n",
       "capital_loss      0.149641\n",
       "fnlwgt            0.006218\n",
       "dtype: float64"
      ]
     },
     "execution_count": 67,
     "metadata": {},
     "output_type": "execute_result"
    }
   ],
   "source": [
    "# if we just want to see the absolute correlations are dont care about whether they are positiv or negative\n",
    "df_full_train[numerical].corrwith(df_full_train.greater_than_50k).abs().sort_values(ascending=False)"
   ]
  },
  {
   "cell_type": "markdown",
   "id": "04d83668",
   "metadata": {},
   "source": [
    "## One-hot encoding"
   ]
  },
  {
   "cell_type": "code",
   "execution_count": 68,
   "id": "133f62cb",
   "metadata": {},
   "outputs": [],
   "source": [
    "# from video 3.8 (using sklearn)\n",
    "from sklearn.feature_extraction import DictVectorizer"
   ]
  },
  {
   "cell_type": "code",
   "execution_count": 69,
   "id": "f7d92430",
   "metadata": {},
   "outputs": [
    {
     "data": {
      "text/plain": [
       "Index(['age', 'workclass', 'fnlwgt', 'education', 'education_num',\n",
       "       'marital_status', 'occupation', 'relationship', 'race', 'sex',\n",
       "       'capital_gain', 'capital_loss', 'hours_per_week', 'native_country',\n",
       "       'us_native'],\n",
       "      dtype='object')"
      ]
     },
     "execution_count": 69,
     "metadata": {},
     "output_type": "execute_result"
    }
   ],
   "source": [
    "df_train.columns"
   ]
  },
  {
   "cell_type": "code",
   "execution_count": 70,
   "id": "6882f70f",
   "metadata": {},
   "outputs": [],
   "source": [
    "# you dont have to specify the categorical cols, DictVectorizer is smart enogh to recognize them\n",
    "train_dicts = df_train.to_dict(orient='records')"
   ]
  },
  {
   "cell_type": "code",
   "execution_count": 71,
   "id": "92bbe16a",
   "metadata": {},
   "outputs": [
    {
     "data": {
      "text/plain": [
       "{'age': 47,\n",
       " 'workclass': 'private',\n",
       " 'fnlwgt': 199058,\n",
       " 'education': 'hs_grad',\n",
       " 'education_num': 9,\n",
       " 'marital_status': 'married_civ_spouse',\n",
       " 'occupation': 'craft_repair',\n",
       " 'relationship': 'husband',\n",
       " 'race': 'white',\n",
       " 'sex': 'male',\n",
       " 'capital_gain': 0,\n",
       " 'capital_loss': 0,\n",
       " 'hours_per_week': 40,\n",
       " 'native_country': 'united_states',\n",
       " 'us_native': 'united_states'}"
      ]
     },
     "execution_count": 71,
     "metadata": {},
     "output_type": "execute_result"
    }
   ],
   "source": [
    "train_dicts[0]"
   ]
  },
  {
   "cell_type": "code",
   "execution_count": 72,
   "id": "025947d5",
   "metadata": {},
   "outputs": [],
   "source": [
    "dv = DictVectorizer(sparse=False)"
   ]
  },
  {
   "cell_type": "code",
   "execution_count": 73,
   "id": "e255e258",
   "metadata": {},
   "outputs": [],
   "source": [
    "X_train = dv.fit_transform(train_dicts)"
   ]
  },
  {
   "cell_type": "code",
   "execution_count": 74,
   "id": "d87db996",
   "metadata": {},
   "outputs": [
    {
     "data": {
      "text/plain": [
       "(19536, 109)"
      ]
     },
     "execution_count": 74,
     "metadata": {},
     "output_type": "execute_result"
    }
   ],
   "source": [
    "X_train.shape"
   ]
  },
  {
   "cell_type": "markdown",
   "id": "3f16a992",
   "metadata": {},
   "source": [
    "## Logistic Regression"
   ]
  },
  {
   "cell_type": "markdown",
   "id": "d1bbe75a",
   "metadata": {},
   "source": [
    "### Training Logistic regression with scikit-learn"
   ]
  },
  {
   "cell_type": "code",
   "execution_count": 75,
   "id": "b9026d34",
   "metadata": {},
   "outputs": [],
   "source": [
    "from sklearn.linear_model import LogisticRegression"
   ]
  },
  {
   "cell_type": "code",
   "execution_count": 76,
   "id": "5a2ed339",
   "metadata": {},
   "outputs": [
    {
     "data": {
      "text/html": [
       "<style>#sk-container-id-1 {color: black;background-color: white;}#sk-container-id-1 pre{padding: 0;}#sk-container-id-1 div.sk-toggleable {background-color: white;}#sk-container-id-1 label.sk-toggleable__label {cursor: pointer;display: block;width: 100%;margin-bottom: 0;padding: 0.3em;box-sizing: border-box;text-align: center;}#sk-container-id-1 label.sk-toggleable__label-arrow:before {content: \"▸\";float: left;margin-right: 0.25em;color: #696969;}#sk-container-id-1 label.sk-toggleable__label-arrow:hover:before {color: black;}#sk-container-id-1 div.sk-estimator:hover label.sk-toggleable__label-arrow:before {color: black;}#sk-container-id-1 div.sk-toggleable__content {max-height: 0;max-width: 0;overflow: hidden;text-align: left;background-color: #f0f8ff;}#sk-container-id-1 div.sk-toggleable__content pre {margin: 0.2em;color: black;border-radius: 0.25em;background-color: #f0f8ff;}#sk-container-id-1 input.sk-toggleable__control:checked~div.sk-toggleable__content {max-height: 200px;max-width: 100%;overflow: auto;}#sk-container-id-1 input.sk-toggleable__control:checked~label.sk-toggleable__label-arrow:before {content: \"▾\";}#sk-container-id-1 div.sk-estimator input.sk-toggleable__control:checked~label.sk-toggleable__label {background-color: #d4ebff;}#sk-container-id-1 div.sk-label input.sk-toggleable__control:checked~label.sk-toggleable__label {background-color: #d4ebff;}#sk-container-id-1 input.sk-hidden--visually {border: 0;clip: rect(1px 1px 1px 1px);clip: rect(1px, 1px, 1px, 1px);height: 1px;margin: -1px;overflow: hidden;padding: 0;position: absolute;width: 1px;}#sk-container-id-1 div.sk-estimator {font-family: monospace;background-color: #f0f8ff;border: 1px dotted black;border-radius: 0.25em;box-sizing: border-box;margin-bottom: 0.5em;}#sk-container-id-1 div.sk-estimator:hover {background-color: #d4ebff;}#sk-container-id-1 div.sk-parallel-item::after {content: \"\";width: 100%;border-bottom: 1px solid gray;flex-grow: 1;}#sk-container-id-1 div.sk-label:hover label.sk-toggleable__label {background-color: #d4ebff;}#sk-container-id-1 div.sk-serial::before {content: \"\";position: absolute;border-left: 1px solid gray;box-sizing: border-box;top: 0;bottom: 0;left: 50%;z-index: 0;}#sk-container-id-1 div.sk-serial {display: flex;flex-direction: column;align-items: center;background-color: white;padding-right: 0.2em;padding-left: 0.2em;position: relative;}#sk-container-id-1 div.sk-item {position: relative;z-index: 1;}#sk-container-id-1 div.sk-parallel {display: flex;align-items: stretch;justify-content: center;background-color: white;position: relative;}#sk-container-id-1 div.sk-item::before, #sk-container-id-1 div.sk-parallel-item::before {content: \"\";position: absolute;border-left: 1px solid gray;box-sizing: border-box;top: 0;bottom: 0;left: 50%;z-index: -1;}#sk-container-id-1 div.sk-parallel-item {display: flex;flex-direction: column;z-index: 1;position: relative;background-color: white;}#sk-container-id-1 div.sk-parallel-item:first-child::after {align-self: flex-end;width: 50%;}#sk-container-id-1 div.sk-parallel-item:last-child::after {align-self: flex-start;width: 50%;}#sk-container-id-1 div.sk-parallel-item:only-child::after {width: 0;}#sk-container-id-1 div.sk-dashed-wrapped {border: 1px dashed gray;margin: 0 0.4em 0.5em 0.4em;box-sizing: border-box;padding-bottom: 0.4em;background-color: white;}#sk-container-id-1 div.sk-label label {font-family: monospace;font-weight: bold;display: inline-block;line-height: 1.2em;}#sk-container-id-1 div.sk-label-container {text-align: center;}#sk-container-id-1 div.sk-container {/* jupyter's `normalize.less` sets `[hidden] { display: none; }` but bootstrap.min.css set `[hidden] { display: none !important; }` so we also need the `!important` here to be able to override the default hidden behavior on the sphinx rendered scikit-learn.org. See: https://github.com/scikit-learn/scikit-learn/issues/21755 */display: inline-block !important;position: relative;}#sk-container-id-1 div.sk-text-repr-fallback {display: none;}</style><div id=\"sk-container-id-1\" class=\"sk-top-container\"><div class=\"sk-text-repr-fallback\"><pre>LogisticRegression(max_iter=200)</pre><b>In a Jupyter environment, please rerun this cell to show the HTML representation or trust the notebook. <br />On GitHub, the HTML representation is unable to render, please try loading this page with nbviewer.org.</b></div><div class=\"sk-container\" hidden><div class=\"sk-item\"><div class=\"sk-estimator sk-toggleable\"><input class=\"sk-toggleable__control sk-hidden--visually\" id=\"sk-estimator-id-1\" type=\"checkbox\" checked><label for=\"sk-estimator-id-1\" class=\"sk-toggleable__label sk-toggleable__label-arrow\">LogisticRegression</label><div class=\"sk-toggleable__content\"><pre>LogisticRegression(max_iter=200)</pre></div></div></div></div></div>"
      ],
      "text/plain": [
       "LogisticRegression(max_iter=200)"
      ]
     },
     "execution_count": 76,
     "metadata": {},
     "output_type": "execute_result"
    }
   ],
   "source": [
    "# igot a warning message that it failed to converge when I attempted to train the model with the default parameters.\n",
    "# and suggested increasing max_iter (default=100) or scaling the data.  I increased the max_iter to 500 and \n",
    "model = LogisticRegression(max_iter=200)\n",
    "model.fit(X_train, y_train)"
   ]
  },
  {
   "cell_type": "code",
   "execution_count": 78,
   "id": "cfa7ff95",
   "metadata": {},
   "outputs": [
    {
     "data": {
      "text/plain": [
       "array([[0.77692266, 0.22307734],\n",
       "       [0.87744389, 0.12255611],\n",
       "       [0.71374292, 0.28625708],\n",
       "       [0.84426864, 0.15573136],\n",
       "       [0.85064562, 0.14935438],\n",
       "       [0.81173892, 0.18826108],\n",
       "       [0.82611208, 0.17388792],\n",
       "       [0.02955596, 0.97044404],\n",
       "       [0.56216896, 0.43783104],\n",
       "       [0.94595451, 0.05404549]])"
      ]
     },
     "execution_count": 78,
     "metadata": {},
     "output_type": "execute_result"
    }
   ],
   "source": [
    "# the first column is the probability of it being the negative class, the second column is proba of positive class\n",
    "model.predict_proba(X_train)[:10]"
   ]
  },
  {
   "cell_type": "code",
   "execution_count": 79,
   "id": "7d8de5c9",
   "metadata": {},
   "outputs": [],
   "source": [
    "# create x_val\n",
    "val_dicts = df_val.to_dict(orient='records')\n",
    "\n",
    "X_val = dv.transform(val_dicts)"
   ]
  },
  {
   "cell_type": "code",
   "execution_count": 80,
   "id": "7871bb91",
   "metadata": {},
   "outputs": [],
   "source": [
    "# all the soft predictions that a certain person makes over 50k\n",
    "y_pred = model.predict_proba(X_val)[:, 1]"
   ]
  },
  {
   "cell_type": "code",
   "execution_count": 81,
   "id": "6b7ee80c",
   "metadata": {},
   "outputs": [],
   "source": [
    "over_50 = (y_pred >= 0.5)"
   ]
  },
  {
   "cell_type": "code",
   "execution_count": 82,
   "id": "a8c9a382",
   "metadata": {},
   "outputs": [],
   "source": [
    "from sklearn.metrics import accuracy_score"
   ]
  },
  {
   "cell_type": "code",
   "execution_count": 86,
   "id": "96abd7bd",
   "metadata": {},
   "outputs": [
    {
     "data": {
      "text/plain": [
       "0.7891584766584766"
      ]
     },
     "execution_count": 86,
     "metadata": {},
     "output_type": "execute_result"
    }
   ],
   "source": [
    "accuracy_score(y_val, over_50.astype(int))"
   ]
  },
  {
   "cell_type": "markdown",
   "id": "0ba1ff46",
   "metadata": {},
   "source": [
    "#### so it appears logistic regression model scores around 79 percent accuracy"
   ]
  },
  {
   "cell_type": "code",
   "execution_count": 87,
   "id": "596da0f6",
   "metadata": {},
   "outputs": [
    {
     "data": {
      "text/html": [
       "<div>\n",
       "<style scoped>\n",
       "    .dataframe tbody tr th:only-of-type {\n",
       "        vertical-align: middle;\n",
       "    }\n",
       "\n",
       "    .dataframe tbody tr th {\n",
       "        vertical-align: top;\n",
       "    }\n",
       "\n",
       "    .dataframe thead th {\n",
       "        text-align: right;\n",
       "    }\n",
       "</style>\n",
       "<table border=\"1\" class=\"dataframe\">\n",
       "  <thead>\n",
       "    <tr style=\"text-align: right;\">\n",
       "      <th></th>\n",
       "      <th>probabiity</th>\n",
       "      <th>predictition</th>\n",
       "      <th>actual</th>\n",
       "    </tr>\n",
       "  </thead>\n",
       "  <tbody>\n",
       "    <tr>\n",
       "      <th>0</th>\n",
       "      <td>0.203657</td>\n",
       "      <td>0</td>\n",
       "      <td>0</td>\n",
       "    </tr>\n",
       "    <tr>\n",
       "      <th>1</th>\n",
       "      <td>0.189222</td>\n",
       "      <td>0</td>\n",
       "      <td>0</td>\n",
       "    </tr>\n",
       "    <tr>\n",
       "      <th>2</th>\n",
       "      <td>0.328601</td>\n",
       "      <td>0</td>\n",
       "      <td>0</td>\n",
       "    </tr>\n",
       "    <tr>\n",
       "      <th>3</th>\n",
       "      <td>0.975702</td>\n",
       "      <td>1</td>\n",
       "      <td>1</td>\n",
       "    </tr>\n",
       "    <tr>\n",
       "      <th>4</th>\n",
       "      <td>0.261912</td>\n",
       "      <td>0</td>\n",
       "      <td>0</td>\n",
       "    </tr>\n",
       "    <tr>\n",
       "      <th>...</th>\n",
       "      <td>...</td>\n",
       "      <td>...</td>\n",
       "      <td>...</td>\n",
       "    </tr>\n",
       "    <tr>\n",
       "      <th>6507</th>\n",
       "      <td>0.184291</td>\n",
       "      <td>0</td>\n",
       "      <td>0</td>\n",
       "    </tr>\n",
       "    <tr>\n",
       "      <th>6508</th>\n",
       "      <td>0.284029</td>\n",
       "      <td>0</td>\n",
       "      <td>1</td>\n",
       "    </tr>\n",
       "    <tr>\n",
       "      <th>6509</th>\n",
       "      <td>0.124779</td>\n",
       "      <td>0</td>\n",
       "      <td>0</td>\n",
       "    </tr>\n",
       "    <tr>\n",
       "      <th>6510</th>\n",
       "      <td>0.199824</td>\n",
       "      <td>0</td>\n",
       "      <td>0</td>\n",
       "    </tr>\n",
       "    <tr>\n",
       "      <th>6511</th>\n",
       "      <td>0.163382</td>\n",
       "      <td>0</td>\n",
       "      <td>1</td>\n",
       "    </tr>\n",
       "  </tbody>\n",
       "</table>\n",
       "<p>6512 rows × 3 columns</p>\n",
       "</div>"
      ],
      "text/plain": [
       "      probabiity  predictition  actual\n",
       "0       0.203657             0       0\n",
       "1       0.189222             0       0\n",
       "2       0.328601             0       0\n",
       "3       0.975702             1       1\n",
       "4       0.261912             0       0\n",
       "...          ...           ...     ...\n",
       "6507    0.184291             0       0\n",
       "6508    0.284029             0       1\n",
       "6509    0.124779             0       0\n",
       "6510    0.199824             0       0\n",
       "6511    0.163382             0       1\n",
       "\n",
       "[6512 rows x 3 columns]"
      ]
     },
     "execution_count": 87,
     "metadata": {},
     "output_type": "execute_result"
    }
   ],
   "source": [
    "df_pred = pd.DataFrame()\n",
    "df_pred['probabiity'] = y_pred\n",
    "df_pred['predictition'] = over_50.astype(int)\n",
    "df_pred['actual'] = y_val\n",
    "\n",
    "df_pred"
   ]
  },
  {
   "cell_type": "code",
   "execution_count": 88,
   "id": "0e25d575",
   "metadata": {},
   "outputs": [
    {
     "data": {
      "text/html": [
       "<div>\n",
       "<style scoped>\n",
       "    .dataframe tbody tr th:only-of-type {\n",
       "        vertical-align: middle;\n",
       "    }\n",
       "\n",
       "    .dataframe tbody tr th {\n",
       "        vertical-align: top;\n",
       "    }\n",
       "\n",
       "    .dataframe thead th {\n",
       "        text-align: right;\n",
       "    }\n",
       "</style>\n",
       "<table border=\"1\" class=\"dataframe\">\n",
       "  <thead>\n",
       "    <tr style=\"text-align: right;\">\n",
       "      <th></th>\n",
       "      <th>probabiity</th>\n",
       "      <th>predictition</th>\n",
       "      <th>actual</th>\n",
       "      <th>correct</th>\n",
       "    </tr>\n",
       "  </thead>\n",
       "  <tbody>\n",
       "    <tr>\n",
       "      <th>0</th>\n",
       "      <td>0.203657</td>\n",
       "      <td>0</td>\n",
       "      <td>0</td>\n",
       "      <td>True</td>\n",
       "    </tr>\n",
       "    <tr>\n",
       "      <th>1</th>\n",
       "      <td>0.189222</td>\n",
       "      <td>0</td>\n",
       "      <td>0</td>\n",
       "      <td>True</td>\n",
       "    </tr>\n",
       "    <tr>\n",
       "      <th>2</th>\n",
       "      <td>0.328601</td>\n",
       "      <td>0</td>\n",
       "      <td>0</td>\n",
       "      <td>True</td>\n",
       "    </tr>\n",
       "    <tr>\n",
       "      <th>3</th>\n",
       "      <td>0.975702</td>\n",
       "      <td>1</td>\n",
       "      <td>1</td>\n",
       "      <td>True</td>\n",
       "    </tr>\n",
       "    <tr>\n",
       "      <th>4</th>\n",
       "      <td>0.261912</td>\n",
       "      <td>0</td>\n",
       "      <td>0</td>\n",
       "      <td>True</td>\n",
       "    </tr>\n",
       "    <tr>\n",
       "      <th>...</th>\n",
       "      <td>...</td>\n",
       "      <td>...</td>\n",
       "      <td>...</td>\n",
       "      <td>...</td>\n",
       "    </tr>\n",
       "    <tr>\n",
       "      <th>6507</th>\n",
       "      <td>0.184291</td>\n",
       "      <td>0</td>\n",
       "      <td>0</td>\n",
       "      <td>True</td>\n",
       "    </tr>\n",
       "    <tr>\n",
       "      <th>6508</th>\n",
       "      <td>0.284029</td>\n",
       "      <td>0</td>\n",
       "      <td>1</td>\n",
       "      <td>False</td>\n",
       "    </tr>\n",
       "    <tr>\n",
       "      <th>6509</th>\n",
       "      <td>0.124779</td>\n",
       "      <td>0</td>\n",
       "      <td>0</td>\n",
       "      <td>True</td>\n",
       "    </tr>\n",
       "    <tr>\n",
       "      <th>6510</th>\n",
       "      <td>0.199824</td>\n",
       "      <td>0</td>\n",
       "      <td>0</td>\n",
       "      <td>True</td>\n",
       "    </tr>\n",
       "    <tr>\n",
       "      <th>6511</th>\n",
       "      <td>0.163382</td>\n",
       "      <td>0</td>\n",
       "      <td>1</td>\n",
       "      <td>False</td>\n",
       "    </tr>\n",
       "  </tbody>\n",
       "</table>\n",
       "<p>6512 rows × 4 columns</p>\n",
       "</div>"
      ],
      "text/plain": [
       "      probabiity  predictition  actual  correct\n",
       "0       0.203657             0       0     True\n",
       "1       0.189222             0       0     True\n",
       "2       0.328601             0       0     True\n",
       "3       0.975702             1       1     True\n",
       "4       0.261912             0       0     True\n",
       "...          ...           ...     ...      ...\n",
       "6507    0.184291             0       0     True\n",
       "6508    0.284029             0       1    False\n",
       "6509    0.124779             0       0     True\n",
       "6510    0.199824             0       0     True\n",
       "6511    0.163382             0       1    False\n",
       "\n",
       "[6512 rows x 4 columns]"
      ]
     },
     "execution_count": 88,
     "metadata": {},
     "output_type": "execute_result"
    }
   ],
   "source": [
    "df_pred['correct'] = df_pred.predictition == df_pred.actual\n",
    "\n",
    "df_pred"
   ]
  },
  {
   "cell_type": "code",
   "execution_count": 89,
   "id": "aa441226",
   "metadata": {},
   "outputs": [
    {
     "data": {
      "text/plain": [
       "0.7891584766584766"
      ]
     },
     "execution_count": 89,
     "metadata": {},
     "output_type": "execute_result"
    }
   ],
   "source": [
    "# if we get the mean of this correcrt column (where prediction matches actual value) it's the same as our \n",
    "# accuracy score\n",
    "df_pred.correct.mean()"
   ]
  },
  {
   "cell_type": "markdown",
   "id": "1d72a73a",
   "metadata": {},
   "source": [
    "## Using the model (3.12)"
   ]
  },
  {
   "cell_type": "code",
   "execution_count": 90,
   "id": "c2112648",
   "metadata": {},
   "outputs": [],
   "source": [
    "### Train the model on the full train dataset \n",
    "dicts_full_train = df_full_train[categorical + numerical].to_dict(orient='records')"
   ]
  },
  {
   "cell_type": "code",
   "execution_count": 91,
   "id": "4afa4ba5",
   "metadata": {},
   "outputs": [],
   "source": [
    "dv = DictVectorizer(sparse=False)\n",
    "X_full_train = dv.fit_transform(dicts_full_train)"
   ]
  },
  {
   "cell_type": "code",
   "execution_count": 92,
   "id": "a3fb3b44",
   "metadata": {},
   "outputs": [],
   "source": [
    "y_full_train = df_full_train.greater_than_50k.values"
   ]
  },
  {
   "cell_type": "code",
   "execution_count": 93,
   "id": "7ac5ae80",
   "metadata": {},
   "outputs": [
    {
     "data": {
      "text/html": [
       "<style>#sk-container-id-2 {color: black;background-color: white;}#sk-container-id-2 pre{padding: 0;}#sk-container-id-2 div.sk-toggleable {background-color: white;}#sk-container-id-2 label.sk-toggleable__label {cursor: pointer;display: block;width: 100%;margin-bottom: 0;padding: 0.3em;box-sizing: border-box;text-align: center;}#sk-container-id-2 label.sk-toggleable__label-arrow:before {content: \"▸\";float: left;margin-right: 0.25em;color: #696969;}#sk-container-id-2 label.sk-toggleable__label-arrow:hover:before {color: black;}#sk-container-id-2 div.sk-estimator:hover label.sk-toggleable__label-arrow:before {color: black;}#sk-container-id-2 div.sk-toggleable__content {max-height: 0;max-width: 0;overflow: hidden;text-align: left;background-color: #f0f8ff;}#sk-container-id-2 div.sk-toggleable__content pre {margin: 0.2em;color: black;border-radius: 0.25em;background-color: #f0f8ff;}#sk-container-id-2 input.sk-toggleable__control:checked~div.sk-toggleable__content {max-height: 200px;max-width: 100%;overflow: auto;}#sk-container-id-2 input.sk-toggleable__control:checked~label.sk-toggleable__label-arrow:before {content: \"▾\";}#sk-container-id-2 div.sk-estimator input.sk-toggleable__control:checked~label.sk-toggleable__label {background-color: #d4ebff;}#sk-container-id-2 div.sk-label input.sk-toggleable__control:checked~label.sk-toggleable__label {background-color: #d4ebff;}#sk-container-id-2 input.sk-hidden--visually {border: 0;clip: rect(1px 1px 1px 1px);clip: rect(1px, 1px, 1px, 1px);height: 1px;margin: -1px;overflow: hidden;padding: 0;position: absolute;width: 1px;}#sk-container-id-2 div.sk-estimator {font-family: monospace;background-color: #f0f8ff;border: 1px dotted black;border-radius: 0.25em;box-sizing: border-box;margin-bottom: 0.5em;}#sk-container-id-2 div.sk-estimator:hover {background-color: #d4ebff;}#sk-container-id-2 div.sk-parallel-item::after {content: \"\";width: 100%;border-bottom: 1px solid gray;flex-grow: 1;}#sk-container-id-2 div.sk-label:hover label.sk-toggleable__label {background-color: #d4ebff;}#sk-container-id-2 div.sk-serial::before {content: \"\";position: absolute;border-left: 1px solid gray;box-sizing: border-box;top: 0;bottom: 0;left: 50%;z-index: 0;}#sk-container-id-2 div.sk-serial {display: flex;flex-direction: column;align-items: center;background-color: white;padding-right: 0.2em;padding-left: 0.2em;position: relative;}#sk-container-id-2 div.sk-item {position: relative;z-index: 1;}#sk-container-id-2 div.sk-parallel {display: flex;align-items: stretch;justify-content: center;background-color: white;position: relative;}#sk-container-id-2 div.sk-item::before, #sk-container-id-2 div.sk-parallel-item::before {content: \"\";position: absolute;border-left: 1px solid gray;box-sizing: border-box;top: 0;bottom: 0;left: 50%;z-index: -1;}#sk-container-id-2 div.sk-parallel-item {display: flex;flex-direction: column;z-index: 1;position: relative;background-color: white;}#sk-container-id-2 div.sk-parallel-item:first-child::after {align-self: flex-end;width: 50%;}#sk-container-id-2 div.sk-parallel-item:last-child::after {align-self: flex-start;width: 50%;}#sk-container-id-2 div.sk-parallel-item:only-child::after {width: 0;}#sk-container-id-2 div.sk-dashed-wrapped {border: 1px dashed gray;margin: 0 0.4em 0.5em 0.4em;box-sizing: border-box;padding-bottom: 0.4em;background-color: white;}#sk-container-id-2 div.sk-label label {font-family: monospace;font-weight: bold;display: inline-block;line-height: 1.2em;}#sk-container-id-2 div.sk-label-container {text-align: center;}#sk-container-id-2 div.sk-container {/* jupyter's `normalize.less` sets `[hidden] { display: none; }` but bootstrap.min.css set `[hidden] { display: none !important; }` so we also need the `!important` here to be able to override the default hidden behavior on the sphinx rendered scikit-learn.org. See: https://github.com/scikit-learn/scikit-learn/issues/21755 */display: inline-block !important;position: relative;}#sk-container-id-2 div.sk-text-repr-fallback {display: none;}</style><div id=\"sk-container-id-2\" class=\"sk-top-container\"><div class=\"sk-text-repr-fallback\"><pre>LogisticRegression(max_iter=200)</pre><b>In a Jupyter environment, please rerun this cell to show the HTML representation or trust the notebook. <br />On GitHub, the HTML representation is unable to render, please try loading this page with nbviewer.org.</b></div><div class=\"sk-container\" hidden><div class=\"sk-item\"><div class=\"sk-estimator sk-toggleable\"><input class=\"sk-toggleable__control sk-hidden--visually\" id=\"sk-estimator-id-2\" type=\"checkbox\" checked><label for=\"sk-estimator-id-2\" class=\"sk-toggleable__label sk-toggleable__label-arrow\">LogisticRegression</label><div class=\"sk-toggleable__content\"><pre>LogisticRegression(max_iter=200)</pre></div></div></div></div></div>"
      ],
      "text/plain": [
       "LogisticRegression(max_iter=200)"
      ]
     },
     "execution_count": 93,
     "metadata": {},
     "output_type": "execute_result"
    }
   ],
   "source": [
    "# you can add the fit in the same line if you want (but we wont here)\n",
    "model = LogisticRegression(max_iter=200)\n",
    "model.fit(X_full_train, y_full_train)"
   ]
  },
  {
   "cell_type": "code",
   "execution_count": 94,
   "id": "0e82a0b1",
   "metadata": {},
   "outputs": [],
   "source": [
    "dicts_test = df_test[categorical + numerical].to_dict(orient='records') "
   ]
  },
  {
   "cell_type": "code",
   "execution_count": 95,
   "id": "1eecf7aa",
   "metadata": {},
   "outputs": [],
   "source": [
    "X_test = dv.transform(dicts_test)"
   ]
  },
  {
   "cell_type": "code",
   "execution_count": 96,
   "id": "5d382508",
   "metadata": {},
   "outputs": [],
   "source": [
    "# getting the predictions on the test set\n",
    "y_pred_test = model.predict(X_test)"
   ]
  },
  {
   "cell_type": "code",
   "execution_count": 97,
   "id": "e0e5010a",
   "metadata": {},
   "outputs": [
    {
     "data": {
      "text/plain": [
       "0.8066943037002917"
      ]
     },
     "execution_count": 97,
     "metadata": {},
     "output_type": "execute_result"
    }
   ],
   "source": [
    "accuracy_score(y_test, y_pred_test)"
   ]
  },
  {
   "cell_type": "code",
   "execution_count": 98,
   "id": "55149d2b",
   "metadata": {},
   "outputs": [],
   "source": [
    "# or alternatively\n",
    "y_pred_test = model.predict_proba(X_test)[:, 1]"
   ]
  },
  {
   "cell_type": "code",
   "execution_count": 99,
   "id": "4e48b457",
   "metadata": {},
   "outputs": [],
   "source": [
    "over_50k = (y_pred_test >= 0.5)"
   ]
  },
  {
   "cell_type": "code",
   "execution_count": 100,
   "id": "46b2cbe3",
   "metadata": {},
   "outputs": [
    {
     "data": {
      "text/plain": [
       "0.8066943037002917"
      ]
     },
     "execution_count": 100,
     "metadata": {},
     "output_type": "execute_result"
    }
   ],
   "source": [
    "accuracy_score(y_test, over_50k)"
   ]
  },
  {
   "cell_type": "markdown",
   "id": "7d82384a",
   "metadata": {},
   "source": [
    "### How to use the model"
   ]
  },
  {
   "cell_type": "markdown",
   "id": "b50fffb4",
   "metadata": {},
   "source": [
    "you can take a random customer"
   ]
  },
  {
   "cell_type": "code",
   "execution_count": 101,
   "id": "fd7c15ca",
   "metadata": {},
   "outputs": [
    {
     "data": {
      "text/plain": [
       "{'workclass': 'private',\n",
       " 'education': 'hs_grad',\n",
       " 'marital_status': 'married_civ_spouse',\n",
       " 'occupation': 'craft_repair',\n",
       " 'relationship': 'husband',\n",
       " 'race': 'white',\n",
       " 'sex': 'male',\n",
       " 'native_country': 'united_states',\n",
       " 'us_native': 'united_states',\n",
       " 'age': 31,\n",
       " 'fnlwgt': 128567,\n",
       " 'education_num': 9,\n",
       " 'capital_gain': 0,\n",
       " 'capital_loss': 0,\n",
       " 'hours_per_week': 40}"
      ]
     },
     "execution_count": 101,
     "metadata": {},
     "output_type": "execute_result"
    }
   ],
   "source": [
    "dicts_test[11]"
   ]
  },
  {
   "cell_type": "code",
   "execution_count": 102,
   "id": "a7402bf9",
   "metadata": {},
   "outputs": [],
   "source": [
    "average_joe = {'workclass': 'never_worked',\n",
    " 'education': 'hs_grad',\n",
    " 'marital_status': 'married_civ_spouse',\n",
    " 'occupation': 'craft_repair',\n",
    " 'relationship': 'husband',\n",
    " 'race': 'white',\n",
    " 'sex': 'male',\n",
    " 'native_country': 'united_states',\n",
    " 'us_native': 'other',\n",
    " 'age': 41,\n",
    " 'fnlwgt': 128567,\n",
    " 'education_num': 16,\n",
    " 'capital_gain': 0,\n",
    " 'capital_loss': 0,\n",
    " 'hours_per_week': 10}"
   ]
  },
  {
   "cell_type": "code",
   "execution_count": 103,
   "id": "13df9ad6",
   "metadata": {},
   "outputs": [],
   "source": [
    "avg_joe_matrix = dv.transform([average_joe])"
   ]
  },
  {
   "cell_type": "code",
   "execution_count": 104,
   "id": "07f2d10a",
   "metadata": {},
   "outputs": [
    {
     "data": {
      "text/plain": [
       "array([[0.70583352, 0.29416648]])"
      ]
     },
     "execution_count": 104,
     "metadata": {},
     "output_type": "execute_result"
    }
   ],
   "source": [
    "model.predict_proba(avg_joe_matrix)"
   ]
  },
  {
   "cell_type": "code",
   "execution_count": 105,
   "id": "58525d0b",
   "metadata": {},
   "outputs": [
    {
     "data": {
      "text/plain": [
       "0"
      ]
     },
     "execution_count": 105,
     "metadata": {},
     "output_type": "execute_result"
    }
   ],
   "source": [
    "y_test[11]"
   ]
  },
  {
   "cell_type": "markdown",
   "id": "d6021436",
   "metadata": {},
   "source": [
    "## Video 4.2 Accuracy and dummy model"
   ]
  },
  {
   "cell_type": "code",
   "execution_count": 106,
   "id": "def19abb",
   "metadata": {},
   "outputs": [
    {
     "name": "stdout",
     "output_type": "stream",
     "text": [
      "0.00 0.249\n",
      "0.05 0.250\n",
      "0.10 0.269\n",
      "0.15 0.328\n",
      "0.20 0.471\n",
      "0.25 0.619\n",
      "0.30 0.716\n",
      "0.35 0.758\n",
      "0.40 0.776\n",
      "0.45 0.785\n",
      "0.50 0.789\n",
      "0.55 0.790\n",
      "0.60 0.793\n",
      "0.65 0.793\n",
      "0.70 0.791\n",
      "0.75 0.787\n",
      "0.80 0.780\n",
      "0.85 0.776\n",
      "0.90 0.773\n",
      "0.95 0.771\n",
      "1.00 0.751\n"
     ]
    }
   ],
   "source": [
    "thresholds = np.linspace(0, 1, 21)\n",
    "\n",
    "scores = []\n",
    "\n",
    "for t in thresholds:\n",
    "    score = accuracy_score(y_val, y_pred >= t)\n",
    "    print(\"%.2f %.3f\" %(t, score))\n",
    "    scores.append(score)"
   ]
  },
  {
   "cell_type": "code",
   "execution_count": 107,
   "id": "9fb2a352",
   "metadata": {},
   "outputs": [
    {
     "data": {
      "text/plain": [
       "[<matplotlib.lines.Line2D at 0x1683339a0>]"
      ]
     },
     "execution_count": 107,
     "metadata": {},
     "output_type": "execute_result"
    },
    {
     "data": {
      "image/png": "[encoded data removed]",
      "text/plain": [
       "<Figure size 640x480 with 1 Axes>"
      ]
     },
     "metadata": {},
     "output_type": "display_data"
    }
   ],
   "source": [
    "plt.plot(thresholds, scores)"
   ]
  },
  {
   "cell_type": "code",
   "execution_count": 108,
   "id": "83e393cb",
   "metadata": {},
   "outputs": [],
   "source": [
    "from collections import Counter"
   ]
  },
  {
   "cell_type": "code",
   "execution_count": 109,
   "id": "aa9de7c2",
   "metadata": {},
   "outputs": [
    {
     "data": {
      "text/plain": [
       "Counter({False: 5544, True: 968})"
      ]
     },
     "execution_count": 109,
     "metadata": {},
     "output_type": "execute_result"
    }
   ],
   "source": [
    "Counter(y_pred >= 0.35)"
   ]
  },
  {
   "cell_type": "markdown",
   "id": "d197f40a",
   "metadata": {},
   "source": [
    "## 4.3 Confusion table"
   ]
  },
  {
   "cell_type": "code",
   "execution_count": 110,
   "id": "279bb6b8",
   "metadata": {},
   "outputs": [],
   "source": [
    "actual_positive = (y_val == 1)\n",
    "actual_negative = (y_val == 0)\n",
    "\n",
    "t = 0.5\n",
    "predict_positive = (y_pred >= t)\n",
    "predict_negative = (y_pred < t)\n"
   ]
  },
  {
   "cell_type": "code",
   "execution_count": 111,
   "id": "8d90788b",
   "metadata": {},
   "outputs": [
    {
     "data": {
      "text/plain": [
       "(6512, 6512)"
      ]
     },
     "execution_count": 111,
     "metadata": {},
     "output_type": "execute_result"
    }
   ],
   "source": [
    "len(actual_positive), len(predict_positive)"
   ]
  },
  {
   "cell_type": "code",
   "execution_count": 112,
   "id": "be2e6c24",
   "metadata": {},
   "outputs": [],
   "source": [
    "tp = (predict_positive & actual_positive).sum()\n",
    "tn = (predict_negative & actual_negative).sum()\n",
    "\n",
    "fp = (predict_positive & actual_negative).sum()\n",
    "fn = (predict_negative & actual_positive).sum()"
   ]
  },
  {
   "cell_type": "code",
   "execution_count": 113,
   "id": "062e4385",
   "metadata": {},
   "outputs": [
    {
     "data": {
      "text/plain": [
       "array([[4720,  169],\n",
       "       [1204,  419]])"
      ]
     },
     "execution_count": 113,
     "metadata": {},
     "output_type": "execute_result"
    }
   ],
   "source": [
    "confusion_matrix = np.array([\n",
    "    [tn, fp],\n",
    "    [fn, tp]\n",
    "])\n",
    "confusion_matrix"
   ]
  },
  {
   "cell_type": "code",
   "execution_count": 114,
   "id": "c819b496",
   "metadata": {},
   "outputs": [
    {
     "data": {
      "text/plain": [
       "array([[0.72, 0.03],\n",
       "       [0.18, 0.06]])"
      ]
     },
     "execution_count": 114,
     "metadata": {},
     "output_type": "execute_result"
    }
   ],
   "source": [
    "# normalized confusion matrix\n",
    "(confusion_matrix / confusion_matrix.sum()).round(2)"
   ]
  },
  {
   "cell_type": "markdown",
   "id": "0819bd63",
   "metadata": {},
   "source": [
    "## 4.4 Precision and recall"
   ]
  },
  {
   "cell_type": "markdown",
   "id": "3407ab79",
   "metadata": {},
   "source": [
    "### Precision - fraction of positive predictions that are correct"
   ]
  },
  {
   "cell_type": "code",
   "execution_count": 115,
   "id": "942da1d0",
   "metadata": {},
   "outputs": [
    {
     "data": {
      "text/plain": [
       "0.7125850340136054"
      ]
     },
     "execution_count": 115,
     "metadata": {},
     "output_type": "execute_result"
    }
   ],
   "source": [
    "p = tp / (tp + fp)\n",
    "p"
   ]
  },
  {
   "cell_type": "markdown",
   "id": "1f930a5e",
   "metadata": {},
   "source": [
    "### Recall - fraction of actual positives that are correcly predicted"
   ]
  },
  {
   "cell_type": "code",
   "execution_count": 116,
   "id": "15c62d9c",
   "metadata": {},
   "outputs": [
    {
     "data": {
      "text/plain": [
       "0.25816389402341344"
      ]
     },
     "execution_count": 116,
     "metadata": {},
     "output_type": "execute_result"
    }
   ],
   "source": [
    "r = tp / (tp + fn)\n",
    "r"
   ]
  },
  {
   "cell_type": "markdown",
   "id": "e8fea7e8",
   "metadata": {},
   "source": [
    "## 4.5 ROC curves"
   ]
  },
  {
   "cell_type": "code",
   "execution_count": 117,
   "id": "ff67805c",
   "metadata": {},
   "outputs": [
    {
     "data": {
      "text/plain": [
       "0.25816389402341344"
      ]
     },
     "execution_count": 117,
     "metadata": {},
     "output_type": "execute_result"
    }
   ],
   "source": [
    "tpr = tp / (tp + fn)\n",
    "tpr"
   ]
  },
  {
   "cell_type": "code",
   "execution_count": 118,
   "id": "2458fc0b",
   "metadata": {},
   "outputs": [
    {
     "data": {
      "text/plain": [
       "0.03456739619554101"
      ]
     },
     "execution_count": 118,
     "metadata": {},
     "output_type": "execute_result"
    }
   ],
   "source": [
    "fpr = fp / (fp + tn)\n",
    "fpr"
   ]
  },
  {
   "cell_type": "code",
   "execution_count": 119,
   "id": "1f934166",
   "metadata": {},
   "outputs": [
    {
     "data": {
      "text/plain": [
       "True"
      ]
     },
     "execution_count": 119,
     "metadata": {},
     "output_type": "execute_result"
    }
   ],
   "source": [
    "# recall is the same value as tpr\n",
    "r == tpr"
   ]
  },
  {
   "cell_type": "code",
   "execution_count": 120,
   "id": "3a95c0eb",
   "metadata": {},
   "outputs": [],
   "source": [
    "scores = []\n",
    "\n",
    "thresholds = np.linspace(0, 1, 101)\n",
    "\n",
    "for t in thresholds:\n",
    "    actual_positive = (y_val == 1)\n",
    "    actual_negative = (y_val == 0)\n",
    "    \n",
    "    predict_positive = (y_pred >= t)\n",
    "    predict_negative = (y_pred < t)\n",
    "\n",
    "    tp = (predict_positive & actual_positive).sum()\n",
    "    tn = (predict_negative & actual_negative).sum()\n",
    "\n",
    "    fp = (predict_positive & actual_negative).sum()\n",
    "    fn = (predict_negative & actual_positive).sum()\n",
    "    \n",
    "    scores.append((t, tp, fp, fn, tn))\n",
    "    "
   ]
  },
  {
   "cell_type": "code",
   "execution_count": 121,
   "id": "37cb415c",
   "metadata": {},
   "outputs": [],
   "source": [
    "columns = ['threshold', 'tp', 'fp', 'fn', 'tn']\n",
    "df_scores = pd.DataFrame(scores, columns=columns)\n",
    "\n",
    "df_scores['tpr'] = df_scores.tp / (df_scores.tp + df_scores.fn)\n",
    "df_scores['fpr'] = df_scores.fp / (df_scores.fp + df_scores.tn)"
   ]
  },
  {
   "cell_type": "code",
   "execution_count": 122,
   "id": "c6666669",
   "metadata": {},
   "outputs": [
    {
     "data": {
      "text/plain": [
       "<matplotlib.legend.Legend at 0x1691dff10>"
      ]
     },
     "execution_count": 122,
     "metadata": {},
     "output_type": "execute_result"
    },
    {
     "data": {
      "image/png": "[encoded data removed]",
      "text/plain": [
       "<Figure size 640x480 with 1 Axes>"
      ]
     },
     "metadata": {},
     "output_type": "display_data"
    }
   ],
   "source": [
    "plt.plot(df_scores.threshold, df_scores['tpr'], label='TPR')\n",
    "plt.plot(df_scores.threshold, df_scores['fpr'], label='FPR')\n",
    "plt.legend()"
   ]
  },
  {
   "cell_type": "markdown",
   "id": "789bdd6e",
   "metadata": {},
   "source": [
    "### Random model"
   ]
  },
  {
   "cell_type": "code",
   "execution_count": 123,
   "id": "3c9faf8b",
   "metadata": {},
   "outputs": [],
   "source": [
    "np.random.seed(1)\n",
    "y_rand = np.random.uniform(0, 1, size=len(y_val))"
   ]
  },
  {
   "cell_type": "code",
   "execution_count": 124,
   "id": "5b0ef4bd",
   "metadata": {},
   "outputs": [
    {
     "data": {
      "text/plain": [
       "0.49063267813267813"
      ]
     },
     "execution_count": 124,
     "metadata": {},
     "output_type": "execute_result"
    }
   ],
   "source": [
    "((y_rand >= 0.5) == y_val).mean()"
   ]
  },
  {
   "cell_type": "code",
   "execution_count": 125,
   "id": "deedaade",
   "metadata": {},
   "outputs": [],
   "source": [
    "def tpr_fpr_dataframe(y_val, y_pred):\n",
    "    scores = []\n",
    "\n",
    "    thresholds = np.linspace(0, 1, 101)\n",
    "\n",
    "    for t in thresholds:\n",
    "        actual_positive = (y_val == 1)\n",
    "        actual_negative = (y_val == 0)\n",
    "\n",
    "        predict_positive = (y_pred >= t)\n",
    "        predict_negative = (y_pred < t)\n",
    "\n",
    "        tp = (predict_positive & actual_positive).sum()\n",
    "        tn = (predict_negative & actual_negative).sum()\n",
    "\n",
    "        fp = (predict_positive & actual_negative).sum()\n",
    "        fn = (predict_negative & actual_positive).sum()\n",
    "\n",
    "        scores.append((t, tp, fp, fn, tn))\n",
    "\n",
    "    columns = ['threshold', 'tp', 'fp', 'fn', 'tn']\n",
    "    df_scores = pd.DataFrame(scores, columns=columns)\n",
    "\n",
    "    df_scores['tpr'] = df_scores.tp / (df_scores.tp + df_scores.fn)\n",
    "    df_scores['fpr'] = df_scores.fp / (df_scores.fp + df_scores.tn)\n",
    "    \n",
    "    return df_scores"
   ]
  },
  {
   "cell_type": "code",
   "execution_count": 126,
   "id": "3e08fc69",
   "metadata": {},
   "outputs": [],
   "source": [
    "df_rand = tpr_fpr_dataframe(y_val, y_rand)"
   ]
  },
  {
   "cell_type": "code",
   "execution_count": 127,
   "id": "80354248",
   "metadata": {},
   "outputs": [
    {
     "data": {
      "text/plain": [
       "<matplotlib.legend.Legend at 0x16853d220>"
      ]
     },
     "execution_count": 127,
     "metadata": {},
     "output_type": "execute_result"
    },
    {
     "data": {
      "image/png": "[encoded data removed]",
      "text/plain": [
       "<Figure size 640x480 with 1 Axes>"
      ]
     },
     "metadata": {},
     "output_type": "display_data"
    }
   ],
   "source": [
    "plt.plot(df_rand.threshold, df_rand['tpr'], label='TPR')\n",
    "plt.plot(df_rand.threshold, df_rand['fpr'], label='FPR')\n",
    "plt.legend()"
   ]
  },
  {
   "cell_type": "markdown",
   "id": "9685a435",
   "metadata": {},
   "source": [
    " ### Ideal model                                                                                                                 "
   ]
  },
  {
   "cell_type": "code",
   "execution_count": 128,
   "id": "97d599f7",
   "metadata": {},
   "outputs": [
    {
     "data": {
      "text/plain": [
       "(4889, 1623)"
      ]
     },
     "execution_count": 128,
     "metadata": {},
     "output_type": "execute_result"
    }
   ],
   "source": [
    "num_neg = (y_val == 0).sum()\n",
    "num_pos = (y_val == 1).sum()\n",
    "num_neg, num_pos"
   ]
  },
  {
   "cell_type": "code",
   "execution_count": 129,
   "id": "5c1a3ce4",
   "metadata": {},
   "outputs": [],
   "source": [
    "y_ideal = np.repeat([0, 1], [num_neg, num_pos])\n",
    "y_ideal\n",
    "\n",
    "y_ideal_pred = np.linspace(0, 1, len(y_val))"
   ]
  },
  {
   "cell_type": "code",
   "execution_count": 130,
   "id": "8f783631",
   "metadata": {},
   "outputs": [
    {
     "data": {
      "text/plain": [
       "0.7507678132678133"
      ]
     },
     "execution_count": 130,
     "metadata": {},
     "output_type": "execute_result"
    }
   ],
   "source": [
    "1 - y_val.mean()"
   ]
  },
  {
   "cell_type": "code",
   "execution_count": 131,
   "id": "88bdb9b6",
   "metadata": {},
   "outputs": [
    {
     "data": {
      "text/plain": [
       "1.0"
      ]
     },
     "execution_count": 131,
     "metadata": {},
     "output_type": "execute_result"
    }
   ],
   "source": [
    "accuracy_score(y_ideal, y_ideal_pred >= .750767)"
   ]
  },
  {
   "cell_type": "code",
   "execution_count": 132,
   "id": "9f8e6dec",
   "metadata": {},
   "outputs": [
    {
     "data": {
      "text/html": [
       "<div>\n",
       "<style scoped>\n",
       "    .dataframe tbody tr th:only-of-type {\n",
       "        vertical-align: middle;\n",
       "    }\n",
       "\n",
       "    .dataframe tbody tr th {\n",
       "        vertical-align: top;\n",
       "    }\n",
       "\n",
       "    .dataframe thead th {\n",
       "        text-align: right;\n",
       "    }\n",
       "</style>\n",
       "<table border=\"1\" class=\"dataframe\">\n",
       "  <thead>\n",
       "    <tr style=\"text-align: right;\">\n",
       "      <th></th>\n",
       "      <th>threshold</th>\n",
       "      <th>tp</th>\n",
       "      <th>fp</th>\n",
       "      <th>fn</th>\n",
       "      <th>tn</th>\n",
       "      <th>tpr</th>\n",
       "      <th>fpr</th>\n",
       "    </tr>\n",
       "  </thead>\n",
       "  <tbody>\n",
       "    <tr>\n",
       "      <th>0</th>\n",
       "      <td>0.0</td>\n",
       "      <td>1623</td>\n",
       "      <td>4889</td>\n",
       "      <td>0</td>\n",
       "      <td>0</td>\n",
       "      <td>1.000000</td>\n",
       "      <td>1.000000</td>\n",
       "    </tr>\n",
       "    <tr>\n",
       "      <th>10</th>\n",
       "      <td>0.1</td>\n",
       "      <td>1623</td>\n",
       "      <td>4237</td>\n",
       "      <td>0</td>\n",
       "      <td>652</td>\n",
       "      <td>1.000000</td>\n",
       "      <td>0.866639</td>\n",
       "    </tr>\n",
       "    <tr>\n",
       "      <th>20</th>\n",
       "      <td>0.2</td>\n",
       "      <td>1623</td>\n",
       "      <td>3586</td>\n",
       "      <td>0</td>\n",
       "      <td>1303</td>\n",
       "      <td>1.000000</td>\n",
       "      <td>0.733483</td>\n",
       "    </tr>\n",
       "    <tr>\n",
       "      <th>30</th>\n",
       "      <td>0.3</td>\n",
       "      <td>1623</td>\n",
       "      <td>2935</td>\n",
       "      <td>0</td>\n",
       "      <td>1954</td>\n",
       "      <td>1.000000</td>\n",
       "      <td>0.600327</td>\n",
       "    </tr>\n",
       "    <tr>\n",
       "      <th>40</th>\n",
       "      <td>0.4</td>\n",
       "      <td>1623</td>\n",
       "      <td>2284</td>\n",
       "      <td>0</td>\n",
       "      <td>2605</td>\n",
       "      <td>1.000000</td>\n",
       "      <td>0.467171</td>\n",
       "    </tr>\n",
       "    <tr>\n",
       "      <th>50</th>\n",
       "      <td>0.5</td>\n",
       "      <td>1623</td>\n",
       "      <td>1633</td>\n",
       "      <td>0</td>\n",
       "      <td>3256</td>\n",
       "      <td>1.000000</td>\n",
       "      <td>0.334015</td>\n",
       "    </tr>\n",
       "    <tr>\n",
       "      <th>60</th>\n",
       "      <td>0.6</td>\n",
       "      <td>1623</td>\n",
       "      <td>982</td>\n",
       "      <td>0</td>\n",
       "      <td>3907</td>\n",
       "      <td>1.000000</td>\n",
       "      <td>0.200859</td>\n",
       "    </tr>\n",
       "    <tr>\n",
       "      <th>70</th>\n",
       "      <td>0.7</td>\n",
       "      <td>1623</td>\n",
       "      <td>331</td>\n",
       "      <td>0</td>\n",
       "      <td>4558</td>\n",
       "      <td>1.000000</td>\n",
       "      <td>0.067703</td>\n",
       "    </tr>\n",
       "    <tr>\n",
       "      <th>80</th>\n",
       "      <td>0.8</td>\n",
       "      <td>1303</td>\n",
       "      <td>0</td>\n",
       "      <td>320</td>\n",
       "      <td>4889</td>\n",
       "      <td>0.802834</td>\n",
       "      <td>0.000000</td>\n",
       "    </tr>\n",
       "    <tr>\n",
       "      <th>90</th>\n",
       "      <td>0.9</td>\n",
       "      <td>652</td>\n",
       "      <td>0</td>\n",
       "      <td>971</td>\n",
       "      <td>4889</td>\n",
       "      <td>0.401725</td>\n",
       "      <td>0.000000</td>\n",
       "    </tr>\n",
       "    <tr>\n",
       "      <th>100</th>\n",
       "      <td>1.0</td>\n",
       "      <td>1</td>\n",
       "      <td>0</td>\n",
       "      <td>1622</td>\n",
       "      <td>4889</td>\n",
       "      <td>0.000616</td>\n",
       "      <td>0.000000</td>\n",
       "    </tr>\n",
       "  </tbody>\n",
       "</table>\n",
       "</div>"
      ],
      "text/plain": [
       "     threshold    tp    fp    fn    tn       tpr       fpr\n",
       "0          0.0  1623  4889     0     0  1.000000  1.000000\n",
       "10         0.1  1623  4237     0   652  1.000000  0.866639\n",
       "20         0.2  1623  3586     0  1303  1.000000  0.733483\n",
       "30         0.3  1623  2935     0  1954  1.000000  0.600327\n",
       "40         0.4  1623  2284     0  2605  1.000000  0.467171\n",
       "50         0.5  1623  1633     0  3256  1.000000  0.334015\n",
       "60         0.6  1623   982     0  3907  1.000000  0.200859\n",
       "70         0.7  1623   331     0  4558  1.000000  0.067703\n",
       "80         0.8  1303     0   320  4889  0.802834  0.000000\n",
       "90         0.9   652     0   971  4889  0.401725  0.000000\n",
       "100        1.0     1     0  1622  4889  0.000616  0.000000"
      ]
     },
     "execution_count": 132,
     "metadata": {},
     "output_type": "execute_result"
    }
   ],
   "source": [
    "df_ideal = tpr_fpr_dataframe(y_ideal, y_ideal_pred)\n",
    "df_ideal[::10]"
   ]
  },
  {
   "cell_type": "code",
   "execution_count": 133,
   "id": "777a2ed3",
   "metadata": {},
   "outputs": [
    {
     "data": {
      "text/plain": [
       "<matplotlib.legend.Legend at 0x1687ef040>"
      ]
     },
     "execution_count": 133,
     "metadata": {},
     "output_type": "execute_result"
    },
    {
     "data": {
      "image/png": "[encoded data removed]",
      "text/plain": [
       "<Figure size 640x480 with 1 Axes>"
      ]
     },
     "metadata": {},
     "output_type": "display_data"
    }
   ],
   "source": [
    "plt.plot(df_ideal.threshold, df_ideal['tpr'], label='TPR')\n",
    "plt.plot(df_ideal.threshold, df_ideal['fpr'], label='FPR')\n",
    "plt.legend()"
   ]
  },
  {
   "cell_type": "code",
   "execution_count": 134,
   "id": "f66b1af2",
   "metadata": {},
   "outputs": [
    {
     "data": {
      "text/plain": [
       "<matplotlib.legend.Legend at 0x168b4cd00>"
      ]
     },
     "execution_count": 134,
     "metadata": {},
     "output_type": "execute_result"
    },
    {
     "data": {
      "image/png": "[encoded data removed]",
      "text/plain": [
       "<Figure size 640x480 with 1 Axes>"
      ]
     },
     "metadata": {},
     "output_type": "display_data"
    }
   ],
   "source": [
    "plt.plot(df_scores.threshold, df_scores['tpr'], label='TPR', color='black')\n",
    "plt.plot(df_scores.threshold, df_scores['fpr'], label='FPR', color='blue')\n",
    "\n",
    "plt.plot(df_ideal.threshold, df_ideal['tpr'], label='TPR ideal')\n",
    "plt.plot(df_ideal.threshold, df_ideal['fpr'], label='FPR ideal')\n",
    "\n",
    "# plt.plot(df_rand.threshold, df_rand['tpr'], label='TPR random', color='grey')\n",
    "# plt.plot(df_rand.threshold, df_rand['fpr'], label='FPR random', color='grey')\n",
    "\n",
    "plt.legend()"
   ]
  },
  {
   "cell_type": "code",
   "execution_count": 135,
   "id": "673f9aaa",
   "metadata": {},
   "outputs": [
    {
     "data": {
      "text/plain": [
       "<matplotlib.legend.Legend at 0x168e6f370>"
      ]
     },
     "execution_count": 135,
     "metadata": {},
     "output_type": "execute_result"
    },
    {
     "data": {
      "image/png": "[encoded data removed]",
      "text/plain": [
       "<Figure size 500x500 with 1 Axes>"
      ]
     },
     "metadata": {},
     "output_type": "display_data"
    }
   ],
   "source": [
    "plt.figure(figsize=(5, 5))\n",
    "\n",
    "plt.plot(df_scores.fpr, df_scores.tpr, label='Model')\n",
    "plt.plot([0, 1], [0, 1], label='Random', linestyle='--')\n",
    "\n",
    "plt.xlabel('FPR')\n",
    "plt.ylabel('TPR')\n",
    "\n",
    "plt.legend()"
   ]
  },
  {
   "cell_type": "markdown",
   "id": "05560eed",
   "metadata": {},
   "source": [
    "So basically this is telling me that I do not have a good model in that the plot for my model is far too close to \n",
    "the plot for a random model"
   ]
  },
  {
   "cell_type": "markdown",
   "id": "f9641c9b",
   "metadata": {},
   "source": [
    "## 4.6 ROC AUC"
   ]
  },
  {
   "cell_type": "markdown",
   "id": "aec96ebe",
   "metadata": {},
   "source": [
    "- a measure of the area under the ROC curve. higher is better"
   ]
  },
  {
   "cell_type": "code",
   "execution_count": 136,
   "id": "c6de58cd",
   "metadata": {},
   "outputs": [],
   "source": [
    "from sklearn.metrics import auc, roc_auc_score, roc_curve"
   ]
  },
  {
   "cell_type": "code",
   "execution_count": 137,
   "id": "f9fe36c9",
   "metadata": {},
   "outputs": [
    {
     "data": {
      "text/plain": [
       "0.620843539894342"
      ]
     },
     "execution_count": 137,
     "metadata": {},
     "output_type": "execute_result"
    }
   ],
   "source": [
    "auc(df_scores.fpr, df_scores.tpr)"
   ]
  },
  {
   "cell_type": "code",
   "execution_count": 138,
   "id": "d069a44a",
   "metadata": {},
   "outputs": [
    {
     "data": {
      "text/plain": [
       "0.9999810960438178"
      ]
     },
     "execution_count": 138,
     "metadata": {},
     "output_type": "execute_result"
    }
   ],
   "source": [
    "auc(df_ideal.fpr, df_ideal.tpr)"
   ]
  },
  {
   "cell_type": "markdown",
   "id": "bd37e86a",
   "metadata": {},
   "source": [
    "the auc from sklearn just calculates any area under a curve.  so to calculate it we need to use th fpr and tpr"
   ]
  },
  {
   "cell_type": "code",
   "execution_count": 139,
   "id": "fd25f267",
   "metadata": {},
   "outputs": [
    {
     "data": {
      "text/plain": [
       "0.6207366065155384"
      ]
     },
     "execution_count": 139,
     "metadata": {},
     "output_type": "execute_result"
    }
   ],
   "source": [
    "fpr, tpr, thresholds = roc_curve(y_val, y_pred)\n",
    "auc(fpr, tpr)"
   ]
  },
  {
   "cell_type": "code",
   "execution_count": 140,
   "id": "d12957ea",
   "metadata": {},
   "outputs": [
    {
     "data": {
      "text/plain": [
       "0.6207366065155384"
      ]
     },
     "execution_count": 140,
     "metadata": {},
     "output_type": "execute_result"
    }
   ],
   "source": [
    "roc_auc_score(y_val, y_pred)"
   ]
  },
  {
   "cell_type": "markdown",
   "id": "3e9aff5f",
   "metadata": {},
   "source": [
    "so basically my first model is not very good, only 62 roc_auc_score, 12 points better than random"
   ]
  },
  {
   "cell_type": "markdown",
   "id": "ba29103b",
   "metadata": {},
   "source": [
    "the interpretation of auc is that it is the probability that a randomly selected positive example with have a \n",
    "higher score than a randomly selected negative example.  "
   ]
  },
  {
   "cell_type": "code",
   "execution_count": 141,
   "id": "0868c6e7",
   "metadata": {},
   "outputs": [],
   "source": [
    "neg = y_pred[y_val == 0]\n",
    "pos = y_pred[y_val == 1]"
   ]
  },
  {
   "cell_type": "code",
   "execution_count": 142,
   "id": "7bb9004e",
   "metadata": {},
   "outputs": [],
   "source": [
    "import random"
   ]
  },
  {
   "cell_type": "code",
   "execution_count": 145,
   "id": "0bb9162b",
   "metadata": {},
   "outputs": [
    {
     "data": {
      "text/plain": [
       "0.61988"
      ]
     },
     "execution_count": 145,
     "metadata": {},
     "output_type": "execute_result"
    }
   ],
   "source": [
    "n = 100000\n",
    "success = 0 \n",
    "\n",
    "for i in range(n):\n",
    "    pos_ind = random.randint(0, len(pos) - 1)\n",
    "    neg_ind = random.randint(0, len(neg) - 1)\n",
    "\n",
    "    if pos[pos_ind] > neg[neg_ind]:\n",
    "        success = success + 1\n",
    "\n",
    "success / n"
   ]
  },
  {
   "cell_type": "markdown",
   "id": "378f2c66",
   "metadata": {},
   "source": [
    "wow, it really did come out to about the same percentage.  math is amazing"
   ]
  },
  {
   "cell_type": "code",
   "execution_count": 146,
   "id": "a8c9a6c3",
   "metadata": {},
   "outputs": [
    {
     "data": {
      "text/plain": [
       "0.61818"
      ]
     },
     "execution_count": 146,
     "metadata": {},
     "output_type": "execute_result"
    }
   ],
   "source": [
    "n = 50000\n",
    "\n",
    "np.random.seed(1)\n",
    "pos_ind = np.random.randint(0, len(pos), size=n)\n",
    "neg_ind = np.random.randint(0, len(neg), size=n)\n",
    "\n",
    "(pos[pos_ind] > neg[neg_ind]).mean()"
   ]
  },
  {
   "cell_type": "markdown",
   "id": "72bea232",
   "metadata": {},
   "source": [
    "## 4.7 Cross-Validation"
   ]
  },
  {
   "cell_type": "code",
   "execution_count": 147,
   "id": "0cc5e01a",
   "metadata": {},
   "outputs": [],
   "source": [
    "def train(df_train, y_train, C=1.0):\n",
    "    dicts = df_train[categorical + numerical].to_dict(orient='records')\n",
    "    \n",
    "    dv = DictVectorizer(sparse=False)\n",
    "    X_train = dv.fit_transform(dicts)\n",
    "    \n",
    "    model = LogisticRegression(C=C, max_iter=1000)\n",
    "    model.fit(X_train, y_train)\n",
    "    \n",
    "    return dv, model\n",
    "        "
   ]
  },
  {
   "cell_type": "code",
   "execution_count": 148,
   "id": "393e6d9a",
   "metadata": {},
   "outputs": [],
   "source": [
    "dv, model = train(df_train, y_train)"
   ]
  },
  {
   "cell_type": "code",
   "execution_count": 149,
   "id": "45b63127",
   "metadata": {},
   "outputs": [],
   "source": [
    "def predict(df, dv, model):\n",
    "    dicts = df[categorical + numerical].to_dict(orient='records')\n",
    "    \n",
    "    X = dv.transform(dicts)\n",
    "    \n",
    "    y_pred = model.predict_proba(X)[:, 1]\n",
    "    \n",
    "    return y_pred\n",
    "    "
   ]
  },
  {
   "cell_type": "code",
   "execution_count": 150,
   "id": "8591387f",
   "metadata": {},
   "outputs": [],
   "source": [
    "y_pred = predict(df_val, dv, model)"
   ]
  },
  {
   "cell_type": "code",
   "execution_count": 151,
   "id": "b787bb15",
   "metadata": {},
   "outputs": [],
   "source": [
    "from sklearn.model_selection import KFold"
   ]
  },
  {
   "cell_type": "code",
   "execution_count": 152,
   "id": "b0cb76a4",
   "metadata": {},
   "outputs": [],
   "source": [
    "kfold = KFold(n_splits=10, shuffle=True, random_state=1)"
   ]
  },
  {
   "cell_type": "code",
   "execution_count": 773,
   "id": "f277eed7",
   "metadata": {},
   "outputs": [
    {
     "name": "stdout",
     "output_type": "stream",
     "text": [
      "Collecting tqdm\n",
      "  Downloading tqdm-4.64.1-py2.py3-none-any.whl (78 kB)\n",
      "\u001b[2K     \u001b[90m━━━━━━━━━━━━━━━━━━━━━━━━━━━━━━━━━━━━━━━━\u001b[0m \u001b[32m78.5/78.5 kB\u001b[0m \u001b[31m1.0 MB/s\u001b[0m eta \u001b[36m0:00:00\u001b[0ma \u001b[36m0:00:01\u001b[0m\n",
      "\u001b[?25hInstalling collected packages: tqdm\n",
      "Successfully installed tqdm-4.64.1\n"
     ]
    }
   ],
   "source": [
    "!pip install tqdm"
   ]
  },
  {
   "cell_type": "code",
   "execution_count": 153,
   "id": "638451d3",
   "metadata": {},
   "outputs": [],
   "source": [
    "from tqdm.auto import tqdm"
   ]
  },
  {
   "cell_type": "code",
   "execution_count": 154,
   "id": "f849d15d",
   "metadata": {},
   "outputs": [
    {
     "data": {
      "application/vnd.jupyter.widget-view+json": {
       "model_id": "db899e089f344f24965048a3255f8efa",
       "version_major": 2,
       "version_minor": 0
      },
      "text/plain": [
       "  0%|          | 0/5 [00:00<?, ?it/s]"
      ]
     },
     "metadata": {},
     "output_type": "display_data"
    },
    {
     "name": "stdout",
     "output_type": "stream",
     "text": [
      "0 0.583 +- 0.000\n",
      "0 0.581 +- 0.002\n",
      "0 0.581 +- 0.002\n",
      "0 0.583 +- 0.003\n",
      "0 0.579 +- 0.008\n"
     ]
    },
    {
     "data": {
      "application/vnd.jupyter.widget-view+json": {
       "model_id": "add763ff3fa74240ab34fbd725f3f70e",
       "version_major": 2,
       "version_minor": 0
      },
      "text/plain": [
       "  0%|          | 0/5 [00:00<?, ?it/s]"
      ]
     },
     "metadata": {},
     "output_type": "display_data"
    },
    {
     "name": "stdout",
     "output_type": "stream",
     "text": [
      "0.001 0.583 +- 0.000\n",
      "0.001 0.581 +- 0.002\n",
      "0.001 0.581 +- 0.002\n",
      "0.001 0.583 +- 0.003\n",
      "0.001 0.579 +- 0.008\n"
     ]
    },
    {
     "data": {
      "application/vnd.jupyter.widget-view+json": {
       "model_id": "aaf54bdbcc444ba4a5f04d0227f40287",
       "version_major": 2,
       "version_minor": 0
      },
      "text/plain": [
       "  0%|          | 0/5 [00:00<?, ?it/s]"
      ]
     },
     "metadata": {},
     "output_type": "display_data"
    },
    {
     "name": "stdout",
     "output_type": "stream",
     "text": [
      "0.01 0.583 +- 0.000\n",
      "0.01 0.581 +- 0.002\n",
      "0.01 0.581 +- 0.002\n",
      "0.01 0.583 +- 0.003\n",
      "0.01 0.579 +- 0.008\n"
     ]
    },
    {
     "data": {
      "application/vnd.jupyter.widget-view+json": {
       "model_id": "77509a1486074c5ab3f8e68fe2d4f95c",
       "version_major": 2,
       "version_minor": 0
      },
      "text/plain": [
       "  0%|          | 0/5 [00:00<?, ?it/s]"
      ]
     },
     "metadata": {},
     "output_type": "display_data"
    },
    {
     "name": "stdout",
     "output_type": "stream",
     "text": [
      "0.1 0.583 +- 0.000\n",
      "0.1 0.581 +- 0.002\n",
      "0.1 0.581 +- 0.002\n",
      "0.1 0.583 +- 0.003\n",
      "0.1 0.579 +- 0.008\n"
     ]
    },
    {
     "data": {
      "application/vnd.jupyter.widget-view+json": {
       "model_id": "692412170165410e8c39227cab621f45",
       "version_major": 2,
       "version_minor": 0
      },
      "text/plain": [
       "  0%|          | 0/5 [00:00<?, ?it/s]"
      ]
     },
     "metadata": {},
     "output_type": "display_data"
    },
    {
     "name": "stdout",
     "output_type": "stream",
     "text": [
      "0 0.583 +- 0.000\n",
      "0 0.581 +- 0.002\n",
      "0 0.581 +- 0.002\n",
      "0 0.583 +- 0.003\n",
      "0 0.579 +- 0.008\n"
     ]
    }
   ],
   "source": [
    "n_splits = 5\n",
    "\n",
    "for C in [0, 0.001, 0.01, 0.1, 0]:\n",
    "\n",
    "    scores = []\n",
    "    \n",
    "    kfold = KFold(n_splits=n_splits, shuffle=True, random_state=1)\n",
    "\n",
    "    for train_idx, val_idx in tqdm(kfold.split(df_full_train), total=n_splits):\n",
    "        df_train = df_full_train.iloc[train_idx]\n",
    "        df_val = df_full_train.iloc[val_idx]\n",
    "        #print(len(df_val))\n",
    "\n",
    "        y_train = df_train.greater_than_50k.values\n",
    "        y_val = df_val.greater_than_50k.values\n",
    "\n",
    "        #print(len(df_train), len(y_train))\n",
    "\n",
    "        dv, model = train(df_train, y_train)\n",
    "        y_pred = predict(df_val, dv, model)\n",
    "\n",
    "        #print(len(df_val), len(y_pred))\n",
    "\n",
    "        auc = roc_auc_score(y_val, y_pred)\n",
    "        scores.append(auc)\n",
    "        \n",
    "        print(\"%s %.3f +- %.3f\" % (C, np.mean(scores), np.std(scores)))\n",
    "    \n",
    "    \n",
    "    "
   ]
  },
  {
   "cell_type": "code",
   "execution_count": 155,
   "id": "feca8263",
   "metadata": {},
   "outputs": [
    {
     "name": "stdout",
     "output_type": "stream",
     "text": [
      "0.579 +- 0.008\n"
     ]
    }
   ],
   "source": [
    "print(\"%.3f +- %.3f\" % (np.mean(scores), np.std(scores)))"
   ]
  },
  {
   "cell_type": "markdown",
   "id": "90522767",
   "metadata": {},
   "source": [
    "I'm not going to bother with cross_validation though cause my dataset is pretty big"
   ]
  },
  {
   "cell_type": "markdown",
   "id": "a1514880",
   "metadata": {},
   "source": [
    " ## 6.3 Decision Trees"
   ]
  },
  {
   "cell_type": "code",
   "execution_count": 156,
   "id": "bbf0bc93",
   "metadata": {},
   "outputs": [],
   "source": [
    "from sklearn.tree import DecisionTreeClassifier"
   ]
  },
  {
   "cell_type": "markdown",
   "id": "a1e90360",
   "metadata": {},
   "source": [
    "### I accidentaly altered df_val a few cells up so I need to remake it"
   ]
  },
  {
   "cell_type": "code",
   "execution_count": 157,
   "id": "1cee5262",
   "metadata": {},
   "outputs": [],
   "source": [
    "df_full_train, df_test = train_test_split(df, test_size=0.2, random_state=1)"
   ]
  },
  {
   "cell_type": "code",
   "execution_count": 158,
   "id": "5409dbfa",
   "metadata": {},
   "outputs": [],
   "source": [
    "df_train, df_val = train_test_split(df_full_train, test_size=0.25, random_state=1)"
   ]
  },
  {
   "cell_type": "code",
   "execution_count": 159,
   "id": "16b43ede",
   "metadata": {},
   "outputs": [
    {
     "data": {
      "text/plain": [
       "(19536, 6512, 6513)"
      ]
     },
     "execution_count": 159,
     "metadata": {},
     "output_type": "execute_result"
    }
   ],
   "source": [
    "len(df_train), len(df_val), len(df_test)"
   ]
  },
  {
   "cell_type": "code",
   "execution_count": 160,
   "id": "9eca8855",
   "metadata": {},
   "outputs": [],
   "source": [
    "y_train = df_train.greater_than_50k.values\n",
    "y_val = df_val.greater_than_50k.values\n",
    "y_test = df_test.greater_than_50k.values\n",
    "\n",
    "del df_train['greater_than_50k']\n",
    "del df_val['greater_than_50k']\n",
    "del df_test['greater_than_50k']"
   ]
  },
  {
   "cell_type": "code",
   "execution_count": 161,
   "id": "3c6643aa",
   "metadata": {},
   "outputs": [
    {
     "data": {
      "text/plain": [
       "(19536, 6512, 6513)"
      ]
     },
     "execution_count": 161,
     "metadata": {},
     "output_type": "execute_result"
    }
   ],
   "source": [
    "len(y_train), len(y_val), len(y_test)"
   ]
  },
  {
   "cell_type": "markdown",
   "id": "75e254ab",
   "metadata": {},
   "source": [
    "okay back to what they were"
   ]
  },
  {
   "cell_type": "code",
   "execution_count": 162,
   "id": "9a53b1a4",
   "metadata": {},
   "outputs": [],
   "source": [
    "train_dicts = df_train.to_dict(orient='records')"
   ]
  },
  {
   "cell_type": "code",
   "execution_count": 163,
   "id": "3d2cd12b",
   "metadata": {},
   "outputs": [],
   "source": [
    "dv = DictVectorizer(sparse=False)\n",
    "X_train = dv.fit_transform(train_dicts)"
   ]
  },
  {
   "cell_type": "code",
   "execution_count": 164,
   "id": "5288224b",
   "metadata": {},
   "outputs": [
    {
     "data": {
      "text/html": [
       "<style>#sk-container-id-3 {color: black;background-color: white;}#sk-container-id-3 pre{padding: 0;}#sk-container-id-3 div.sk-toggleable {background-color: white;}#sk-container-id-3 label.sk-toggleable__label {cursor: pointer;display: block;width: 100%;margin-bottom: 0;padding: 0.3em;box-sizing: border-box;text-align: center;}#sk-container-id-3 label.sk-toggleable__label-arrow:before {content: \"▸\";float: left;margin-right: 0.25em;color: #696969;}#sk-container-id-3 label.sk-toggleable__label-arrow:hover:before {color: black;}#sk-container-id-3 div.sk-estimator:hover label.sk-toggleable__label-arrow:before {color: black;}#sk-container-id-3 div.sk-toggleable__content {max-height: 0;max-width: 0;overflow: hidden;text-align: left;background-color: #f0f8ff;}#sk-container-id-3 div.sk-toggleable__content pre {margin: 0.2em;color: black;border-radius: 0.25em;background-color: #f0f8ff;}#sk-container-id-3 input.sk-toggleable__control:checked~div.sk-toggleable__content {max-height: 200px;max-width: 100%;overflow: auto;}#sk-container-id-3 input.sk-toggleable__control:checked~label.sk-toggleable__label-arrow:before {content: \"▾\";}#sk-container-id-3 div.sk-estimator input.sk-toggleable__control:checked~label.sk-toggleable__label {background-color: #d4ebff;}#sk-container-id-3 div.sk-label input.sk-toggleable__control:checked~label.sk-toggleable__label {background-color: #d4ebff;}#sk-container-id-3 input.sk-hidden--visually {border: 0;clip: rect(1px 1px 1px 1px);clip: rect(1px, 1px, 1px, 1px);height: 1px;margin: -1px;overflow: hidden;padding: 0;position: absolute;width: 1px;}#sk-container-id-3 div.sk-estimator {font-family: monospace;background-color: #f0f8ff;border: 1px dotted black;border-radius: 0.25em;box-sizing: border-box;margin-bottom: 0.5em;}#sk-container-id-3 div.sk-estimator:hover {background-color: #d4ebff;}#sk-container-id-3 div.sk-parallel-item::after {content: \"\";width: 100%;border-bottom: 1px solid gray;flex-grow: 1;}#sk-container-id-3 div.sk-label:hover label.sk-toggleable__label {background-color: #d4ebff;}#sk-container-id-3 div.sk-serial::before {content: \"\";position: absolute;border-left: 1px solid gray;box-sizing: border-box;top: 0;bottom: 0;left: 50%;z-index: 0;}#sk-container-id-3 div.sk-serial {display: flex;flex-direction: column;align-items: center;background-color: white;padding-right: 0.2em;padding-left: 0.2em;position: relative;}#sk-container-id-3 div.sk-item {position: relative;z-index: 1;}#sk-container-id-3 div.sk-parallel {display: flex;align-items: stretch;justify-content: center;background-color: white;position: relative;}#sk-container-id-3 div.sk-item::before, #sk-container-id-3 div.sk-parallel-item::before {content: \"\";position: absolute;border-left: 1px solid gray;box-sizing: border-box;top: 0;bottom: 0;left: 50%;z-index: -1;}#sk-container-id-3 div.sk-parallel-item {display: flex;flex-direction: column;z-index: 1;position: relative;background-color: white;}#sk-container-id-3 div.sk-parallel-item:first-child::after {align-self: flex-end;width: 50%;}#sk-container-id-3 div.sk-parallel-item:last-child::after {align-self: flex-start;width: 50%;}#sk-container-id-3 div.sk-parallel-item:only-child::after {width: 0;}#sk-container-id-3 div.sk-dashed-wrapped {border: 1px dashed gray;margin: 0 0.4em 0.5em 0.4em;box-sizing: border-box;padding-bottom: 0.4em;background-color: white;}#sk-container-id-3 div.sk-label label {font-family: monospace;font-weight: bold;display: inline-block;line-height: 1.2em;}#sk-container-id-3 div.sk-label-container {text-align: center;}#sk-container-id-3 div.sk-container {/* jupyter's `normalize.less` sets `[hidden] { display: none; }` but bootstrap.min.css set `[hidden] { display: none !important; }` so we also need the `!important` here to be able to override the default hidden behavior on the sphinx rendered scikit-learn.org. See: https://github.com/scikit-learn/scikit-learn/issues/21755 */display: inline-block !important;position: relative;}#sk-container-id-3 div.sk-text-repr-fallback {display: none;}</style><div id=\"sk-container-id-3\" class=\"sk-top-container\"><div class=\"sk-text-repr-fallback\"><pre>DecisionTreeClassifier()</pre><b>In a Jupyter environment, please rerun this cell to show the HTML representation or trust the notebook. <br />On GitHub, the HTML representation is unable to render, please try loading this page with nbviewer.org.</b></div><div class=\"sk-container\" hidden><div class=\"sk-item\"><div class=\"sk-estimator sk-toggleable\"><input class=\"sk-toggleable__control sk-hidden--visually\" id=\"sk-estimator-id-3\" type=\"checkbox\" checked><label for=\"sk-estimator-id-3\" class=\"sk-toggleable__label sk-toggleable__label-arrow\">DecisionTreeClassifier</label><div class=\"sk-toggleable__content\"><pre>DecisionTreeClassifier()</pre></div></div></div></div></div>"
      ],
      "text/plain": [
       "DecisionTreeClassifier()"
      ]
     },
     "execution_count": 164,
     "metadata": {},
     "output_type": "execute_result"
    }
   ],
   "source": [
    "dt = DecisionTreeClassifier()\n",
    "dt.fit(X_train, y_train)"
   ]
  },
  {
   "cell_type": "code",
   "execution_count": 165,
   "id": "9708e062",
   "metadata": {},
   "outputs": [],
   "source": [
    "val_dicts = df_val.to_dict(orient='records')\n"
   ]
  },
  {
   "cell_type": "code",
   "execution_count": 166,
   "id": "07afe263",
   "metadata": {},
   "outputs": [],
   "source": [
    "X_val = dv.transform(val_dicts)"
   ]
  },
  {
   "cell_type": "code",
   "execution_count": 167,
   "id": "0651b042",
   "metadata": {},
   "outputs": [],
   "source": [
    "y_pred = dt.predict_proba(X_val)[:, 1]\n",
    "#y_pred = dt.predict(X_val)"
   ]
  },
  {
   "cell_type": "code",
   "execution_count": 168,
   "id": "fc0d3b94",
   "metadata": {},
   "outputs": [
    {
     "data": {
      "text/plain": [
       "0.8049754299754299"
      ]
     },
     "execution_count": 168,
     "metadata": {},
     "output_type": "execute_result"
    }
   ],
   "source": [
    "accuracy_score(y_val, y_pred)"
   ]
  },
  {
   "cell_type": "code",
   "execution_count": 169,
   "id": "d48a0c75",
   "metadata": {},
   "outputs": [
    {
     "data": {
      "text/plain": [
       "0.7435489304330631"
      ]
     },
     "execution_count": 169,
     "metadata": {},
     "output_type": "execute_result"
    }
   ],
   "source": [
    "roc_auc_score(y_val, y_pred)"
   ]
  },
  {
   "cell_type": "code",
   "execution_count": 170,
   "id": "c5b16c5e",
   "metadata": {},
   "outputs": [
    {
     "data": {
      "text/html": [
       "<style>#sk-container-id-4 {color: black;background-color: white;}#sk-container-id-4 pre{padding: 0;}#sk-container-id-4 div.sk-toggleable {background-color: white;}#sk-container-id-4 label.sk-toggleable__label {cursor: pointer;display: block;width: 100%;margin-bottom: 0;padding: 0.3em;box-sizing: border-box;text-align: center;}#sk-container-id-4 label.sk-toggleable__label-arrow:before {content: \"▸\";float: left;margin-right: 0.25em;color: #696969;}#sk-container-id-4 label.sk-toggleable__label-arrow:hover:before {color: black;}#sk-container-id-4 div.sk-estimator:hover label.sk-toggleable__label-arrow:before {color: black;}#sk-container-id-4 div.sk-toggleable__content {max-height: 0;max-width: 0;overflow: hidden;text-align: left;background-color: #f0f8ff;}#sk-container-id-4 div.sk-toggleable__content pre {margin: 0.2em;color: black;border-radius: 0.25em;background-color: #f0f8ff;}#sk-container-id-4 input.sk-toggleable__control:checked~div.sk-toggleable__content {max-height: 200px;max-width: 100%;overflow: auto;}#sk-container-id-4 input.sk-toggleable__control:checked~label.sk-toggleable__label-arrow:before {content: \"▾\";}#sk-container-id-4 div.sk-estimator input.sk-toggleable__control:checked~label.sk-toggleable__label {background-color: #d4ebff;}#sk-container-id-4 div.sk-label input.sk-toggleable__control:checked~label.sk-toggleable__label {background-color: #d4ebff;}#sk-container-id-4 input.sk-hidden--visually {border: 0;clip: rect(1px 1px 1px 1px);clip: rect(1px, 1px, 1px, 1px);height: 1px;margin: -1px;overflow: hidden;padding: 0;position: absolute;width: 1px;}#sk-container-id-4 div.sk-estimator {font-family: monospace;background-color: #f0f8ff;border: 1px dotted black;border-radius: 0.25em;box-sizing: border-box;margin-bottom: 0.5em;}#sk-container-id-4 div.sk-estimator:hover {background-color: #d4ebff;}#sk-container-id-4 div.sk-parallel-item::after {content: \"\";width: 100%;border-bottom: 1px solid gray;flex-grow: 1;}#sk-container-id-4 div.sk-label:hover label.sk-toggleable__label {background-color: #d4ebff;}#sk-container-id-4 div.sk-serial::before {content: \"\";position: absolute;border-left: 1px solid gray;box-sizing: border-box;top: 0;bottom: 0;left: 50%;z-index: 0;}#sk-container-id-4 div.sk-serial {display: flex;flex-direction: column;align-items: center;background-color: white;padding-right: 0.2em;padding-left: 0.2em;position: relative;}#sk-container-id-4 div.sk-item {position: relative;z-index: 1;}#sk-container-id-4 div.sk-parallel {display: flex;align-items: stretch;justify-content: center;background-color: white;position: relative;}#sk-container-id-4 div.sk-item::before, #sk-container-id-4 div.sk-parallel-item::before {content: \"\";position: absolute;border-left: 1px solid gray;box-sizing: border-box;top: 0;bottom: 0;left: 50%;z-index: -1;}#sk-container-id-4 div.sk-parallel-item {display: flex;flex-direction: column;z-index: 1;position: relative;background-color: white;}#sk-container-id-4 div.sk-parallel-item:first-child::after {align-self: flex-end;width: 50%;}#sk-container-id-4 div.sk-parallel-item:last-child::after {align-self: flex-start;width: 50%;}#sk-container-id-4 div.sk-parallel-item:only-child::after {width: 0;}#sk-container-id-4 div.sk-dashed-wrapped {border: 1px dashed gray;margin: 0 0.4em 0.5em 0.4em;box-sizing: border-box;padding-bottom: 0.4em;background-color: white;}#sk-container-id-4 div.sk-label label {font-family: monospace;font-weight: bold;display: inline-block;line-height: 1.2em;}#sk-container-id-4 div.sk-label-container {text-align: center;}#sk-container-id-4 div.sk-container {/* jupyter's `normalize.less` sets `[hidden] { display: none; }` but bootstrap.min.css set `[hidden] { display: none !important; }` so we also need the `!important` here to be able to override the default hidden behavior on the sphinx rendered scikit-learn.org. See: https://github.com/scikit-learn/scikit-learn/issues/21755 */display: inline-block !important;position: relative;}#sk-container-id-4 div.sk-text-repr-fallback {display: none;}</style><div id=\"sk-container-id-4\" class=\"sk-top-container\"><div class=\"sk-text-repr-fallback\"><pre>DecisionTreeClassifier(max_depth=3)</pre><b>In a Jupyter environment, please rerun this cell to show the HTML representation or trust the notebook. <br />On GitHub, the HTML representation is unable to render, please try loading this page with nbviewer.org.</b></div><div class=\"sk-container\" hidden><div class=\"sk-item\"><div class=\"sk-estimator sk-toggleable\"><input class=\"sk-toggleable__control sk-hidden--visually\" id=\"sk-estimator-id-4\" type=\"checkbox\" checked><label for=\"sk-estimator-id-4\" class=\"sk-toggleable__label sk-toggleable__label-arrow\">DecisionTreeClassifier</label><div class=\"sk-toggleable__content\"><pre>DecisionTreeClassifier(max_depth=3)</pre></div></div></div></div></div>"
      ],
      "text/plain": [
       "DecisionTreeClassifier(max_depth=3)"
      ]
     },
     "execution_count": 170,
     "metadata": {},
     "output_type": "execute_result"
    }
   ],
   "source": [
    "# lets try limiting the max_depth\n",
    "dt = DecisionTreeClassifier(max_depth=3)\n",
    "dt.fit(X_train, y_train)"
   ]
  },
  {
   "cell_type": "code",
   "execution_count": 171,
   "id": "fcc4d4c4",
   "metadata": {},
   "outputs": [],
   "source": [
    "y_pred = dt.predict_proba(X_val)[:, 1]"
   ]
  },
  {
   "cell_type": "code",
   "execution_count": 172,
   "id": "12654f7c",
   "metadata": {},
   "outputs": [
    {
     "data": {
      "text/plain": [
       "0.8511174821644325"
      ]
     },
     "execution_count": 172,
     "metadata": {},
     "output_type": "execute_result"
    }
   ],
   "source": [
    "roc_auc_score(y_val, y_pred)"
   ]
  },
  {
   "cell_type": "markdown",
   "id": "8ac1e748",
   "metadata": {},
   "source": [
    "wow thats a nice jump in quality just from limiting the max_depth to 3."
   ]
  },
  {
   "cell_type": "code",
   "execution_count": 173,
   "id": "e67d2fd6",
   "metadata": {},
   "outputs": [],
   "source": [
    "# If putting in a function be sure to make the defaults the defaults from the docs\n",
    "def tune_dt_params(max_depth=None, min_samples_leaf=1):\n",
    "    dt = DecisionTreeClassifier(max_depth=max_depth, min_samples_leaf=min_samples_leaf, random_state=1)\n",
    "    dt.fit(X_train, y_train)\n",
    "    y_pred = dt.predict_proba(X_val)[:, 1]\n",
    "    \n",
    "    return roc_auc_score(y_val, y_pred)\n",
    "    \n",
    "    "
   ]
  },
  {
   "cell_type": "code",
   "execution_count": 175,
   "id": "2ff52e42",
   "metadata": {},
   "outputs": [
    {
     "name": "stdout",
     "output_type": "stream",
     "text": [
      "max_depth=20 -----> 0.800\n",
      "max_depth=19 -----> 0.812\n",
      "max_depth=18 -----> 0.825\n",
      "max_depth=17 -----> 0.831\n",
      "max_depth=16 -----> 0.843\n",
      "max_depth=15 -----> 0.847\n",
      "max_depth=14 -----> 0.857\n",
      "max_depth=13 -----> 0.861\n",
      "max_depth=12 -----> 0.869\n",
      "max_depth=11 -----> 0.879\n",
      "max_depth=10 -----> 0.888\n",
      "max_depth=9 -----> 0.891\n",
      "max_depth=8 -----> 0.894\n",
      "max_depth=7 -----> 0.893\n",
      "max_depth=6 -----> 0.889\n",
      "max_depth=5 -----> 0.880\n",
      "max_depth=4 -----> 0.867\n",
      "max_depth=3 -----> 0.851\n",
      "max_depth=2 -----> 0.821\n",
      "max_depth=1 -----> 0.746\n"
     ]
    }
   ],
   "source": [
    "for md in range(20, 0, -1):\n",
    "    print(\"max_depth=%s -----> %.3f\" % (md, tune_dt_params(max_depth=md)))"
   ]
  },
  {
   "cell_type": "markdown",
   "id": "3547ffcd",
   "metadata": {},
   "source": [
    "so max_depth of 8 seems like the clear best value.  although that may be effected by the tuning of other parameters"
   ]
  },
  {
   "cell_type": "markdown",
   "id": "1c9ee8fb",
   "metadata": {},
   "source": [
    "also I gotta say an 89 roc_auc score seems pretty good to me considering that I started with about a 60 with my logistic regression model"
   ]
  },
  {
   "cell_type": "code",
   "execution_count": 176,
   "id": "a8dd9270",
   "metadata": {},
   "outputs": [
    {
     "data": {
      "text/html": [
       "<style>#sk-container-id-5 {color: black;background-color: white;}#sk-container-id-5 pre{padding: 0;}#sk-container-id-5 div.sk-toggleable {background-color: white;}#sk-container-id-5 label.sk-toggleable__label {cursor: pointer;display: block;width: 100%;margin-bottom: 0;padding: 0.3em;box-sizing: border-box;text-align: center;}#sk-container-id-5 label.sk-toggleable__label-arrow:before {content: \"▸\";float: left;margin-right: 0.25em;color: #696969;}#sk-container-id-5 label.sk-toggleable__label-arrow:hover:before {color: black;}#sk-container-id-5 div.sk-estimator:hover label.sk-toggleable__label-arrow:before {color: black;}#sk-container-id-5 div.sk-toggleable__content {max-height: 0;max-width: 0;overflow: hidden;text-align: left;background-color: #f0f8ff;}#sk-container-id-5 div.sk-toggleable__content pre {margin: 0.2em;color: black;border-radius: 0.25em;background-color: #f0f8ff;}#sk-container-id-5 input.sk-toggleable__control:checked~div.sk-toggleable__content {max-height: 200px;max-width: 100%;overflow: auto;}#sk-container-id-5 input.sk-toggleable__control:checked~label.sk-toggleable__label-arrow:before {content: \"▾\";}#sk-container-id-5 div.sk-estimator input.sk-toggleable__control:checked~label.sk-toggleable__label {background-color: #d4ebff;}#sk-container-id-5 div.sk-label input.sk-toggleable__control:checked~label.sk-toggleable__label {background-color: #d4ebff;}#sk-container-id-5 input.sk-hidden--visually {border: 0;clip: rect(1px 1px 1px 1px);clip: rect(1px, 1px, 1px, 1px);height: 1px;margin: -1px;overflow: hidden;padding: 0;position: absolute;width: 1px;}#sk-container-id-5 div.sk-estimator {font-family: monospace;background-color: #f0f8ff;border: 1px dotted black;border-radius: 0.25em;box-sizing: border-box;margin-bottom: 0.5em;}#sk-container-id-5 div.sk-estimator:hover {background-color: #d4ebff;}#sk-container-id-5 div.sk-parallel-item::after {content: \"\";width: 100%;border-bottom: 1px solid gray;flex-grow: 1;}#sk-container-id-5 div.sk-label:hover label.sk-toggleable__label {background-color: #d4ebff;}#sk-container-id-5 div.sk-serial::before {content: \"\";position: absolute;border-left: 1px solid gray;box-sizing: border-box;top: 0;bottom: 0;left: 50%;z-index: 0;}#sk-container-id-5 div.sk-serial {display: flex;flex-direction: column;align-items: center;background-color: white;padding-right: 0.2em;padding-left: 0.2em;position: relative;}#sk-container-id-5 div.sk-item {position: relative;z-index: 1;}#sk-container-id-5 div.sk-parallel {display: flex;align-items: stretch;justify-content: center;background-color: white;position: relative;}#sk-container-id-5 div.sk-item::before, #sk-container-id-5 div.sk-parallel-item::before {content: \"\";position: absolute;border-left: 1px solid gray;box-sizing: border-box;top: 0;bottom: 0;left: 50%;z-index: -1;}#sk-container-id-5 div.sk-parallel-item {display: flex;flex-direction: column;z-index: 1;position: relative;background-color: white;}#sk-container-id-5 div.sk-parallel-item:first-child::after {align-self: flex-end;width: 50%;}#sk-container-id-5 div.sk-parallel-item:last-child::after {align-self: flex-start;width: 50%;}#sk-container-id-5 div.sk-parallel-item:only-child::after {width: 0;}#sk-container-id-5 div.sk-dashed-wrapped {border: 1px dashed gray;margin: 0 0.4em 0.5em 0.4em;box-sizing: border-box;padding-bottom: 0.4em;background-color: white;}#sk-container-id-5 div.sk-label label {font-family: monospace;font-weight: bold;display: inline-block;line-height: 1.2em;}#sk-container-id-5 div.sk-label-container {text-align: center;}#sk-container-id-5 div.sk-container {/* jupyter's `normalize.less` sets `[hidden] { display: none; }` but bootstrap.min.css set `[hidden] { display: none !important; }` so we also need the `!important` here to be able to override the default hidden behavior on the sphinx rendered scikit-learn.org. See: https://github.com/scikit-learn/scikit-learn/issues/21755 */display: inline-block !important;position: relative;}#sk-container-id-5 div.sk-text-repr-fallback {display: none;}</style><div id=\"sk-container-id-5\" class=\"sk-top-container\"><div class=\"sk-text-repr-fallback\"><pre>DecisionTreeClassifier(max_depth=3, random_state=1)</pre><b>In a Jupyter environment, please rerun this cell to show the HTML representation or trust the notebook. <br />On GitHub, the HTML representation is unable to render, please try loading this page with nbviewer.org.</b></div><div class=\"sk-container\" hidden><div class=\"sk-item\"><div class=\"sk-estimator sk-toggleable\"><input class=\"sk-toggleable__control sk-hidden--visually\" id=\"sk-estimator-id-5\" type=\"checkbox\" checked><label for=\"sk-estimator-id-5\" class=\"sk-toggleable__label sk-toggleable__label-arrow\">DecisionTreeClassifier</label><div class=\"sk-toggleable__content\"><pre>DecisionTreeClassifier(max_depth=3, random_state=1)</pre></div></div></div></div></div>"
      ],
      "text/plain": [
       "DecisionTreeClassifier(max_depth=3, random_state=1)"
      ]
     },
     "execution_count": 176,
     "metadata": {},
     "output_type": "execute_result"
    }
   ],
   "source": [
    "dt = DecisionTreeClassifier(max_depth=3, random_state=1)\n",
    "dt.fit(X_train, y_train)"
   ]
  },
  {
   "cell_type": "code",
   "execution_count": 177,
   "id": "5fcdc1f8",
   "metadata": {},
   "outputs": [],
   "source": [
    "from sklearn.tree import export_text"
   ]
  },
  {
   "cell_type": "code",
   "execution_count": 178,
   "id": "af2a6402",
   "metadata": {},
   "outputs": [
    {
     "name": "stdout",
     "output_type": "stream",
     "text": [
      "|--- marital_status=married_civ_spouse <= 0.50\n",
      "|   |--- capital_gain <= 7073.50\n",
      "|   |   |--- education_num <= 12.50\n",
      "|   |   |   |--- class: 0\n",
      "|   |   |--- education_num >  12.50\n",
      "|   |   |   |--- class: 0\n",
      "|   |--- capital_gain >  7073.50\n",
      "|   |   |--- fnlwgt <= 25827.50\n",
      "|   |   |   |--- class: 0\n",
      "|   |   |--- fnlwgt >  25827.50\n",
      "|   |   |   |--- class: 1\n",
      "|--- marital_status=married_civ_spouse >  0.50\n",
      "|   |--- education_num <= 12.50\n",
      "|   |   |--- capital_gain <= 5095.50\n",
      "|   |   |   |--- class: 0\n",
      "|   |   |--- capital_gain >  5095.50\n",
      "|   |   |   |--- class: 1\n",
      "|   |--- education_num >  12.50\n",
      "|   |   |--- capital_gain <= 5095.50\n",
      "|   |   |   |--- class: 1\n",
      "|   |   |--- capital_gain >  5095.50\n",
      "|   |   |   |--- class: 1\n",
      "\n"
     ]
    },
    {
     "name": "stderr",
     "output_type": "stream",
     "text": [
      "/Users/isaachurwitz/opt/anaconda3/envs/ml-zoomcamp/lib/python3.9/site-packages/sklearn/utils/deprecation.py:87: FutureWarning: Function get_feature_names is deprecated; get_feature_names is deprecated in 1.0 and will be removed in 1.2. Please use get_feature_names_out instead.\n",
      "  warnings.warn(msg, category=FutureWarning)\n"
     ]
    }
   ],
   "source": [
    "print(export_text(dt, feature_names=dv.get_feature_names()))"
   ]
  },
  {
   "cell_type": "code",
   "execution_count": 179,
   "id": "a14ed8e4",
   "metadata": {},
   "outputs": [
    {
     "name": "stdout",
     "output_type": "stream",
     "text": [
      "max_depth: 5\n",
      "    min_samples_leaf=   1 ----> 0.88012\n",
      "    min_samples_leaf=   2 ----> 0.87987\n",
      "    min_samples_leaf=   5 ----> 0.87974\n",
      "    min_samples_leaf=  10 ----> 0.87973\n",
      "    min_samples_leaf=  15 ----> 0.87981\n",
      "    min_samples_leaf=  20 ----> 0.88115\n",
      "    min_samples_leaf= 100 ----> 0.88289\n",
      "    min_samples_leaf= 200 ----> 0.88283\n",
      "    min_samples_leaf= 500 ----> 0.86585\n",
      "    min_samples_leaf=1000 ----> 0.85079\n",
      "max_depth: 7\n",
      "    min_samples_leaf=   1 ----> 0.89261\n",
      "    min_samples_leaf=   2 ----> 0.89395\n",
      "    min_samples_leaf=   5 ----> 0.89447\n",
      "    min_samples_leaf=  10 ----> 0.89546\n",
      "    min_samples_leaf=  15 ----> 0.89569\n",
      "    min_samples_leaf=  20 ----> 0.89523\n",
      "    min_samples_leaf= 100 ----> 0.89324\n",
      "    min_samples_leaf= 200 ----> 0.89321\n",
      "    min_samples_leaf= 500 ----> 0.87156\n",
      "    min_samples_leaf=1000 ----> 0.85080\n",
      "max_depth: 8\n",
      "    min_samples_leaf=   1 ----> 0.89377\n",
      "    min_samples_leaf=   2 ----> 0.89658\n",
      "    min_samples_leaf=   5 ----> 0.89736\n",
      "    min_samples_leaf=  10 ----> 0.89939\n",
      "    min_samples_leaf=  15 ----> 0.89952\n",
      "    min_samples_leaf=  20 ----> 0.89925\n",
      "    min_samples_leaf= 100 ----> 0.89706\n",
      "    min_samples_leaf= 200 ----> 0.89440\n",
      "    min_samples_leaf= 500 ----> 0.87140\n",
      "    min_samples_leaf=1000 ----> 0.85080\n",
      "max_depth: 9\n",
      "    min_samples_leaf=   1 ----> 0.89094\n",
      "    min_samples_leaf=   2 ----> 0.89293\n",
      "    min_samples_leaf=   5 ----> 0.89558\n",
      "    min_samples_leaf=  10 ----> 0.89609\n",
      "    min_samples_leaf=  15 ----> 0.89704\n",
      "    min_samples_leaf=  20 ----> 0.89795\n",
      "    min_samples_leaf= 100 ----> 0.89711\n",
      "    min_samples_leaf= 200 ----> 0.89470\n",
      "    min_samples_leaf= 500 ----> 0.87140\n",
      "    min_samples_leaf=1000 ----> 0.85080\n",
      "max_depth: 12\n",
      "    min_samples_leaf=   1 ----> 0.86947\n",
      "    min_samples_leaf=   2 ----> 0.87341\n",
      "    min_samples_leaf=   5 ----> 0.88055\n",
      "    min_samples_leaf=  10 ----> 0.88280\n",
      "    min_samples_leaf=  15 ----> 0.88881\n",
      "    min_samples_leaf=  20 ----> 0.89060\n",
      "    min_samples_leaf= 100 ----> 0.89757\n",
      "    min_samples_leaf= 200 ----> 0.89431\n",
      "    min_samples_leaf= 500 ----> 0.87140\n",
      "    min_samples_leaf=1000 ----> 0.85080\n"
     ]
    }
   ],
   "source": [
    "df_scores = pd.DataFrame()\n",
    "max_depth = []\n",
    "min_samples_leaf = []\n",
    "aucs = []\n",
    "\n",
    "for md in [5, 7, 8, 9, 12]:\n",
    "    print('max_depth: %s' % (md))\n",
    "    \n",
    "    for s in [1, 2, 5, 10, 15, 20, 100, 200, 500, 1000]:\n",
    "        auc = tune_dt_params(md, s)\n",
    "        print(\"    min_samples_leaf=%4s ----> %.5f\" % (s, auc))\n",
    "        \n",
    "        max_depth.append(md)\n",
    "        min_samples_leaf.append(s)\n",
    "        aucs.append(auc)\n",
    "          \n",
    "            \n",
    "df_scores['max_depth'] = max_depth\n",
    "df_scores['min_samples_leaf'] = min_samples_leaf\n",
    "df_scores['auc'] = np.round(aucs, 5)"
   ]
  },
  {
   "cell_type": "code",
   "execution_count": 180,
   "id": "e8f607a6",
   "metadata": {},
   "outputs": [
    {
     "data": {
      "text/html": [
       "<div>\n",
       "<style scoped>\n",
       "    .dataframe tbody tr th:only-of-type {\n",
       "        vertical-align: middle;\n",
       "    }\n",
       "\n",
       "    .dataframe tbody tr th {\n",
       "        vertical-align: top;\n",
       "    }\n",
       "\n",
       "    .dataframe thead th {\n",
       "        text-align: right;\n",
       "    }\n",
       "</style>\n",
       "<table border=\"1\" class=\"dataframe\">\n",
       "  <thead>\n",
       "    <tr style=\"text-align: right;\">\n",
       "      <th></th>\n",
       "      <th>max_depth</th>\n",
       "      <th>min_samples_leaf</th>\n",
       "      <th>auc</th>\n",
       "    </tr>\n",
       "  </thead>\n",
       "  <tbody>\n",
       "    <tr>\n",
       "      <th>24</th>\n",
       "      <td>8</td>\n",
       "      <td>15</td>\n",
       "      <td>0.89952</td>\n",
       "    </tr>\n",
       "    <tr>\n",
       "      <th>23</th>\n",
       "      <td>8</td>\n",
       "      <td>10</td>\n",
       "      <td>0.89939</td>\n",
       "    </tr>\n",
       "    <tr>\n",
       "      <th>25</th>\n",
       "      <td>8</td>\n",
       "      <td>20</td>\n",
       "      <td>0.89925</td>\n",
       "    </tr>\n",
       "    <tr>\n",
       "      <th>35</th>\n",
       "      <td>9</td>\n",
       "      <td>20</td>\n",
       "      <td>0.89795</td>\n",
       "    </tr>\n",
       "    <tr>\n",
       "      <th>46</th>\n",
       "      <td>12</td>\n",
       "      <td>100</td>\n",
       "      <td>0.89757</td>\n",
       "    </tr>\n",
       "  </tbody>\n",
       "</table>\n",
       "</div>"
      ],
      "text/plain": [
       "    max_depth  min_samples_leaf      auc\n",
       "24          8                15  0.89952\n",
       "23          8                10  0.89939\n",
       "25          8                20  0.89925\n",
       "35          9                20  0.89795\n",
       "46         12               100  0.89757"
      ]
     },
     "execution_count": 180,
     "metadata": {},
     "output_type": "execute_result"
    }
   ],
   "source": [
    "df_scores.sort_values('auc', ascending=False).head()"
   ]
  },
  {
   "cell_type": "code",
   "execution_count": 181,
   "id": "44c4fa88",
   "metadata": {},
   "outputs": [
    {
     "name": "stdout",
     "output_type": "stream",
     "text": [
      "min_samples_leaf=  1 -----> val_auc: 0.744\n",
      "min_samples_leaf=  2 -----> val_auc: 0.782\n",
      "min_samples_leaf=  5 -----> val_auc: 0.832\n",
      "min_samples_leaf= 10 -----> val_auc: 0.867\n",
      "min_samples_leaf= 15 -----> val_auc: 0.880\n",
      "min_samples_leaf= 20 -----> val_auc: 0.885\n",
      "min_samples_leaf=100 -----> val_auc: 0.897\n",
      "min_samples_leaf=200 -----> val_auc: 0.894\n",
      "min_samples_leaf=500 -----> val_auc: 0.871\n",
      "min_samples_leaf=1000 -----> val_auc: 0.851\n"
     ]
    }
   ],
   "source": [
    "# as an experiment I am seeing what what happen if I tune min_samples_leaf first\n",
    "for s in [1, 2, 5, 10, 15, 20, 100, 200, 500, 1000]:\n",
    "    print(\"min_samples_leaf=%3s -----> val_auc: %.3f\" % (s, tune_dt_params(min_samples_leaf=s)))"
   ]
  },
  {
   "cell_type": "code",
   "execution_count": 182,
   "id": "35a179fa",
   "metadata": {},
   "outputs": [],
   "source": [
    "df_scores = pd.DataFrame()\n",
    "max_depth = []\n",
    "min_samples_leaf = []\n",
    "aucs = []\n",
    "\n",
    "for s in [10, 15, 20, 100, 110, 200]:\n",
    "#for md in [5, 7, 8, 9, 12]:\n",
    "    #print('max_depth: %s' % (md))\n",
    "    \n",
    "    for md in [5, 7, 8, 9, 12]:\n",
    "        auc = tune_dt_params(md, s)\n",
    "        #print(\"    min_samples_leaf=%4s ----> %.5f\" % (s, auc))\n",
    "        \n",
    "        max_depth.append(md)\n",
    "        min_samples_leaf.append(s)\n",
    "        aucs.append(auc)\n",
    "          \n",
    "            \n",
    "df_scores['max_depth'] = max_depth\n",
    "df_scores['min_samples_leaf'] = min_samples_leaf\n",
    "df_scores['auc'] = np.round(aucs, 3)"
   ]
  },
  {
   "cell_type": "code",
   "execution_count": 183,
   "id": "bb7890a9",
   "metadata": {},
   "outputs": [
    {
     "data": {
      "text/html": [
       "<div>\n",
       "<style scoped>\n",
       "    .dataframe tbody tr th:only-of-type {\n",
       "        vertical-align: middle;\n",
       "    }\n",
       "\n",
       "    .dataframe tbody tr th {\n",
       "        vertical-align: top;\n",
       "    }\n",
       "\n",
       "    .dataframe thead th {\n",
       "        text-align: right;\n",
       "    }\n",
       "</style>\n",
       "<table border=\"1\" class=\"dataframe\">\n",
       "  <thead>\n",
       "    <tr style=\"text-align: right;\">\n",
       "      <th></th>\n",
       "      <th>max_depth</th>\n",
       "      <th>min_samples_leaf</th>\n",
       "      <th>auc</th>\n",
       "    </tr>\n",
       "  </thead>\n",
       "  <tbody>\n",
       "    <tr>\n",
       "      <th>7</th>\n",
       "      <td>8</td>\n",
       "      <td>15</td>\n",
       "      <td>0.900</td>\n",
       "    </tr>\n",
       "    <tr>\n",
       "      <th>12</th>\n",
       "      <td>8</td>\n",
       "      <td>20</td>\n",
       "      <td>0.899</td>\n",
       "    </tr>\n",
       "    <tr>\n",
       "      <th>2</th>\n",
       "      <td>8</td>\n",
       "      <td>10</td>\n",
       "      <td>0.899</td>\n",
       "    </tr>\n",
       "    <tr>\n",
       "      <th>19</th>\n",
       "      <td>12</td>\n",
       "      <td>100</td>\n",
       "      <td>0.898</td>\n",
       "    </tr>\n",
       "    <tr>\n",
       "      <th>13</th>\n",
       "      <td>9</td>\n",
       "      <td>20</td>\n",
       "      <td>0.898</td>\n",
       "    </tr>\n",
       "  </tbody>\n",
       "</table>\n",
       "</div>"
      ],
      "text/plain": [
       "    max_depth  min_samples_leaf    auc\n",
       "7           8                15  0.900\n",
       "12          8                20  0.899\n",
       "2           8                10  0.899\n",
       "19         12               100  0.898\n",
       "13          9                20  0.898"
      ]
     },
     "execution_count": 183,
     "metadata": {},
     "output_type": "execute_result"
    }
   ],
   "source": [
    "df_scores.sort_values('auc', ascending=False).head()"
   ]
  },
  {
   "cell_type": "markdown",
   "id": "9eb7f82e",
   "metadata": {},
   "source": [
    "### so max_depth=8 and min_leaf_samples=15 appears to be the best"
   ]
  },
  {
   "cell_type": "code",
   "execution_count": 185,
   "id": "ba69c735",
   "metadata": {},
   "outputs": [
    {
     "data": {
      "text/html": [
       "<style>#sk-container-id-6 {color: black;background-color: white;}#sk-container-id-6 pre{padding: 0;}#sk-container-id-6 div.sk-toggleable {background-color: white;}#sk-container-id-6 label.sk-toggleable__label {cursor: pointer;display: block;width: 100%;margin-bottom: 0;padding: 0.3em;box-sizing: border-box;text-align: center;}#sk-container-id-6 label.sk-toggleable__label-arrow:before {content: \"▸\";float: left;margin-right: 0.25em;color: #696969;}#sk-container-id-6 label.sk-toggleable__label-arrow:hover:before {color: black;}#sk-container-id-6 div.sk-estimator:hover label.sk-toggleable__label-arrow:before {color: black;}#sk-container-id-6 div.sk-toggleable__content {max-height: 0;max-width: 0;overflow: hidden;text-align: left;background-color: #f0f8ff;}#sk-container-id-6 div.sk-toggleable__content pre {margin: 0.2em;color: black;border-radius: 0.25em;background-color: #f0f8ff;}#sk-container-id-6 input.sk-toggleable__control:checked~div.sk-toggleable__content {max-height: 200px;max-width: 100%;overflow: auto;}#sk-container-id-6 input.sk-toggleable__control:checked~label.sk-toggleable__label-arrow:before {content: \"▾\";}#sk-container-id-6 div.sk-estimator input.sk-toggleable__control:checked~label.sk-toggleable__label {background-color: #d4ebff;}#sk-container-id-6 div.sk-label input.sk-toggleable__control:checked~label.sk-toggleable__label {background-color: #d4ebff;}#sk-container-id-6 input.sk-hidden--visually {border: 0;clip: rect(1px 1px 1px 1px);clip: rect(1px, 1px, 1px, 1px);height: 1px;margin: -1px;overflow: hidden;padding: 0;position: absolute;width: 1px;}#sk-container-id-6 div.sk-estimator {font-family: monospace;background-color: #f0f8ff;border: 1px dotted black;border-radius: 0.25em;box-sizing: border-box;margin-bottom: 0.5em;}#sk-container-id-6 div.sk-estimator:hover {background-color: #d4ebff;}#sk-container-id-6 div.sk-parallel-item::after {content: \"\";width: 100%;border-bottom: 1px solid gray;flex-grow: 1;}#sk-container-id-6 div.sk-label:hover label.sk-toggleable__label {background-color: #d4ebff;}#sk-container-id-6 div.sk-serial::before {content: \"\";position: absolute;border-left: 1px solid gray;box-sizing: border-box;top: 0;bottom: 0;left: 50%;z-index: 0;}#sk-container-id-6 div.sk-serial {display: flex;flex-direction: column;align-items: center;background-color: white;padding-right: 0.2em;padding-left: 0.2em;position: relative;}#sk-container-id-6 div.sk-item {position: relative;z-index: 1;}#sk-container-id-6 div.sk-parallel {display: flex;align-items: stretch;justify-content: center;background-color: white;position: relative;}#sk-container-id-6 div.sk-item::before, #sk-container-id-6 div.sk-parallel-item::before {content: \"\";position: absolute;border-left: 1px solid gray;box-sizing: border-box;top: 0;bottom: 0;left: 50%;z-index: -1;}#sk-container-id-6 div.sk-parallel-item {display: flex;flex-direction: column;z-index: 1;position: relative;background-color: white;}#sk-container-id-6 div.sk-parallel-item:first-child::after {align-self: flex-end;width: 50%;}#sk-container-id-6 div.sk-parallel-item:last-child::after {align-self: flex-start;width: 50%;}#sk-container-id-6 div.sk-parallel-item:only-child::after {width: 0;}#sk-container-id-6 div.sk-dashed-wrapped {border: 1px dashed gray;margin: 0 0.4em 0.5em 0.4em;box-sizing: border-box;padding-bottom: 0.4em;background-color: white;}#sk-container-id-6 div.sk-label label {font-family: monospace;font-weight: bold;display: inline-block;line-height: 1.2em;}#sk-container-id-6 div.sk-label-container {text-align: center;}#sk-container-id-6 div.sk-container {/* jupyter's `normalize.less` sets `[hidden] { display: none; }` but bootstrap.min.css set `[hidden] { display: none !important; }` so we also need the `!important` here to be able to override the default hidden behavior on the sphinx rendered scikit-learn.org. See: https://github.com/scikit-learn/scikit-learn/issues/21755 */display: inline-block !important;position: relative;}#sk-container-id-6 div.sk-text-repr-fallback {display: none;}</style><div id=\"sk-container-id-6\" class=\"sk-top-container\"><div class=\"sk-text-repr-fallback\"><pre>DecisionTreeClassifier(max_depth=8, min_samples_leaf=15)</pre><b>In a Jupyter environment, please rerun this cell to show the HTML representation or trust the notebook. <br />On GitHub, the HTML representation is unable to render, please try loading this page with nbviewer.org.</b></div><div class=\"sk-container\" hidden><div class=\"sk-item\"><div class=\"sk-estimator sk-toggleable\"><input class=\"sk-toggleable__control sk-hidden--visually\" id=\"sk-estimator-id-6\" type=\"checkbox\" checked><label for=\"sk-estimator-id-6\" class=\"sk-toggleable__label sk-toggleable__label-arrow\">DecisionTreeClassifier</label><div class=\"sk-toggleable__content\"><pre>DecisionTreeClassifier(max_depth=8, min_samples_leaf=15)</pre></div></div></div></div></div>"
      ],
      "text/plain": [
       "DecisionTreeClassifier(max_depth=8, min_samples_leaf=15)"
      ]
     },
     "execution_count": 185,
     "metadata": {},
     "output_type": "execute_result"
    }
   ],
   "source": [
    "# since I have settled on these values, I will run a cell with those parameters so that is that last dt \n",
    "dt = DecisionTreeClassifier(max_depth=8, min_samples_leaf=15)\n",
    "dt.fit(X_train, y_train)"
   ]
  },
  {
   "cell_type": "markdown",
   "id": "6afd765a",
   "metadata": {},
   "source": [
    "## 6.6 Ensembles and Random Forest"
   ]
  },
  {
   "cell_type": "code",
   "execution_count": 186,
   "id": "ade57678",
   "metadata": {},
   "outputs": [],
   "source": [
    "from sklearn.ensemble import RandomForestClassifier"
   ]
  },
  {
   "cell_type": "code",
   "execution_count": 187,
   "id": "aa05ebf0",
   "metadata": {},
   "outputs": [
    {
     "data": {
      "text/html": [
       "<style>#sk-container-id-7 {color: black;background-color: white;}#sk-container-id-7 pre{padding: 0;}#sk-container-id-7 div.sk-toggleable {background-color: white;}#sk-container-id-7 label.sk-toggleable__label {cursor: pointer;display: block;width: 100%;margin-bottom: 0;padding: 0.3em;box-sizing: border-box;text-align: center;}#sk-container-id-7 label.sk-toggleable__label-arrow:before {content: \"▸\";float: left;margin-right: 0.25em;color: #696969;}#sk-container-id-7 label.sk-toggleable__label-arrow:hover:before {color: black;}#sk-container-id-7 div.sk-estimator:hover label.sk-toggleable__label-arrow:before {color: black;}#sk-container-id-7 div.sk-toggleable__content {max-height: 0;max-width: 0;overflow: hidden;text-align: left;background-color: #f0f8ff;}#sk-container-id-7 div.sk-toggleable__content pre {margin: 0.2em;color: black;border-radius: 0.25em;background-color: #f0f8ff;}#sk-container-id-7 input.sk-toggleable__control:checked~div.sk-toggleable__content {max-height: 200px;max-width: 100%;overflow: auto;}#sk-container-id-7 input.sk-toggleable__control:checked~label.sk-toggleable__label-arrow:before {content: \"▾\";}#sk-container-id-7 div.sk-estimator input.sk-toggleable__control:checked~label.sk-toggleable__label {background-color: #d4ebff;}#sk-container-id-7 div.sk-label input.sk-toggleable__control:checked~label.sk-toggleable__label {background-color: #d4ebff;}#sk-container-id-7 input.sk-hidden--visually {border: 0;clip: rect(1px 1px 1px 1px);clip: rect(1px, 1px, 1px, 1px);height: 1px;margin: -1px;overflow: hidden;padding: 0;position: absolute;width: 1px;}#sk-container-id-7 div.sk-estimator {font-family: monospace;background-color: #f0f8ff;border: 1px dotted black;border-radius: 0.25em;box-sizing: border-box;margin-bottom: 0.5em;}#sk-container-id-7 div.sk-estimator:hover {background-color: #d4ebff;}#sk-container-id-7 div.sk-parallel-item::after {content: \"\";width: 100%;border-bottom: 1px solid gray;flex-grow: 1;}#sk-container-id-7 div.sk-label:hover label.sk-toggleable__label {background-color: #d4ebff;}#sk-container-id-7 div.sk-serial::before {content: \"\";position: absolute;border-left: 1px solid gray;box-sizing: border-box;top: 0;bottom: 0;left: 50%;z-index: 0;}#sk-container-id-7 div.sk-serial {display: flex;flex-direction: column;align-items: center;background-color: white;padding-right: 0.2em;padding-left: 0.2em;position: relative;}#sk-container-id-7 div.sk-item {position: relative;z-index: 1;}#sk-container-id-7 div.sk-parallel {display: flex;align-items: stretch;justify-content: center;background-color: white;position: relative;}#sk-container-id-7 div.sk-item::before, #sk-container-id-7 div.sk-parallel-item::before {content: \"\";position: absolute;border-left: 1px solid gray;box-sizing: border-box;top: 0;bottom: 0;left: 50%;z-index: -1;}#sk-container-id-7 div.sk-parallel-item {display: flex;flex-direction: column;z-index: 1;position: relative;background-color: white;}#sk-container-id-7 div.sk-parallel-item:first-child::after {align-self: flex-end;width: 50%;}#sk-container-id-7 div.sk-parallel-item:last-child::after {align-self: flex-start;width: 50%;}#sk-container-id-7 div.sk-parallel-item:only-child::after {width: 0;}#sk-container-id-7 div.sk-dashed-wrapped {border: 1px dashed gray;margin: 0 0.4em 0.5em 0.4em;box-sizing: border-box;padding-bottom: 0.4em;background-color: white;}#sk-container-id-7 div.sk-label label {font-family: monospace;font-weight: bold;display: inline-block;line-height: 1.2em;}#sk-container-id-7 div.sk-label-container {text-align: center;}#sk-container-id-7 div.sk-container {/* jupyter's `normalize.less` sets `[hidden] { display: none; }` but bootstrap.min.css set `[hidden] { display: none !important; }` so we also need the `!important` here to be able to override the default hidden behavior on the sphinx rendered scikit-learn.org. See: https://github.com/scikit-learn/scikit-learn/issues/21755 */display: inline-block !important;position: relative;}#sk-container-id-7 div.sk-text-repr-fallback {display: none;}</style><div id=\"sk-container-id-7\" class=\"sk-top-container\"><div class=\"sk-text-repr-fallback\"><pre>RandomForestClassifier()</pre><b>In a Jupyter environment, please rerun this cell to show the HTML representation or trust the notebook. <br />On GitHub, the HTML representation is unable to render, please try loading this page with nbviewer.org.</b></div><div class=\"sk-container\" hidden><div class=\"sk-item\"><div class=\"sk-estimator sk-toggleable\"><input class=\"sk-toggleable__control sk-hidden--visually\" id=\"sk-estimator-id-7\" type=\"checkbox\" checked><label for=\"sk-estimator-id-7\" class=\"sk-toggleable__label sk-toggleable__label-arrow\">RandomForestClassifier</label><div class=\"sk-toggleable__content\"><pre>RandomForestClassifier()</pre></div></div></div></div></div>"
      ],
      "text/plain": [
       "RandomForestClassifier()"
      ]
     },
     "execution_count": 187,
     "metadata": {},
     "output_type": "execute_result"
    }
   ],
   "source": [
    "rf = RandomForestClassifier()\n",
    "rf.fit(X_train, y_train)"
   ]
  },
  {
   "cell_type": "code",
   "execution_count": 188,
   "id": "82ce3dcb",
   "metadata": {},
   "outputs": [],
   "source": [
    "y_pred = rf.predict_proba(X_val)[:, 1]"
   ]
  },
  {
   "cell_type": "code",
   "execution_count": 189,
   "id": "4d58d443",
   "metadata": {},
   "outputs": [
    {
     "data": {
      "text/plain": [
       "0.8961187279351448"
      ]
     },
     "execution_count": 189,
     "metadata": {},
     "output_type": "execute_result"
    }
   ],
   "source": [
    "roc_auc_score(y_val, y_pred)"
   ]
  },
  {
   "cell_type": "code",
   "execution_count": 190,
   "id": "5d7a2cc3",
   "metadata": {},
   "outputs": [],
   "source": [
    "def tune_rf(n=100, max_depth=None, min_samples_leaf=1):\n",
    "    rf = RandomForestClassifier(n_estimators=n, max_depth=max_depth, min_samples_leaf=min_samples_leaf, random_state=1)\n",
    "    rf.fit(X_train, y_train)\n",
    "    y_pred = rf.predict_proba(X_val)[:, 1]\n",
    "    \n",
    "    auc = roc_auc_score(y_val, y_pred)\n",
    "    \n",
    "    return auc"
   ]
  },
  {
   "cell_type": "code",
   "execution_count": 191,
   "id": "74c827b8",
   "metadata": {},
   "outputs": [],
   "source": [
    "scores = []\n",
    "for n in range(10, 500, 20):\n",
    "    auc = tune_rf(n)\n",
    "    #print(\"n_estimators: %4s ----> %.4f\" % (n, auc))\n",
    "    scores.append((n, round(auc, 3)))\n",
    "    "
   ]
  },
  {
   "cell_type": "code",
   "execution_count": 194,
   "id": "e23b4adb",
   "metadata": {},
   "outputs": [
    {
     "data": {
      "text/html": [
       "<div>\n",
       "<style scoped>\n",
       "    .dataframe tbody tr th:only-of-type {\n",
       "        vertical-align: middle;\n",
       "    }\n",
       "\n",
       "    .dataframe tbody tr th {\n",
       "        vertical-align: top;\n",
       "    }\n",
       "\n",
       "    .dataframe thead th {\n",
       "        text-align: right;\n",
       "    }\n",
       "</style>\n",
       "<table border=\"1\" class=\"dataframe\">\n",
       "  <thead>\n",
       "    <tr style=\"text-align: right;\">\n",
       "      <th></th>\n",
       "      <th>n_esitmators</th>\n",
       "      <th>auc</th>\n",
       "    </tr>\n",
       "  </thead>\n",
       "  <tbody>\n",
       "    <tr>\n",
       "      <th>22</th>\n",
       "      <td>450</td>\n",
       "      <td>0.898</td>\n",
       "    </tr>\n",
       "    <tr>\n",
       "      <th>21</th>\n",
       "      <td>430</td>\n",
       "      <td>0.898</td>\n",
       "    </tr>\n",
       "    <tr>\n",
       "      <th>20</th>\n",
       "      <td>410</td>\n",
       "      <td>0.898</td>\n",
       "    </tr>\n",
       "    <tr>\n",
       "      <th>19</th>\n",
       "      <td>390</td>\n",
       "      <td>0.898</td>\n",
       "    </tr>\n",
       "    <tr>\n",
       "      <th>18</th>\n",
       "      <td>370</td>\n",
       "      <td>0.898</td>\n",
       "    </tr>\n",
       "    <tr>\n",
       "      <th>12</th>\n",
       "      <td>250</td>\n",
       "      <td>0.897</td>\n",
       "    </tr>\n",
       "    <tr>\n",
       "      <th>13</th>\n",
       "      <td>270</td>\n",
       "      <td>0.897</td>\n",
       "    </tr>\n",
       "    <tr>\n",
       "      <th>23</th>\n",
       "      <td>470</td>\n",
       "      <td>0.897</td>\n",
       "    </tr>\n",
       "    <tr>\n",
       "      <th>17</th>\n",
       "      <td>350</td>\n",
       "      <td>0.897</td>\n",
       "    </tr>\n",
       "    <tr>\n",
       "      <th>16</th>\n",
       "      <td>330</td>\n",
       "      <td>0.897</td>\n",
       "    </tr>\n",
       "    <tr>\n",
       "      <th>15</th>\n",
       "      <td>310</td>\n",
       "      <td>0.897</td>\n",
       "    </tr>\n",
       "    <tr>\n",
       "      <th>14</th>\n",
       "      <td>290</td>\n",
       "      <td>0.897</td>\n",
       "    </tr>\n",
       "    <tr>\n",
       "      <th>24</th>\n",
       "      <td>490</td>\n",
       "      <td>0.897</td>\n",
       "    </tr>\n",
       "    <tr>\n",
       "      <th>10</th>\n",
       "      <td>210</td>\n",
       "      <td>0.897</td>\n",
       "    </tr>\n",
       "    <tr>\n",
       "      <th>11</th>\n",
       "      <td>230</td>\n",
       "      <td>0.896</td>\n",
       "    </tr>\n",
       "  </tbody>\n",
       "</table>\n",
       "</div>"
      ],
      "text/plain": [
       "    n_esitmators    auc\n",
       "22           450  0.898\n",
       "21           430  0.898\n",
       "20           410  0.898\n",
       "19           390  0.898\n",
       "18           370  0.898\n",
       "12           250  0.897\n",
       "13           270  0.897\n",
       "23           470  0.897\n",
       "17           350  0.897\n",
       "16           330  0.897\n",
       "15           310  0.897\n",
       "14           290  0.897\n",
       "24           490  0.897\n",
       "10           210  0.897\n",
       "11           230  0.896"
      ]
     },
     "execution_count": 194,
     "metadata": {},
     "output_type": "execute_result"
    }
   ],
   "source": [
    "df_scores = pd.DataFrame(scores, columns=['n_esitmators', 'auc']).sort_values(by='auc', ascending=False)\n",
    "df_scores.head(15)"
   ]
  },
  {
   "cell_type": "markdown",
   "id": "ce025ad7",
   "metadata": {},
   "source": [
    "so unlike alexey in the video I definitely got higher auc value with more estimators.  However with difference is marginal past a certain point and I notice that there is a delay in training when the estimators get higher"
   ]
  },
  {
   "cell_type": "markdown",
   "id": "830ac422",
   "metadata": {},
   "source": [
    "the cell above took entirely too long to run(going up to 500 estimators) and as you can tell the improvemnt was extremely marginal"
   ]
  },
  {
   "cell_type": "code",
   "execution_count": 195,
   "id": "7bfa99ed",
   "metadata": {},
   "outputs": [
    {
     "data": {
      "text/plain": [
       "[<matplotlib.lines.Line2D at 0x143f990a0>]"
      ]
     },
     "execution_count": 195,
     "metadata": {},
     "output_type": "execute_result"
    },
    {
     "data": {
      "image/png": "[encoded data removed]",
      "text/plain": [
       "<Figure size 640x480 with 1 Axes>"
      ]
     },
     "metadata": {},
     "output_type": "display_data"
    }
   ],
   "source": [
    "plt.plot(df_scores.n_esitmators, df_scores.auc)"
   ]
  },
  {
   "cell_type": "markdown",
   "id": "c7ef494f",
   "metadata": {},
   "source": [
    "### training the max_depth parameter"
   ]
  },
  {
   "cell_type": "code",
   "execution_count": 196,
   "id": "273011b9",
   "metadata": {},
   "outputs": [],
   "source": [
    "scores = []\n",
    "for d in [10, 15, 20]:\n",
    "\n",
    "    for n in range(10, 201, 10):\n",
    "        auc = tune_rf(n, max_depth=d)\n",
    "        #print(\"n_estimators: %4s ----> %.4f\" % (n, auc))\n",
    "        scores.append((d, n, round(auc, 3)))"
   ]
  },
  {
   "cell_type": "code",
   "execution_count": 197,
   "id": "8b352d11",
   "metadata": {},
   "outputs": [
    {
     "data": {
      "text/html": [
       "<div>\n",
       "<style scoped>\n",
       "    .dataframe tbody tr th:only-of-type {\n",
       "        vertical-align: middle;\n",
       "    }\n",
       "\n",
       "    .dataframe tbody tr th {\n",
       "        vertical-align: top;\n",
       "    }\n",
       "\n",
       "    .dataframe thead th {\n",
       "        text-align: right;\n",
       "    }\n",
       "</style>\n",
       "<table border=\"1\" class=\"dataframe\">\n",
       "  <thead>\n",
       "    <tr style=\"text-align: right;\">\n",
       "      <th></th>\n",
       "      <th>max_depth</th>\n",
       "      <th>n_esitmators</th>\n",
       "      <th>auc</th>\n",
       "    </tr>\n",
       "  </thead>\n",
       "  <tbody>\n",
       "    <tr>\n",
       "      <th>27</th>\n",
       "      <td>15</td>\n",
       "      <td>80</td>\n",
       "      <td>0.912</td>\n",
       "    </tr>\n",
       "    <tr>\n",
       "      <th>28</th>\n",
       "      <td>15</td>\n",
       "      <td>90</td>\n",
       "      <td>0.912</td>\n",
       "    </tr>\n",
       "    <tr>\n",
       "      <th>26</th>\n",
       "      <td>15</td>\n",
       "      <td>70</td>\n",
       "      <td>0.911</td>\n",
       "    </tr>\n",
       "    <tr>\n",
       "      <th>25</th>\n",
       "      <td>15</td>\n",
       "      <td>60</td>\n",
       "      <td>0.911</td>\n",
       "    </tr>\n",
       "    <tr>\n",
       "      <th>24</th>\n",
       "      <td>15</td>\n",
       "      <td>50</td>\n",
       "      <td>0.911</td>\n",
       "    </tr>\n",
       "  </tbody>\n",
       "</table>\n",
       "</div>"
      ],
      "text/plain": [
       "    max_depth  n_esitmators    auc\n",
       "27         15            80  0.912\n",
       "28         15            90  0.912\n",
       "26         15            70  0.911\n",
       "25         15            60  0.911\n",
       "24         15            50  0.911"
      ]
     },
     "execution_count": 197,
     "metadata": {},
     "output_type": "execute_result"
    }
   ],
   "source": [
    "df_scores = pd.DataFrame(scores, columns=[\"max_depth\",'n_esitmators', 'auc']).sort_values(by='auc', ascending=False)\n",
    "df_scores.head()"
   ]
  },
  {
   "cell_type": "markdown",
   "id": "fa850d06",
   "metadata": {},
   "source": [
    "The first time I tried tuning the parameters a max_dpeth=5 was universally the worst and 15 is best.  So I am trying upping it.  Second time through 15 was still the best so I will keep that"
   ]
  },
  {
   "cell_type": "code",
   "execution_count": 198,
   "id": "c68993a6",
   "metadata": {},
   "outputs": [
    {
     "data": {
      "text/plain": [
       "<matplotlib.legend.Legend at 0x16cfdf7f0>"
      ]
     },
     "execution_count": 198,
     "metadata": {},
     "output_type": "execute_result"
    },
    {
     "data": {
      "image/png": "[encoded data removed]",
      "text/plain": [
       "<Figure size 640x480 with 1 Axes>"
      ]
     },
     "metadata": {},
     "output_type": "display_data"
    }
   ],
   "source": [
    "for d in [10, 15, 20]:\n",
    "    df_subset = df_scores[df_scores.max_depth == d]\n",
    "    plt.plot(df_subset.n_esitmators, df_subset.auc, label='max_depth=%d' % d)\n",
    "    \n",
    "plt.legend()"
   ]
  },
  {
   "cell_type": "code",
   "execution_count": 199,
   "id": "43f3a964",
   "metadata": {},
   "outputs": [],
   "source": [
    "# as we can see 15 appears to be the best choice for max_depth\n",
    "max_depth=15"
   ]
  },
  {
   "cell_type": "code",
   "execution_count": 200,
   "id": "fb42694e",
   "metadata": {},
   "outputs": [],
   "source": [
    "# Now to tune the min_samples leaf\n",
    "scores = []\n",
    "\n",
    "for s in [1, 3, 5, 10, 50]:\n",
    "\n",
    "    for n in range(10, 201, 10):\n",
    "        rf = RandomForestClassifier(n_estimators=n, max_depth=max_depth, min_samples_leaf=s, random_state=1)\n",
    "        rf.fit(X_train, y_train)\n",
    "        y_pred = rf.predict_proba(X_val)[:, 1]\n",
    "        auc = roc_auc_score(y_val, y_pred)\n",
    "        #print(\"n_estimators: %4s ----> %.4f\" % (n, auc))\n",
    "        scores.append((s, n, round(auc, 3)))"
   ]
  },
  {
   "cell_type": "code",
   "execution_count": 201,
   "id": "7a74646f",
   "metadata": {},
   "outputs": [
    {
     "data": {
      "text/html": [
       "<div>\n",
       "<style scoped>\n",
       "    .dataframe tbody tr th:only-of-type {\n",
       "        vertical-align: middle;\n",
       "    }\n",
       "\n",
       "    .dataframe tbody tr th {\n",
       "        vertical-align: top;\n",
       "    }\n",
       "\n",
       "    .dataframe thead th {\n",
       "        text-align: right;\n",
       "    }\n",
       "</style>\n",
       "<table border=\"1\" class=\"dataframe\">\n",
       "  <thead>\n",
       "    <tr style=\"text-align: right;\">\n",
       "      <th></th>\n",
       "      <th>min_samples_leaf</th>\n",
       "      <th>n_esitmators</th>\n",
       "      <th>auc</th>\n",
       "    </tr>\n",
       "  </thead>\n",
       "  <tbody>\n",
       "    <tr>\n",
       "      <th>7</th>\n",
       "      <td>1</td>\n",
       "      <td>80</td>\n",
       "      <td>0.912</td>\n",
       "    </tr>\n",
       "    <tr>\n",
       "      <th>8</th>\n",
       "      <td>1</td>\n",
       "      <td>90</td>\n",
       "      <td>0.912</td>\n",
       "    </tr>\n",
       "    <tr>\n",
       "      <th>17</th>\n",
       "      <td>1</td>\n",
       "      <td>180</td>\n",
       "      <td>0.911</td>\n",
       "    </tr>\n",
       "    <tr>\n",
       "      <th>11</th>\n",
       "      <td>1</td>\n",
       "      <td>120</td>\n",
       "      <td>0.911</td>\n",
       "    </tr>\n",
       "    <tr>\n",
       "      <th>19</th>\n",
       "      <td>1</td>\n",
       "      <td>200</td>\n",
       "      <td>0.911</td>\n",
       "    </tr>\n",
       "    <tr>\n",
       "      <th>18</th>\n",
       "      <td>1</td>\n",
       "      <td>190</td>\n",
       "      <td>0.911</td>\n",
       "    </tr>\n",
       "    <tr>\n",
       "      <th>16</th>\n",
       "      <td>1</td>\n",
       "      <td>170</td>\n",
       "      <td>0.911</td>\n",
       "    </tr>\n",
       "    <tr>\n",
       "      <th>15</th>\n",
       "      <td>1</td>\n",
       "      <td>160</td>\n",
       "      <td>0.911</td>\n",
       "    </tr>\n",
       "    <tr>\n",
       "      <th>14</th>\n",
       "      <td>1</td>\n",
       "      <td>150</td>\n",
       "      <td>0.911</td>\n",
       "    </tr>\n",
       "    <tr>\n",
       "      <th>13</th>\n",
       "      <td>1</td>\n",
       "      <td>140</td>\n",
       "      <td>0.911</td>\n",
       "    </tr>\n",
       "    <tr>\n",
       "      <th>12</th>\n",
       "      <td>1</td>\n",
       "      <td>130</td>\n",
       "      <td>0.911</td>\n",
       "    </tr>\n",
       "    <tr>\n",
       "      <th>10</th>\n",
       "      <td>1</td>\n",
       "      <td>110</td>\n",
       "      <td>0.911</td>\n",
       "    </tr>\n",
       "    <tr>\n",
       "      <th>9</th>\n",
       "      <td>1</td>\n",
       "      <td>100</td>\n",
       "      <td>0.911</td>\n",
       "    </tr>\n",
       "    <tr>\n",
       "      <th>6</th>\n",
       "      <td>1</td>\n",
       "      <td>70</td>\n",
       "      <td>0.911</td>\n",
       "    </tr>\n",
       "    <tr>\n",
       "      <th>5</th>\n",
       "      <td>1</td>\n",
       "      <td>60</td>\n",
       "      <td>0.911</td>\n",
       "    </tr>\n",
       "    <tr>\n",
       "      <th>4</th>\n",
       "      <td>1</td>\n",
       "      <td>50</td>\n",
       "      <td>0.911</td>\n",
       "    </tr>\n",
       "    <tr>\n",
       "      <th>3</th>\n",
       "      <td>1</td>\n",
       "      <td>40</td>\n",
       "      <td>0.911</td>\n",
       "    </tr>\n",
       "    <tr>\n",
       "      <th>2</th>\n",
       "      <td>1</td>\n",
       "      <td>30</td>\n",
       "      <td>0.911</td>\n",
       "    </tr>\n",
       "    <tr>\n",
       "      <th>52</th>\n",
       "      <td>5</td>\n",
       "      <td>130</td>\n",
       "      <td>0.910</td>\n",
       "    </tr>\n",
       "    <tr>\n",
       "      <th>37</th>\n",
       "      <td>3</td>\n",
       "      <td>180</td>\n",
       "      <td>0.910</td>\n",
       "    </tr>\n",
       "  </tbody>\n",
       "</table>\n",
       "</div>"
      ],
      "text/plain": [
       "    min_samples_leaf  n_esitmators    auc\n",
       "7                  1            80  0.912\n",
       "8                  1            90  0.912\n",
       "17                 1           180  0.911\n",
       "11                 1           120  0.911\n",
       "19                 1           200  0.911\n",
       "18                 1           190  0.911\n",
       "16                 1           170  0.911\n",
       "15                 1           160  0.911\n",
       "14                 1           150  0.911\n",
       "13                 1           140  0.911\n",
       "12                 1           130  0.911\n",
       "10                 1           110  0.911\n",
       "9                  1           100  0.911\n",
       "6                  1            70  0.911\n",
       "5                  1            60  0.911\n",
       "4                  1            50  0.911\n",
       "3                  1            40  0.911\n",
       "2                  1            30  0.911\n",
       "52                 5           130  0.910\n",
       "37                 3           180  0.910"
      ]
     },
     "execution_count": 201,
     "metadata": {},
     "output_type": "execute_result"
    }
   ],
   "source": [
    "df_scores = pd.DataFrame(scores, columns=[\"min_samples_leaf\",'n_esitmators', 'auc']).sort_values(by='auc', ascending=False)\n",
    "df_scores.head(20)"
   ]
  },
  {
   "cell_type": "markdown",
   "id": "367842fe",
   "metadata": {},
   "source": [
    "so it looks like we got a little bit of improvement. min_samples_leaf=1 is clearly the winner"
   ]
  },
  {
   "cell_type": "code",
   "execution_count": 202,
   "id": "6c12d4ea",
   "metadata": {},
   "outputs": [
    {
     "data": {
      "text/plain": [
       "<matplotlib.legend.Legend at 0x16cf3a340>"
      ]
     },
     "execution_count": 202,
     "metadata": {},
     "output_type": "execute_result"
    },
    {
     "data": {
      "image/png": "[encoded data removed]",
      "text/plain": [
       "<Figure size 640x480 with 1 Axes>"
      ]
     },
     "metadata": {},
     "output_type": "display_data"
    }
   ],
   "source": [
    "for s in [1, 3, 5, 10, 50]:\n",
    "    df_subset = df_scores[df_scores.min_samples_leaf == s]\n",
    "    plt.plot(df_subset.n_esitmators, df_subset.auc, label='min_samples_leaf=%d' % s)\n",
    "    \n",
    "plt.legend()"
   ]
  },
  {
   "cell_type": "code",
   "execution_count": 203,
   "id": "35b373e0",
   "metadata": {},
   "outputs": [],
   "source": [
    "# Our best parameters found tuning the rf model\n",
    "max_depth = 15\n",
    "n_estimators = 80\n",
    "min_samples_leaf = 1"
   ]
  },
  {
   "cell_type": "code",
   "execution_count": 204,
   "id": "8bebed21",
   "metadata": {},
   "outputs": [
    {
     "data": {
      "text/html": [
       "<style>#sk-container-id-8 {color: black;background-color: white;}#sk-container-id-8 pre{padding: 0;}#sk-container-id-8 div.sk-toggleable {background-color: white;}#sk-container-id-8 label.sk-toggleable__label {cursor: pointer;display: block;width: 100%;margin-bottom: 0;padding: 0.3em;box-sizing: border-box;text-align: center;}#sk-container-id-8 label.sk-toggleable__label-arrow:before {content: \"▸\";float: left;margin-right: 0.25em;color: #696969;}#sk-container-id-8 label.sk-toggleable__label-arrow:hover:before {color: black;}#sk-container-id-8 div.sk-estimator:hover label.sk-toggleable__label-arrow:before {color: black;}#sk-container-id-8 div.sk-toggleable__content {max-height: 0;max-width: 0;overflow: hidden;text-align: left;background-color: #f0f8ff;}#sk-container-id-8 div.sk-toggleable__content pre {margin: 0.2em;color: black;border-radius: 0.25em;background-color: #f0f8ff;}#sk-container-id-8 input.sk-toggleable__control:checked~div.sk-toggleable__content {max-height: 200px;max-width: 100%;overflow: auto;}#sk-container-id-8 input.sk-toggleable__control:checked~label.sk-toggleable__label-arrow:before {content: \"▾\";}#sk-container-id-8 div.sk-estimator input.sk-toggleable__control:checked~label.sk-toggleable__label {background-color: #d4ebff;}#sk-container-id-8 div.sk-label input.sk-toggleable__control:checked~label.sk-toggleable__label {background-color: #d4ebff;}#sk-container-id-8 input.sk-hidden--visually {border: 0;clip: rect(1px 1px 1px 1px);clip: rect(1px, 1px, 1px, 1px);height: 1px;margin: -1px;overflow: hidden;padding: 0;position: absolute;width: 1px;}#sk-container-id-8 div.sk-estimator {font-family: monospace;background-color: #f0f8ff;border: 1px dotted black;border-radius: 0.25em;box-sizing: border-box;margin-bottom: 0.5em;}#sk-container-id-8 div.sk-estimator:hover {background-color: #d4ebff;}#sk-container-id-8 div.sk-parallel-item::after {content: \"\";width: 100%;border-bottom: 1px solid gray;flex-grow: 1;}#sk-container-id-8 div.sk-label:hover label.sk-toggleable__label {background-color: #d4ebff;}#sk-container-id-8 div.sk-serial::before {content: \"\";position: absolute;border-left: 1px solid gray;box-sizing: border-box;top: 0;bottom: 0;left: 50%;z-index: 0;}#sk-container-id-8 div.sk-serial {display: flex;flex-direction: column;align-items: center;background-color: white;padding-right: 0.2em;padding-left: 0.2em;position: relative;}#sk-container-id-8 div.sk-item {position: relative;z-index: 1;}#sk-container-id-8 div.sk-parallel {display: flex;align-items: stretch;justify-content: center;background-color: white;position: relative;}#sk-container-id-8 div.sk-item::before, #sk-container-id-8 div.sk-parallel-item::before {content: \"\";position: absolute;border-left: 1px solid gray;box-sizing: border-box;top: 0;bottom: 0;left: 50%;z-index: -1;}#sk-container-id-8 div.sk-parallel-item {display: flex;flex-direction: column;z-index: 1;position: relative;background-color: white;}#sk-container-id-8 div.sk-parallel-item:first-child::after {align-self: flex-end;width: 50%;}#sk-container-id-8 div.sk-parallel-item:last-child::after {align-self: flex-start;width: 50%;}#sk-container-id-8 div.sk-parallel-item:only-child::after {width: 0;}#sk-container-id-8 div.sk-dashed-wrapped {border: 1px dashed gray;margin: 0 0.4em 0.5em 0.4em;box-sizing: border-box;padding-bottom: 0.4em;background-color: white;}#sk-container-id-8 div.sk-label label {font-family: monospace;font-weight: bold;display: inline-block;line-height: 1.2em;}#sk-container-id-8 div.sk-label-container {text-align: center;}#sk-container-id-8 div.sk-container {/* jupyter's `normalize.less` sets `[hidden] { display: none; }` but bootstrap.min.css set `[hidden] { display: none !important; }` so we also need the `!important` here to be able to override the default hidden behavior on the sphinx rendered scikit-learn.org. See: https://github.com/scikit-learn/scikit-learn/issues/21755 */display: inline-block !important;position: relative;}#sk-container-id-8 div.sk-text-repr-fallback {display: none;}</style><div id=\"sk-container-id-8\" class=\"sk-top-container\"><div class=\"sk-text-repr-fallback\"><pre>RandomForestClassifier(max_depth=15, n_estimators=80, random_state=1)</pre><b>In a Jupyter environment, please rerun this cell to show the HTML representation or trust the notebook. <br />On GitHub, the HTML representation is unable to render, please try loading this page with nbviewer.org.</b></div><div class=\"sk-container\" hidden><div class=\"sk-item\"><div class=\"sk-estimator sk-toggleable\"><input class=\"sk-toggleable__control sk-hidden--visually\" id=\"sk-estimator-id-8\" type=\"checkbox\" checked><label for=\"sk-estimator-id-8\" class=\"sk-toggleable__label sk-toggleable__label-arrow\">RandomForestClassifier</label><div class=\"sk-toggleable__content\"><pre>RandomForestClassifier(max_depth=15, n_estimators=80, random_state=1)</pre></div></div></div></div></div>"
      ],
      "text/plain": [
       "RandomForestClassifier(max_depth=15, n_estimators=80, random_state=1)"
      ]
     },
     "execution_count": 204,
     "metadata": {},
     "output_type": "execute_result"
    }
   ],
   "source": [
    "# so now training a final model with the best parameters\n",
    "rf = RandomForestClassifier(n_estimators=80,\n",
    "                            max_depth=15,\n",
    "                            min_samples_leaf=1,\n",
    "                            random_state=1)\n",
    "\n",
    "rf.fit(X_train, y_train)\n"
   ]
  },
  {
   "cell_type": "markdown",
   "id": "f1795f41",
   "metadata": {},
   "source": [
    "- an idea might be to play with the max_features parameter"
   ]
  },
  {
   "cell_type": "markdown",
   "id": "c62cf15e",
   "metadata": {},
   "source": [
    "## 6.7 Gradient Boosting and XGBoost"
   ]
  },
  {
   "cell_type": "code",
   "execution_count": 205,
   "id": "681500bf",
   "metadata": {},
   "outputs": [],
   "source": [
    "import xgboost as xgb"
   ]
  },
  {
   "cell_type": "code",
   "execution_count": 206,
   "id": "5c99b65e",
   "metadata": {},
   "outputs": [],
   "source": [
    "# wrapping dataframe in the DMatrix (which helps the model train faster)\n",
    "features = dv.get_feature_names_out()\n",
    "dtrain = xgb.DMatrix(X_train, label=y_train, feature_names=features)\n",
    "dval =  xgb.DMatrix(X_val, label=y_val, feature_names=features)"
   ]
  },
  {
   "cell_type": "code",
   "execution_count": 207,
   "id": "2d8684b1",
   "metadata": {},
   "outputs": [],
   "source": [
    "xgb_params = {\n",
    "    'eta': 0.3, \n",
    "    'max_depth': 6,\n",
    "    'min_child_weight': 1,\n",
    "    \n",
    "    'objective': 'binary:logistic',\n",
    "    'nthread': 8,\n",
    "    \n",
    "    'seed': 1,\n",
    "    'verbosity': 1,\n",
    "}\n",
    "\n",
    "\n",
    "model = xgb.train(xgb_params, dtrain, num_boost_round=30)"
   ]
  },
  {
   "cell_type": "code",
   "execution_count": 208,
   "id": "68d82115",
   "metadata": {},
   "outputs": [
    {
     "data": {
      "text/plain": [
       "array([0.0309288 , 0.22512588, 0.01109751, ..., 0.01574718, 0.00643183,\n",
       "       0.5490477 ], dtype=float32)"
      ]
     },
     "execution_count": 208,
     "metadata": {},
     "output_type": "execute_result"
    }
   ],
   "source": [
    "y_pred = model.predict(dval)\n",
    "y_pred"
   ]
  },
  {
   "cell_type": "code",
   "execution_count": 209,
   "id": "7643a35a",
   "metadata": {},
   "outputs": [
    {
     "data": {
      "text/plain": [
       "0.9243016910092912"
      ]
     },
     "execution_count": 209,
     "metadata": {},
     "output_type": "execute_result"
    }
   ],
   "source": [
    "roc_auc_score(y_val, y_pred)"
   ]
  },
  {
   "cell_type": "markdown",
   "id": "5ee1780a",
   "metadata": {},
   "source": [
    "92 seems pretty good score for not even trying to tune anything.  it's slightly higher than our highest model to date"
   ]
  },
  {
   "cell_type": "code",
   "execution_count": 210,
   "id": "70ecaa08",
   "metadata": {},
   "outputs": [],
   "source": [
    "watchlist = [(dtrain, 'train'), (dval, 'val')]"
   ]
  },
  {
   "cell_type": "code",
   "execution_count": 211,
   "id": "02f9c752",
   "metadata": {},
   "outputs": [],
   "source": [
    "%%capture output\n",
    "\n",
    "xgb_params = {\n",
    "    'eta': 0.3, \n",
    "    'max_depth': 6,\n",
    "    'min_child_weight': 1,\n",
    "    \n",
    "    'objective': 'binary:logistic',\n",
    "    'eval_metric': 'auc',\n",
    "    'nthread': 8,\n",
    "    \n",
    "    'seed': 1,\n",
    "    'verbosity': 1,\n",
    "}\n",
    "\n",
    "\n",
    "model = xgb.train(xgb_params, dtrain, num_boost_round=200,\n",
    "                  verbose_eval=5,\n",
    "                  evals=watchlist)"
   ]
  },
  {
   "cell_type": "code",
   "execution_count": 212,
   "id": "ff02a634",
   "metadata": {},
   "outputs": [],
   "source": [
    "s = output.stdout"
   ]
  },
  {
   "cell_type": "code",
   "execution_count": 213,
   "id": "49899cb4",
   "metadata": {},
   "outputs": [],
   "source": [
    "line = s.split('\\n')[0]"
   ]
  },
  {
   "cell_type": "code",
   "execution_count": 214,
   "id": "20f397a7",
   "metadata": {},
   "outputs": [],
   "source": [
    "num_iter, train_auc, val_auc = line.split('\\t')"
   ]
  },
  {
   "cell_type": "code",
   "execution_count": 215,
   "id": "ee7fdeb2",
   "metadata": {},
   "outputs": [
    {
     "data": {
      "text/plain": [
       "0"
      ]
     },
     "execution_count": 215,
     "metadata": {},
     "output_type": "execute_result"
    }
   ],
   "source": [
    "int(num_iter.strip('[]'))"
   ]
  },
  {
   "cell_type": "code",
   "execution_count": 216,
   "id": "291dfb61",
   "metadata": {},
   "outputs": [
    {
     "data": {
      "text/plain": [
       "0.90202"
      ]
     },
     "execution_count": 216,
     "metadata": {},
     "output_type": "execute_result"
    }
   ],
   "source": [
    "float(train_auc.split(':')[1])"
   ]
  },
  {
   "cell_type": "code",
   "execution_count": 217,
   "id": "46beabad",
   "metadata": {},
   "outputs": [
    {
     "data": {
      "text/plain": [
       "0.88748"
      ]
     },
     "execution_count": 217,
     "metadata": {},
     "output_type": "execute_result"
    }
   ],
   "source": [
    "float(val_auc.split(':')[1])"
   ]
  },
  {
   "cell_type": "code",
   "execution_count": 218,
   "id": "599d8961",
   "metadata": {},
   "outputs": [],
   "source": [
    "for line in s:\n",
    "    line = s.split('\\n')[0]"
   ]
  },
  {
   "cell_type": "code",
   "execution_count": 219,
   "id": "3e897eaa",
   "metadata": {},
   "outputs": [],
   "source": [
    "# I got this function from the notebook in the repository\n",
    "def parse_xgb_output(output):\n",
    "    results = []\n",
    "\n",
    "    for line in output.stdout.strip().split('\\n'):\n",
    "        it_line, train_line, val_line = line.split('\\t')\n",
    "\n",
    "        it = int(it_line.strip('[]'))\n",
    "        train = float(train_line.split(':')[1])\n",
    "        val = float(val_line.split(':')[1])\n",
    "\n",
    "        results.append((it, train, val))\n",
    "    \n",
    "    columns = ['num_iter', 'train_auc', 'val_auc']\n",
    "    df_results = pd.DataFrame(results, columns=columns)\n",
    "    return df_results"
   ]
  },
  {
   "cell_type": "code",
   "execution_count": 220,
   "id": "81ba3a3c",
   "metadata": {},
   "outputs": [],
   "source": [
    "df_score = parse_xgb_output(output)"
   ]
  },
  {
   "cell_type": "code",
   "execution_count": 221,
   "id": "2dcf20a2",
   "metadata": {},
   "outputs": [
    {
     "data": {
      "text/plain": [
       "<matplotlib.legend.Legend at 0x16d1ec4f0>"
      ]
     },
     "execution_count": 221,
     "metadata": {},
     "output_type": "execute_result"
    },
    {
     "data": {
      "image/png": "[encoded data removed]",
      "text/plain": [
       "<Figure size 640x480 with 1 Axes>"
      ]
     },
     "metadata": {},
     "output_type": "display_data"
    }
   ],
   "source": [
    "#plt.plot(df_score.num_iter, df_score.train_auc, label='train_auc')\n",
    "plt.plot(df_score.num_iter, df_score.val_auc, label='val_auc')\n",
    "plt.legend()"
   ]
  },
  {
   "cell_type": "code",
   "execution_count": 222,
   "id": "6a95314c",
   "metadata": {},
   "outputs": [
    {
     "data": {
      "text/html": [
       "<div>\n",
       "<style scoped>\n",
       "    .dataframe tbody tr th:only-of-type {\n",
       "        vertical-align: middle;\n",
       "    }\n",
       "\n",
       "    .dataframe tbody tr th {\n",
       "        vertical-align: top;\n",
       "    }\n",
       "\n",
       "    .dataframe thead th {\n",
       "        text-align: right;\n",
       "    }\n",
       "</style>\n",
       "<table border=\"1\" class=\"dataframe\">\n",
       "  <thead>\n",
       "    <tr style=\"text-align: right;\">\n",
       "      <th></th>\n",
       "      <th>num_iter</th>\n",
       "      <th>train_auc</th>\n",
       "      <th>val_auc</th>\n",
       "    </tr>\n",
       "  </thead>\n",
       "  <tbody>\n",
       "    <tr>\n",
       "      <th>9</th>\n",
       "      <td>45</td>\n",
       "      <td>0.95339</td>\n",
       "      <td>0.92590</td>\n",
       "    </tr>\n",
       "    <tr>\n",
       "      <th>12</th>\n",
       "      <td>60</td>\n",
       "      <td>0.95635</td>\n",
       "      <td>0.92583</td>\n",
       "    </tr>\n",
       "    <tr>\n",
       "      <th>13</th>\n",
       "      <td>65</td>\n",
       "      <td>0.95759</td>\n",
       "      <td>0.92582</td>\n",
       "    </tr>\n",
       "    <tr>\n",
       "      <th>11</th>\n",
       "      <td>55</td>\n",
       "      <td>0.95562</td>\n",
       "      <td>0.92582</td>\n",
       "    </tr>\n",
       "    <tr>\n",
       "      <th>10</th>\n",
       "      <td>50</td>\n",
       "      <td>0.95463</td>\n",
       "      <td>0.92566</td>\n",
       "    </tr>\n",
       "    <tr>\n",
       "      <th>14</th>\n",
       "      <td>70</td>\n",
       "      <td>0.96018</td>\n",
       "      <td>0.92544</td>\n",
       "    </tr>\n",
       "    <tr>\n",
       "      <th>8</th>\n",
       "      <td>40</td>\n",
       "      <td>0.95194</td>\n",
       "      <td>0.92513</td>\n",
       "    </tr>\n",
       "    <tr>\n",
       "      <th>16</th>\n",
       "      <td>80</td>\n",
       "      <td>0.96236</td>\n",
       "      <td>0.92507</td>\n",
       "    </tr>\n",
       "    <tr>\n",
       "      <th>7</th>\n",
       "      <td>35</td>\n",
       "      <td>0.94983</td>\n",
       "      <td>0.92506</td>\n",
       "    </tr>\n",
       "    <tr>\n",
       "      <th>15</th>\n",
       "      <td>75</td>\n",
       "      <td>0.96183</td>\n",
       "      <td>0.92489</td>\n",
       "    </tr>\n",
       "  </tbody>\n",
       "</table>\n",
       "</div>"
      ],
      "text/plain": [
       "    num_iter  train_auc  val_auc\n",
       "9         45    0.95339  0.92590\n",
       "12        60    0.95635  0.92583\n",
       "13        65    0.95759  0.92582\n",
       "11        55    0.95562  0.92582\n",
       "10        50    0.95463  0.92566\n",
       "14        70    0.96018  0.92544\n",
       "8         40    0.95194  0.92513\n",
       "16        80    0.96236  0.92507\n",
       "7         35    0.94983  0.92506\n",
       "15        75    0.96183  0.92489"
      ]
     },
     "execution_count": 222,
     "metadata": {},
     "output_type": "execute_result"
    }
   ],
   "source": [
    "df_score.sort_values('val_auc', ascending=False).head(10)"
   ]
  },
  {
   "cell_type": "markdown",
   "id": "dfdccc08",
   "metadata": {},
   "source": [
    "## 6.8 XGBoost parameter tuning"
   ]
  },
  {
   "cell_type": "markdown",
   "id": "8448aff2",
   "metadata": {},
   "source": [
    "eta is a learning rate parameter.  it basically determines how much of the previous predictions are used to make the adjustment\n",
    ".  So it's like a form of regularization"
   ]
  },
  {
   "cell_type": "code",
   "execution_count": 241,
   "id": "fa575c86",
   "metadata": {},
   "outputs": [],
   "source": [
    "%%capture output\n",
    "\n",
    "xgb_params = {\n",
    "    'eta': 0.1, \n",
    "    'max_depth': 6,\n",
    "    'min_child_weight': 1,\n",
    "    \n",
    "    'objective': 'binary:logistic',\n",
    "    'eval_metric': 'auc',\n",
    "    'nthread': 8,\n",
    "    \n",
    "    'seed': 1,\n",
    "    'verbosity': 1,\n",
    "}\n",
    "\n",
    "\n",
    "model = xgb.train(xgb_params, dtrain, num_boost_round=200,\n",
    "                  verbose_eval=5,\n",
    "                  evals=watchlist)"
   ]
  },
  {
   "cell_type": "code",
   "execution_count": 235,
   "id": "5c5623cd",
   "metadata": {},
   "outputs": [],
   "source": [
    "scores = {}"
   ]
  },
  {
   "cell_type": "code",
   "execution_count": 242,
   "id": "219fd68d",
   "metadata": {},
   "outputs": [],
   "source": [
    "key = 'eta=%s' % (xgb_params['eta'])\n",
    "scores[key] = parse_xgb_output(output)"
   ]
  },
  {
   "cell_type": "code",
   "execution_count": 243,
   "id": "c2af0c6d",
   "metadata": {},
   "outputs": [
    {
     "data": {
      "text/plain": [
       "dict_keys(['eta=1.0', 'eta=0.3', 'eta=0.1'])"
      ]
     },
     "execution_count": 243,
     "metadata": {},
     "output_type": "execute_result"
    }
   ],
   "source": [
    "scores.keys()"
   ]
  },
  {
   "cell_type": "code",
   "execution_count": 244,
   "id": "57d35735",
   "metadata": {},
   "outputs": [
    {
     "data": {
      "text/plain": [
       "<matplotlib.legend.Legend at 0x179b19ee0>"
      ]
     },
     "execution_count": 244,
     "metadata": {},
     "output_type": "execute_result"
    },
    {
     "data": {
      "image/png": "[encoded data removed]",
      "text/plain": [
       "<Figure size 640x480 with 1 Axes>"
      ]
     },
     "metadata": {},
     "output_type": "display_data"
    }
   ],
   "source": [
    "etas = ['eta=1.0', 'eta=0.3', 'eta=0.1']\n",
    "\n",
    "for eta in etas:\n",
    "    df_score = scores[eta]\n",
    "    plt.plot(df_score.num_iter, df_score.val_auc, label=eta)\n",
    "\n",
    "plt.legend()"
   ]
  },
  {
   "cell_type": "markdown",
   "id": "1d604e66",
   "metadata": {},
   "source": [
    "hard to say. 0.1 seems like it reaches the best performnce overall but it's only slightly better than 0.3 and it takes many more iterations to get there"
   ]
  },
  {
   "cell_type": "markdown",
   "id": "8ed25277",
   "metadata": {},
   "source": [
    "### Tune the max_depth parameter"
   ]
  },
  {
   "cell_type": "code",
   "execution_count": 246,
   "id": "f66d612f",
   "metadata": {},
   "outputs": [],
   "source": [
    "# resetting scores to empy and I set the eta in xgb_params to 0.3 (the best value from tuning, at least the one I \n",
    "# chose considering the tradeoff of performance vs. iterations needed)\n",
    "scores = {}"
   ]
  },
  {
   "cell_type": "code",
   "execution_count": 260,
   "id": "50b5fa65",
   "metadata": {},
   "outputs": [],
   "source": [
    "%%capture output\n",
    "\n",
    "xgb_params = {\n",
    "    'eta': 0.3, \n",
    "    'max_depth': 4,\n",
    "    'min_child_weight': 1,\n",
    "    \n",
    "    'objective': 'binary:logistic',\n",
    "    'eval_metric': 'auc',\n",
    "    'nthread': 8,\n",
    "    \n",
    "    'seed': 1,\n",
    "    'verbosity': 1,\n",
    "}\n",
    "\n",
    "\n",
    "model = xgb.train(xgb_params, dtrain, num_boost_round=200,\n",
    "                  verbose_eval=5,\n",
    "                  evals=watchlist)"
   ]
  },
  {
   "cell_type": "code",
   "execution_count": 261,
   "id": "4a049178",
   "metadata": {},
   "outputs": [
    {
     "data": {
      "text/plain": [
       "'max_depth=4'"
      ]
     },
     "execution_count": 261,
     "metadata": {},
     "output_type": "execute_result"
    }
   ],
   "source": [
    "key = 'max_depth=%s' % (xgb_params['max_depth'])\n",
    "scores[key] = parse_xgb_output(output)\n",
    "key"
   ]
  },
  {
   "cell_type": "code",
   "execution_count": 262,
   "id": "90be4c51",
   "metadata": {},
   "outputs": [
    {
     "data": {
      "text/plain": [
       "dict_keys(['max_depth=10', 'max_depth=6', 'max_depth=3', 'max_depth=4'])"
      ]
     },
     "execution_count": 262,
     "metadata": {},
     "output_type": "execute_result"
    }
   ],
   "source": [
    "scores.keys()"
   ]
  },
  {
   "cell_type": "code",
   "execution_count": 263,
   "id": "329f197a",
   "metadata": {},
   "outputs": [
    {
     "data": {
      "text/html": [
       "<div>\n",
       "<style scoped>\n",
       "    .dataframe tbody tr th:only-of-type {\n",
       "        vertical-align: middle;\n",
       "    }\n",
       "\n",
       "    .dataframe tbody tr th {\n",
       "        vertical-align: top;\n",
       "    }\n",
       "\n",
       "    .dataframe thead th {\n",
       "        text-align: right;\n",
       "    }\n",
       "</style>\n",
       "<table border=\"1\" class=\"dataframe\">\n",
       "  <thead>\n",
       "    <tr style=\"text-align: right;\">\n",
       "      <th></th>\n",
       "      <th>num_iter</th>\n",
       "      <th>train_auc</th>\n",
       "      <th>val_auc</th>\n",
       "    </tr>\n",
       "  </thead>\n",
       "  <tbody>\n",
       "    <tr>\n",
       "      <th>18</th>\n",
       "      <td>90</td>\n",
       "      <td>0.94842</td>\n",
       "      <td>0.92685</td>\n",
       "    </tr>\n",
       "    <tr>\n",
       "      <th>20</th>\n",
       "      <td>100</td>\n",
       "      <td>0.94968</td>\n",
       "      <td>0.92670</td>\n",
       "    </tr>\n",
       "    <tr>\n",
       "      <th>19</th>\n",
       "      <td>95</td>\n",
       "      <td>0.94899</td>\n",
       "      <td>0.92668</td>\n",
       "    </tr>\n",
       "    <tr>\n",
       "      <th>17</th>\n",
       "      <td>85</td>\n",
       "      <td>0.94810</td>\n",
       "      <td>0.92665</td>\n",
       "    </tr>\n",
       "    <tr>\n",
       "      <th>21</th>\n",
       "      <td>105</td>\n",
       "      <td>0.95015</td>\n",
       "      <td>0.92654</td>\n",
       "    </tr>\n",
       "  </tbody>\n",
       "</table>\n",
       "</div>"
      ],
      "text/plain": [
       "    num_iter  train_auc  val_auc\n",
       "18        90    0.94842  0.92685\n",
       "20       100    0.94968  0.92670\n",
       "19        95    0.94899  0.92668\n",
       "17        85    0.94810  0.92665\n",
       "21       105    0.95015  0.92654"
      ]
     },
     "execution_count": 263,
     "metadata": {},
     "output_type": "execute_result"
    }
   ],
   "source": [
    "scores['max_depth=4'].sort_values('val_auc', ascending=False).head()"
   ]
  },
  {
   "cell_type": "code",
   "execution_count": 264,
   "id": "50b0cda1",
   "metadata": {},
   "outputs": [
    {
     "data": {
      "text/plain": [
       "<matplotlib.legend.Legend at 0x179d250a0>"
      ]
     },
     "execution_count": 264,
     "metadata": {},
     "output_type": "execute_result"
    },
    {
     "data": {
      "image/png": "[encoded data removed]",
      "text/plain": [
       "<Figure size 640x480 with 1 Axes>"
      ]
     },
     "metadata": {},
     "output_type": "display_data"
    }
   ],
   "source": [
    "ds = ['max_depth=6', 'max_depth=3', 'max_depth=4', 'max_depth=10']\n",
    "\n",
    "for d in ds:\n",
    "    df_score = scores[d]\n",
    "    plt.plot(df_score.num_iter, df_score.val_auc, label=d)\n",
    "\n",
    "plt.legend()"
   ]
  },
  {
   "cell_type": "code",
   "execution_count": 1254,
   "id": "48f131c3",
   "metadata": {},
   "outputs": [
    {
     "data": {
      "text/plain": [
       "<matplotlib.legend.Legend at 0x2936a3580>"
      ]
     },
     "execution_count": 1254,
     "metadata": {},
     "output_type": "execute_result"
    },
    {
     "data": {
      "image/png": "[encoded data removed]",
      "text/plain": [
       "<Figure size 640x480 with 1 Axes>"
      ]
     },
     "metadata": {},
     "output_type": "display_data"
    }
   ],
   "source": [
    "# this is with eta=0.3\n",
    "ds = ['max_depth=6', 'max_depth=3', 'max_depth=4', 'max_depth=10']\n",
    "\n",
    "for d in ds:\n",
    "    df_score = scores[d]\n",
    "    plt.plot(df_score.num_iter, df_score.val_auc, label=d)\n",
    "\n",
    "plt.legend()"
   ]
  },
  {
   "cell_type": "code",
   "execution_count": 265,
   "id": "4f4a7408",
   "metadata": {},
   "outputs": [],
   "source": [
    "#max_depth=10 is the worst below so just take it out to focus on the others\n",
    "del scores['max_depth=10']"
   ]
  },
  {
   "cell_type": "code",
   "execution_count": 266,
   "id": "5db61930",
   "metadata": {},
   "outputs": [
    {
     "data": {
      "text/plain": [
       "<matplotlib.legend.Legend at 0x179dae790>"
      ]
     },
     "execution_count": 266,
     "metadata": {},
     "output_type": "execute_result"
    },
    {
     "data": {
      "image/png": "[encoded data removed]",
      "text/plain": [
       "<Figure size 640x480 with 1 Axes>"
      ]
     },
     "metadata": {},
     "output_type": "display_data"
    }
   ],
   "source": [
    "for max_depth, df_score in scores.items():\n",
    "    plt.plot(df_score.num_iter, df_score.val_auc, label=max_depth)\n",
    "plt.ylim(0.91, 0.93)\n",
    "plt.legend()"
   ]
  },
  {
   "cell_type": "code",
   "execution_count": 267,
   "id": "7f529822",
   "metadata": {},
   "outputs": [],
   "source": [
    "# .92651 is the best performance reached with eta of 0.1 and max_depth=6 at the 175 iteration\n",
    "# .92656 was reached with eta of 0.3, max_depth=3 at 199 iteration\n",
    "# 0.92685 was reached with eta=0.3, max_depth=4 at 90 iteraion"
   ]
  },
  {
   "cell_type": "markdown",
   "id": "3cf45722",
   "metadata": {},
   "source": [
    "Best performance for xgboost max_depth tuning:0.92685 was reached with eta=0.3, max_depth=4 at 90 iteraion"
   ]
  },
  {
   "cell_type": "markdown",
   "id": "5454bcae",
   "metadata": {},
   "source": [
    "### Tune min_child_weight"
   ]
  },
  {
   "cell_type": "code",
   "execution_count": 268,
   "id": "c9ad588d",
   "metadata": {},
   "outputs": [],
   "source": [
    "# setting the previously tuned parameters eta=0.3 and max_depth=4\n",
    "# clearing out scores\n",
    "scores = {}"
   ]
  },
  {
   "cell_type": "code",
   "execution_count": 277,
   "id": "2a6e8ab8",
   "metadata": {},
   "outputs": [],
   "source": [
    "%%capture output\n",
    "\n",
    "xgb_params = {\n",
    "    'eta': 0.3, \n",
    "    'max_depth': 4,\n",
    "    'min_child_weight': 1,\n",
    "    \n",
    "    'objective': 'binary:logistic',\n",
    "    'eval_metric': 'auc',\n",
    "    'nthread': 8,\n",
    "    \n",
    "    'seed': 1,\n",
    "    'verbosity': 1,\n",
    "}\n",
    "\n",
    "\n",
    "model = xgb.train(xgb_params, dtrain, num_boost_round=200,\n",
    "                  verbose_eval=5,\n",
    "                  evals=watchlist)"
   ]
  },
  {
   "cell_type": "code",
   "execution_count": 278,
   "id": "eb17debb",
   "metadata": {},
   "outputs": [
    {
     "data": {
      "text/plain": [
       "'min_child_weight=1'"
      ]
     },
     "execution_count": 278,
     "metadata": {},
     "output_type": "execute_result"
    }
   ],
   "source": [
    "key = 'min_child_weight=%s' % (xgb_params['min_child_weight'])\n",
    "scores[key] = parse_xgb_output(output)\n",
    "key"
   ]
  },
  {
   "cell_type": "code",
   "execution_count": 279,
   "id": "a418df37",
   "metadata": {},
   "outputs": [
    {
     "data": {
      "text/plain": [
       "dict_keys(['min_child_weight=30', 'min_child_weight=10', 'min_child_weight=1'])"
      ]
     },
     "execution_count": 279,
     "metadata": {},
     "output_type": "execute_result"
    }
   ],
   "source": [
    "scores.keys()"
   ]
  },
  {
   "cell_type": "code",
   "execution_count": 280,
   "id": "f62b3c94",
   "metadata": {},
   "outputs": [
    {
     "data": {
      "text/html": [
       "<div>\n",
       "<style scoped>\n",
       "    .dataframe tbody tr th:only-of-type {\n",
       "        vertical-align: middle;\n",
       "    }\n",
       "\n",
       "    .dataframe tbody tr th {\n",
       "        vertical-align: top;\n",
       "    }\n",
       "\n",
       "    .dataframe thead th {\n",
       "        text-align: right;\n",
       "    }\n",
       "</style>\n",
       "<table border=\"1\" class=\"dataframe\">\n",
       "  <thead>\n",
       "    <tr style=\"text-align: right;\">\n",
       "      <th></th>\n",
       "      <th>num_iter</th>\n",
       "      <th>train_auc</th>\n",
       "      <th>val_auc</th>\n",
       "    </tr>\n",
       "  </thead>\n",
       "  <tbody>\n",
       "    <tr>\n",
       "      <th>18</th>\n",
       "      <td>90</td>\n",
       "      <td>0.94842</td>\n",
       "      <td>0.92685</td>\n",
       "    </tr>\n",
       "    <tr>\n",
       "      <th>20</th>\n",
       "      <td>100</td>\n",
       "      <td>0.94968</td>\n",
       "      <td>0.92670</td>\n",
       "    </tr>\n",
       "    <tr>\n",
       "      <th>19</th>\n",
       "      <td>95</td>\n",
       "      <td>0.94899</td>\n",
       "      <td>0.92668</td>\n",
       "    </tr>\n",
       "    <tr>\n",
       "      <th>17</th>\n",
       "      <td>85</td>\n",
       "      <td>0.94810</td>\n",
       "      <td>0.92665</td>\n",
       "    </tr>\n",
       "    <tr>\n",
       "      <th>21</th>\n",
       "      <td>105</td>\n",
       "      <td>0.95015</td>\n",
       "      <td>0.92654</td>\n",
       "    </tr>\n",
       "  </tbody>\n",
       "</table>\n",
       "</div>"
      ],
      "text/plain": [
       "    num_iter  train_auc  val_auc\n",
       "18        90    0.94842  0.92685\n",
       "20       100    0.94968  0.92670\n",
       "19        95    0.94899  0.92668\n",
       "17        85    0.94810  0.92665\n",
       "21       105    0.95015  0.92654"
      ]
     },
     "execution_count": 280,
     "metadata": {},
     "output_type": "execute_result"
    }
   ],
   "source": [
    "scores['min_child_weight=1'].sort_values('val_auc', ascending=False).head()"
   ]
  },
  {
   "cell_type": "code",
   "execution_count": 281,
   "id": "77c1c3d4",
   "metadata": {},
   "outputs": [
    {
     "data": {
      "text/plain": [
       "<matplotlib.legend.Legend at 0x179d47fd0>"
      ]
     },
     "execution_count": 281,
     "metadata": {},
     "output_type": "execute_result"
    },
    {
     "data": {
      "image/png": "[encoded data removed]",
      "text/plain": [
       "<Figure size 640x480 with 1 Axes>"
      ]
     },
     "metadata": {},
     "output_type": "display_data"
    }
   ],
   "source": [
    "for min_child_weight, df_score in scores.items():\n",
    "    plt.plot(df_score.num_iter, df_score.val_auc, label=min_child_weight)\n",
    "plt.ylim(0.91, 0.93)\n",
    "plt.legend()"
   ]
  },
  {
   "cell_type": "markdown",
   "id": "2a132bf1",
   "metadata": {},
   "source": [
    "default min_child_weight=1 works better than increasing it."
   ]
  },
  {
   "cell_type": "markdown",
   "id": "82eb8a4a",
   "metadata": {},
   "source": [
    "#### so my best xgb parameters are eta=0.3, max_depth=4, min_child_weight=1 trained for 90 iterations"
   ]
  },
  {
   "cell_type": "code",
   "execution_count": 283,
   "id": "d8539a96",
   "metadata": {},
   "outputs": [
    {
     "name": "stdout",
     "output_type": "stream",
     "text": [
      "[0]\ttrain-auc:0.87929\tval-auc:0.86704\n",
      "[5]\ttrain-auc:0.90746\tval-auc:0.89721\n",
      "[10]\ttrain-auc:0.91845\tval-auc:0.90783\n",
      "[15]\ttrain-auc:0.92499\tval-auc:0.91281\n",
      "[20]\ttrain-auc:0.92986\tval-auc:0.91715\n",
      "[25]\ttrain-auc:0.93314\tval-auc:0.91922\n",
      "[30]\ttrain-auc:0.93564\tval-auc:0.92091\n",
      "[35]\ttrain-auc:0.93770\tval-auc:0.92234\n",
      "[40]\ttrain-auc:0.93946\tval-auc:0.92338\n",
      "[45]\ttrain-auc:0.94096\tval-auc:0.92457\n",
      "[50]\ttrain-auc:0.94222\tval-auc:0.92464\n",
      "[55]\ttrain-auc:0.94322\tval-auc:0.92558\n",
      "[60]\ttrain-auc:0.94403\tval-auc:0.92581\n",
      "[65]\ttrain-auc:0.94499\tval-auc:0.92555\n",
      "[70]\ttrain-auc:0.94599\tval-auc:0.92576\n",
      "[75]\ttrain-auc:0.94681\tval-auc:0.92592\n",
      "[80]\ttrain-auc:0.94735\tval-auc:0.92624\n",
      "[85]\ttrain-auc:0.94810\tval-auc:0.92665\n",
      "[89]\ttrain-auc:0.94830\tval-auc:0.92668\n"
     ]
    }
   ],
   "source": [
    "xgb_params = {\n",
    "    'eta': 0.3, \n",
    "    'max_depth': 4,\n",
    "    'min_child_weight': 1,\n",
    "    \n",
    "    'objective': 'binary:logistic',\n",
    "    'eval_metric': 'auc',\n",
    "    'nthread': 8,\n",
    "    \n",
    "    'seed': 1,\n",
    "    'verbosity': 1,\n",
    "}\n",
    "\n",
    "\n",
    "model = xgb.train(xgb_params, dtrain, num_boost_round=90,\n",
    "                  verbose_eval=5,\n",
    "                  evals=watchlist)"
   ]
  },
  {
   "cell_type": "markdown",
   "id": "d797c6bd",
   "metadata": {},
   "source": [
    "## 6.9 Selecting the final model"
   ]
  },
  {
   "cell_type": "markdown",
   "id": "a6cefae3",
   "metadata": {},
   "source": [
    "### the best versions of each model"
   ]
  },
  {
   "cell_type": "code",
   "execution_count": 284,
   "id": "7e031c81",
   "metadata": {},
   "outputs": [
    {
     "data": {
      "text/html": [
       "<style>#sk-container-id-9 {color: black;background-color: white;}#sk-container-id-9 pre{padding: 0;}#sk-container-id-9 div.sk-toggleable {background-color: white;}#sk-container-id-9 label.sk-toggleable__label {cursor: pointer;display: block;width: 100%;margin-bottom: 0;padding: 0.3em;box-sizing: border-box;text-align: center;}#sk-container-id-9 label.sk-toggleable__label-arrow:before {content: \"▸\";float: left;margin-right: 0.25em;color: #696969;}#sk-container-id-9 label.sk-toggleable__label-arrow:hover:before {color: black;}#sk-container-id-9 div.sk-estimator:hover label.sk-toggleable__label-arrow:before {color: black;}#sk-container-id-9 div.sk-toggleable__content {max-height: 0;max-width: 0;overflow: hidden;text-align: left;background-color: #f0f8ff;}#sk-container-id-9 div.sk-toggleable__content pre {margin: 0.2em;color: black;border-radius: 0.25em;background-color: #f0f8ff;}#sk-container-id-9 input.sk-toggleable__control:checked~div.sk-toggleable__content {max-height: 200px;max-width: 100%;overflow: auto;}#sk-container-id-9 input.sk-toggleable__control:checked~label.sk-toggleable__label-arrow:before {content: \"▾\";}#sk-container-id-9 div.sk-estimator input.sk-toggleable__control:checked~label.sk-toggleable__label {background-color: #d4ebff;}#sk-container-id-9 div.sk-label input.sk-toggleable__control:checked~label.sk-toggleable__label {background-color: #d4ebff;}#sk-container-id-9 input.sk-hidden--visually {border: 0;clip: rect(1px 1px 1px 1px);clip: rect(1px, 1px, 1px, 1px);height: 1px;margin: -1px;overflow: hidden;padding: 0;position: absolute;width: 1px;}#sk-container-id-9 div.sk-estimator {font-family: monospace;background-color: #f0f8ff;border: 1px dotted black;border-radius: 0.25em;box-sizing: border-box;margin-bottom: 0.5em;}#sk-container-id-9 div.sk-estimator:hover {background-color: #d4ebff;}#sk-container-id-9 div.sk-parallel-item::after {content: \"\";width: 100%;border-bottom: 1px solid gray;flex-grow: 1;}#sk-container-id-9 div.sk-label:hover label.sk-toggleable__label {background-color: #d4ebff;}#sk-container-id-9 div.sk-serial::before {content: \"\";position: absolute;border-left: 1px solid gray;box-sizing: border-box;top: 0;bottom: 0;left: 50%;z-index: 0;}#sk-container-id-9 div.sk-serial {display: flex;flex-direction: column;align-items: center;background-color: white;padding-right: 0.2em;padding-left: 0.2em;position: relative;}#sk-container-id-9 div.sk-item {position: relative;z-index: 1;}#sk-container-id-9 div.sk-parallel {display: flex;align-items: stretch;justify-content: center;background-color: white;position: relative;}#sk-container-id-9 div.sk-item::before, #sk-container-id-9 div.sk-parallel-item::before {content: \"\";position: absolute;border-left: 1px solid gray;box-sizing: border-box;top: 0;bottom: 0;left: 50%;z-index: -1;}#sk-container-id-9 div.sk-parallel-item {display: flex;flex-direction: column;z-index: 1;position: relative;background-color: white;}#sk-container-id-9 div.sk-parallel-item:first-child::after {align-self: flex-end;width: 50%;}#sk-container-id-9 div.sk-parallel-item:last-child::after {align-self: flex-start;width: 50%;}#sk-container-id-9 div.sk-parallel-item:only-child::after {width: 0;}#sk-container-id-9 div.sk-dashed-wrapped {border: 1px dashed gray;margin: 0 0.4em 0.5em 0.4em;box-sizing: border-box;padding-bottom: 0.4em;background-color: white;}#sk-container-id-9 div.sk-label label {font-family: monospace;font-weight: bold;display: inline-block;line-height: 1.2em;}#sk-container-id-9 div.sk-label-container {text-align: center;}#sk-container-id-9 div.sk-container {/* jupyter's `normalize.less` sets `[hidden] { display: none; }` but bootstrap.min.css set `[hidden] { display: none !important; }` so we also need the `!important` here to be able to override the default hidden behavior on the sphinx rendered scikit-learn.org. See: https://github.com/scikit-learn/scikit-learn/issues/21755 */display: inline-block !important;position: relative;}#sk-container-id-9 div.sk-text-repr-fallback {display: none;}</style><div id=\"sk-container-id-9\" class=\"sk-top-container\"><div class=\"sk-text-repr-fallback\"><pre>DecisionTreeClassifier(max_depth=8, min_samples_leaf=15)</pre><b>In a Jupyter environment, please rerun this cell to show the HTML representation or trust the notebook. <br />On GitHub, the HTML representation is unable to render, please try loading this page with nbviewer.org.</b></div><div class=\"sk-container\" hidden><div class=\"sk-item\"><div class=\"sk-estimator sk-toggleable\"><input class=\"sk-toggleable__control sk-hidden--visually\" id=\"sk-estimator-id-9\" type=\"checkbox\" checked><label for=\"sk-estimator-id-9\" class=\"sk-toggleable__label sk-toggleable__label-arrow\">DecisionTreeClassifier</label><div class=\"sk-toggleable__content\"><pre>DecisionTreeClassifier(max_depth=8, min_samples_leaf=15)</pre></div></div></div></div></div>"
      ],
      "text/plain": [
       "DecisionTreeClassifier(max_depth=8, min_samples_leaf=15)"
      ]
     },
     "execution_count": 284,
     "metadata": {},
     "output_type": "execute_result"
    }
   ],
   "source": [
    "dt = DecisionTreeClassifier(max_depth=8, min_samples_leaf=15)\n",
    "dt.fit(X_train, y_train)"
   ]
  },
  {
   "cell_type": "code",
   "execution_count": 285,
   "id": "1c40d01d",
   "metadata": {},
   "outputs": [
    {
     "name": "stdout",
     "output_type": "stream",
     "text": [
      "dt classififier best performance: 0.900\n"
     ]
    }
   ],
   "source": [
    "y_pred = dt.predict_proba(X_val)[:, 1]\n",
    "auc = roc_auc_score(y_val, y_pred)\n",
    "print(\"dt classififier best performance: %.3f\" % (auc))"
   ]
  },
  {
   "cell_type": "code",
   "execution_count": 286,
   "id": "ac147f9b",
   "metadata": {},
   "outputs": [
    {
     "data": {
      "text/html": [
       "<style>#sk-container-id-10 {color: black;background-color: white;}#sk-container-id-10 pre{padding: 0;}#sk-container-id-10 div.sk-toggleable {background-color: white;}#sk-container-id-10 label.sk-toggleable__label {cursor: pointer;display: block;width: 100%;margin-bottom: 0;padding: 0.3em;box-sizing: border-box;text-align: center;}#sk-container-id-10 label.sk-toggleable__label-arrow:before {content: \"▸\";float: left;margin-right: 0.25em;color: #696969;}#sk-container-id-10 label.sk-toggleable__label-arrow:hover:before {color: black;}#sk-container-id-10 div.sk-estimator:hover label.sk-toggleable__label-arrow:before {color: black;}#sk-container-id-10 div.sk-toggleable__content {max-height: 0;max-width: 0;overflow: hidden;text-align: left;background-color: #f0f8ff;}#sk-container-id-10 div.sk-toggleable__content pre {margin: 0.2em;color: black;border-radius: 0.25em;background-color: #f0f8ff;}#sk-container-id-10 input.sk-toggleable__control:checked~div.sk-toggleable__content {max-height: 200px;max-width: 100%;overflow: auto;}#sk-container-id-10 input.sk-toggleable__control:checked~label.sk-toggleable__label-arrow:before {content: \"▾\";}#sk-container-id-10 div.sk-estimator input.sk-toggleable__control:checked~label.sk-toggleable__label {background-color: #d4ebff;}#sk-container-id-10 div.sk-label input.sk-toggleable__control:checked~label.sk-toggleable__label {background-color: #d4ebff;}#sk-container-id-10 input.sk-hidden--visually {border: 0;clip: rect(1px 1px 1px 1px);clip: rect(1px, 1px, 1px, 1px);height: 1px;margin: -1px;overflow: hidden;padding: 0;position: absolute;width: 1px;}#sk-container-id-10 div.sk-estimator {font-family: monospace;background-color: #f0f8ff;border: 1px dotted black;border-radius: 0.25em;box-sizing: border-box;margin-bottom: 0.5em;}#sk-container-id-10 div.sk-estimator:hover {background-color: #d4ebff;}#sk-container-id-10 div.sk-parallel-item::after {content: \"\";width: 100%;border-bottom: 1px solid gray;flex-grow: 1;}#sk-container-id-10 div.sk-label:hover label.sk-toggleable__label {background-color: #d4ebff;}#sk-container-id-10 div.sk-serial::before {content: \"\";position: absolute;border-left: 1px solid gray;box-sizing: border-box;top: 0;bottom: 0;left: 50%;z-index: 0;}#sk-container-id-10 div.sk-serial {display: flex;flex-direction: column;align-items: center;background-color: white;padding-right: 0.2em;padding-left: 0.2em;position: relative;}#sk-container-id-10 div.sk-item {position: relative;z-index: 1;}#sk-container-id-10 div.sk-parallel {display: flex;align-items: stretch;justify-content: center;background-color: white;position: relative;}#sk-container-id-10 div.sk-item::before, #sk-container-id-10 div.sk-parallel-item::before {content: \"\";position: absolute;border-left: 1px solid gray;box-sizing: border-box;top: 0;bottom: 0;left: 50%;z-index: -1;}#sk-container-id-10 div.sk-parallel-item {display: flex;flex-direction: column;z-index: 1;position: relative;background-color: white;}#sk-container-id-10 div.sk-parallel-item:first-child::after {align-self: flex-end;width: 50%;}#sk-container-id-10 div.sk-parallel-item:last-child::after {align-self: flex-start;width: 50%;}#sk-container-id-10 div.sk-parallel-item:only-child::after {width: 0;}#sk-container-id-10 div.sk-dashed-wrapped {border: 1px dashed gray;margin: 0 0.4em 0.5em 0.4em;box-sizing: border-box;padding-bottom: 0.4em;background-color: white;}#sk-container-id-10 div.sk-label label {font-family: monospace;font-weight: bold;display: inline-block;line-height: 1.2em;}#sk-container-id-10 div.sk-label-container {text-align: center;}#sk-container-id-10 div.sk-container {/* jupyter's `normalize.less` sets `[hidden] { display: none; }` but bootstrap.min.css set `[hidden] { display: none !important; }` so we also need the `!important` here to be able to override the default hidden behavior on the sphinx rendered scikit-learn.org. See: https://github.com/scikit-learn/scikit-learn/issues/21755 */display: inline-block !important;position: relative;}#sk-container-id-10 div.sk-text-repr-fallback {display: none;}</style><div id=\"sk-container-id-10\" class=\"sk-top-container\"><div class=\"sk-text-repr-fallback\"><pre>RandomForestClassifier(max_depth=15, n_estimators=80, random_state=1)</pre><b>In a Jupyter environment, please rerun this cell to show the HTML representation or trust the notebook. <br />On GitHub, the HTML representation is unable to render, please try loading this page with nbviewer.org.</b></div><div class=\"sk-container\" hidden><div class=\"sk-item\"><div class=\"sk-estimator sk-toggleable\"><input class=\"sk-toggleable__control sk-hidden--visually\" id=\"sk-estimator-id-10\" type=\"checkbox\" checked><label for=\"sk-estimator-id-10\" class=\"sk-toggleable__label sk-toggleable__label-arrow\">RandomForestClassifier</label><div class=\"sk-toggleable__content\"><pre>RandomForestClassifier(max_depth=15, n_estimators=80, random_state=1)</pre></div></div></div></div></div>"
      ],
      "text/plain": [
       "RandomForestClassifier(max_depth=15, n_estimators=80, random_state=1)"
      ]
     },
     "execution_count": 286,
     "metadata": {},
     "output_type": "execute_result"
    }
   ],
   "source": [
    "rf = RandomForestClassifier(n_estimators=80,\n",
    "                            max_depth=15,\n",
    "                            min_samples_leaf=1,\n",
    "                            random_state=1)\n",
    "\n",
    "rf.fit(X_train, y_train)"
   ]
  },
  {
   "cell_type": "code",
   "execution_count": 287,
   "id": "f3f4ca56",
   "metadata": {},
   "outputs": [
    {
     "name": "stdout",
     "output_type": "stream",
     "text": [
      "rf classififier best performance: 0.912\n"
     ]
    }
   ],
   "source": [
    "y_pred = rf.predict_proba(X_val)[:, 1]\n",
    "auc = roc_auc_score(y_val, y_pred)\n",
    "print(\"rf classififier best performance: %.3f\" % (auc))"
   ]
  },
  {
   "cell_type": "code",
   "execution_count": 288,
   "id": "7a6e0561",
   "metadata": {},
   "outputs": [
    {
     "name": "stdout",
     "output_type": "stream",
     "text": [
      "[0]\ttrain-auc:0.87929\tval-auc:0.86704\n",
      "[5]\ttrain-auc:0.90746\tval-auc:0.89721\n",
      "[10]\ttrain-auc:0.91845\tval-auc:0.90783\n",
      "[15]\ttrain-auc:0.92499\tval-auc:0.91281\n",
      "[20]\ttrain-auc:0.92986\tval-auc:0.91715\n",
      "[25]\ttrain-auc:0.93314\tval-auc:0.91922\n",
      "[30]\ttrain-auc:0.93564\tval-auc:0.92091\n",
      "[35]\ttrain-auc:0.93770\tval-auc:0.92234\n",
      "[40]\ttrain-auc:0.93946\tval-auc:0.92338\n",
      "[45]\ttrain-auc:0.94096\tval-auc:0.92457\n",
      "[50]\ttrain-auc:0.94222\tval-auc:0.92464\n",
      "[55]\ttrain-auc:0.94322\tval-auc:0.92558\n",
      "[60]\ttrain-auc:0.94403\tval-auc:0.92581\n",
      "[65]\ttrain-auc:0.94499\tval-auc:0.92555\n",
      "[70]\ttrain-auc:0.94599\tval-auc:0.92576\n",
      "[75]\ttrain-auc:0.94681\tval-auc:0.92592\n",
      "[80]\ttrain-auc:0.94735\tval-auc:0.92624\n",
      "[85]\ttrain-auc:0.94810\tval-auc:0.92665\n",
      "[89]\ttrain-auc:0.94830\tval-auc:0.92668\n"
     ]
    }
   ],
   "source": [
    "xgb_params = {\n",
    "    'eta': 0.3, \n",
    "    'max_depth': 4,\n",
    "    'min_child_weight': 1,\n",
    "    \n",
    "    'objective': 'binary:logistic',\n",
    "    'eval_metric': 'auc',\n",
    "    'nthread': 8,\n",
    "    \n",
    "    'seed': 1,\n",
    "    'verbosity': 1,\n",
    "}\n",
    "\n",
    "\n",
    "model = xgb.train(xgb_params, dtrain, num_boost_round=90,\n",
    "                  verbose_eval=5,\n",
    "                  evals=watchlist)"
   ]
  },
  {
   "cell_type": "code",
   "execution_count": 289,
   "id": "a037f6bf",
   "metadata": {},
   "outputs": [
    {
     "name": "stdout",
     "output_type": "stream",
     "text": [
      "xgb classififier best performance: 0.927\n"
     ]
    }
   ],
   "source": [
    "y_pred = model.predict(dval)\n",
    "auc = roc_auc_score(y_val, y_pred)\n",
    "print(\"xgb classififier best performance: %.3f\" % (auc))"
   ]
  },
  {
   "cell_type": "markdown",
   "id": "5e020d49",
   "metadata": {},
   "source": [
    "### Trainng the best model on full training set"
   ]
  },
  {
   "cell_type": "code",
   "execution_count": 290,
   "id": "efcb7783",
   "metadata": {},
   "outputs": [],
   "source": [
    "# don't think resetting the index is really necessary but he did it in the video\n",
    "df_full_train = df_full_train.reset_index(drop=True)"
   ]
  },
  {
   "cell_type": "code",
   "execution_count": 291,
   "id": "63029e7d",
   "metadata": {},
   "outputs": [
    {
     "data": {
      "text/html": [
       "<div>\n",
       "<style scoped>\n",
       "    .dataframe tbody tr th:only-of-type {\n",
       "        vertical-align: middle;\n",
       "    }\n",
       "\n",
       "    .dataframe tbody tr th {\n",
       "        vertical-align: top;\n",
       "    }\n",
       "\n",
       "    .dataframe thead th {\n",
       "        text-align: right;\n",
       "    }\n",
       "</style>\n",
       "<table border=\"1\" class=\"dataframe\">\n",
       "  <thead>\n",
       "    <tr style=\"text-align: right;\">\n",
       "      <th></th>\n",
       "      <th>age</th>\n",
       "      <th>workclass</th>\n",
       "      <th>fnlwgt</th>\n",
       "      <th>education</th>\n",
       "      <th>education_num</th>\n",
       "      <th>marital_status</th>\n",
       "      <th>occupation</th>\n",
       "      <th>relationship</th>\n",
       "      <th>race</th>\n",
       "      <th>sex</th>\n",
       "      <th>capital_gain</th>\n",
       "      <th>capital_loss</th>\n",
       "      <th>hours_per_week</th>\n",
       "      <th>native_country</th>\n",
       "      <th>greater_than_50k</th>\n",
       "      <th>us_native</th>\n",
       "    </tr>\n",
       "  </thead>\n",
       "  <tbody>\n",
       "    <tr>\n",
       "      <th>0</th>\n",
       "      <td>39</td>\n",
       "      <td>self_emp_not_inc</td>\n",
       "      <td>188571</td>\n",
       "      <td>11th</td>\n",
       "      <td>7</td>\n",
       "      <td>married_civ_spouse</td>\n",
       "      <td>transport_moving</td>\n",
       "      <td>husband</td>\n",
       "      <td>white</td>\n",
       "      <td>male</td>\n",
       "      <td>0</td>\n",
       "      <td>0</td>\n",
       "      <td>40</td>\n",
       "      <td>united_states</td>\n",
       "      <td>0</td>\n",
       "      <td>united_states</td>\n",
       "    </tr>\n",
       "    <tr>\n",
       "      <th>1</th>\n",
       "      <td>54</td>\n",
       "      <td>self_emp_not_inc</td>\n",
       "      <td>105010</td>\n",
       "      <td>bachelors</td>\n",
       "      <td>13</td>\n",
       "      <td>married_civ_spouse</td>\n",
       "      <td>exec_managerial</td>\n",
       "      <td>husband</td>\n",
       "      <td>white</td>\n",
       "      <td>male</td>\n",
       "      <td>0</td>\n",
       "      <td>0</td>\n",
       "      <td>40</td>\n",
       "      <td>united_states</td>\n",
       "      <td>1</td>\n",
       "      <td>united_states</td>\n",
       "    </tr>\n",
       "    <tr>\n",
       "      <th>2</th>\n",
       "      <td>32</td>\n",
       "      <td>private</td>\n",
       "      <td>156464</td>\n",
       "      <td>hs_grad</td>\n",
       "      <td>9</td>\n",
       "      <td>married_civ_spouse</td>\n",
       "      <td>sales</td>\n",
       "      <td>husband</td>\n",
       "      <td>white</td>\n",
       "      <td>male</td>\n",
       "      <td>0</td>\n",
       "      <td>1902</td>\n",
       "      <td>50</td>\n",
       "      <td>united_states</td>\n",
       "      <td>1</td>\n",
       "      <td>united_states</td>\n",
       "    </tr>\n",
       "    <tr>\n",
       "      <th>3</th>\n",
       "      <td>45</td>\n",
       "      <td>self_emp_not_inc</td>\n",
       "      <td>32172</td>\n",
       "      <td>some_college</td>\n",
       "      <td>10</td>\n",
       "      <td>never_married</td>\n",
       "      <td>farming_fishing</td>\n",
       "      <td>not_in_family</td>\n",
       "      <td>white</td>\n",
       "      <td>male</td>\n",
       "      <td>0</td>\n",
       "      <td>0</td>\n",
       "      <td>50</td>\n",
       "      <td>united_states</td>\n",
       "      <td>0</td>\n",
       "      <td>united_states</td>\n",
       "    </tr>\n",
       "    <tr>\n",
       "      <th>4</th>\n",
       "      <td>60</td>\n",
       "      <td>private</td>\n",
       "      <td>146674</td>\n",
       "      <td>10th</td>\n",
       "      <td>6</td>\n",
       "      <td>married_civ_spouse</td>\n",
       "      <td>handlers_cleaners</td>\n",
       "      <td>husband</td>\n",
       "      <td>black</td>\n",
       "      <td>male</td>\n",
       "      <td>0</td>\n",
       "      <td>0</td>\n",
       "      <td>40</td>\n",
       "      <td>united_states</td>\n",
       "      <td>0</td>\n",
       "      <td>united_states</td>\n",
       "    </tr>\n",
       "  </tbody>\n",
       "</table>\n",
       "</div>"
      ],
      "text/plain": [
       "   age         workclass  fnlwgt     education  education_num  \\\n",
       "0   39  self_emp_not_inc  188571          11th              7   \n",
       "1   54  self_emp_not_inc  105010     bachelors             13   \n",
       "2   32           private  156464       hs_grad              9   \n",
       "3   45  self_emp_not_inc   32172  some_college             10   \n",
       "4   60           private  146674          10th              6   \n",
       "\n",
       "       marital_status         occupation   relationship   race   sex  \\\n",
       "0  married_civ_spouse   transport_moving        husband  white  male   \n",
       "1  married_civ_spouse    exec_managerial        husband  white  male   \n",
       "2  married_civ_spouse              sales        husband  white  male   \n",
       "3       never_married    farming_fishing  not_in_family  white  male   \n",
       "4  married_civ_spouse  handlers_cleaners        husband  black  male   \n",
       "\n",
       "   capital_gain  capital_loss  hours_per_week native_country  \\\n",
       "0             0             0              40  united_states   \n",
       "1             0             0              40  united_states   \n",
       "2             0          1902              50  united_states   \n",
       "3             0             0              50  united_states   \n",
       "4             0             0              40  united_states   \n",
       "\n",
       "   greater_than_50k      us_native  \n",
       "0                 0  united_states  \n",
       "1                 1  united_states  \n",
       "2                 1  united_states  \n",
       "3                 0  united_states  \n",
       "4                 0  united_states  "
      ]
     },
     "execution_count": 291,
     "metadata": {},
     "output_type": "execute_result"
    }
   ],
   "source": [
    "df_full_train.head()"
   ]
  },
  {
   "cell_type": "code",
   "execution_count": 292,
   "id": "3aac5758",
   "metadata": {},
   "outputs": [],
   "source": [
    "y_full_train = df_full_train.greater_than_50k.values"
   ]
  },
  {
   "cell_type": "code",
   "execution_count": 293,
   "id": "5b2702f5",
   "metadata": {},
   "outputs": [],
   "source": [
    "# removing target from df_full_train\n",
    "del df_full_train['greater_than_50k']"
   ]
  },
  {
   "cell_type": "code",
   "execution_count": 294,
   "id": "065d7e4a",
   "metadata": {},
   "outputs": [],
   "source": [
    "dicts_full_train = df_full_train.to_dict(orient='records')\n",
    "\n",
    "dv = DictVectorizer(sparse=False)\n",
    "X_full_train = dv.fit_transform(dicts_full_train)\n",
    "\n",
    "dicts_test = df_test.to_dict(orient='records')\n",
    "X_test = dv.transform(dicts_test)"
   ]
  },
  {
   "cell_type": "code",
   "execution_count": 295,
   "id": "81ed8148",
   "metadata": {},
   "outputs": [],
   "source": [
    "dfulltrain = xgb.DMatrix(X_full_train, label=y_full_train,\n",
    "                        feature_names=dv.get_feature_names_out())\n",
    "\n",
    "dtest = xgb.DMatrix(X_test, feature_names=dv.get_feature_names_out())"
   ]
  },
  {
   "cell_type": "code",
   "execution_count": 296,
   "id": "f80d3d90",
   "metadata": {},
   "outputs": [],
   "source": [
    "xgb_params = {\n",
    "    'eta': 0.3, \n",
    "    'max_depth': 4,\n",
    "    'min_child_weight': 1,\n",
    "    \n",
    "    'objective': 'binary:logistic',\n",
    "    'eval_metric': 'auc',\n",
    "    'nthread': 8,\n",
    "    \n",
    "    'seed': 1,\n",
    "    'verbosity': 1,\n",
    "}\n",
    "\n",
    "\n",
    "model = xgb.train(xgb_params, dfulltrain, num_boost_round=90)"
   ]
  },
  {
   "cell_type": "code",
   "execution_count": 297,
   "id": "a047c5c1",
   "metadata": {},
   "outputs": [],
   "source": [
    "y_pred = model.predict(dtest)"
   ]
  },
  {
   "cell_type": "code",
   "execution_count": 298,
   "id": "85eca0ec",
   "metadata": {},
   "outputs": [
    {
     "data": {
      "text/plain": [
       "0.924557800446421"
      ]
     },
     "execution_count": 298,
     "metadata": {},
     "output_type": "execute_result"
    }
   ],
   "source": [
    "roc_auc_score(y_test, y_pred)"
   ]
  },
  {
   "cell_type": "markdown",
   "id": "62dcc55b",
   "metadata": {},
   "source": [
    "### Saving the model with BentoML"
   ]
  },
  {
   "cell_type": "code",
   "execution_count": 87,
   "id": "beebb85f",
   "metadata": {},
   "outputs": [],
   "source": [
    "import bentoml"
   ]
  },
  {
   "cell_type": "code",
   "execution_count": 1320,
   "id": "06f9af3f",
   "metadata": {},
   "outputs": [
    {
     "data": {
      "text/plain": [
       "Model(tag=\"over_50k_classifier:fhtdcatadcpibct7\", path=\"/Users/isaachurwitz/bentoml/models/over_50k_classifier/fhtdcatadcpibct7/\")"
      ]
     },
     "execution_count": 1320,
     "metadata": {},
     "output_type": "execute_result"
    }
   ],
   "source": [
    "bentoml.xgboost.save_model(\n",
    "    'over_50k_classifier',\n",
    "    model,\n",
    "    custom_objects={\n",
    "        'dictVectorizer': dv\n",
    "    })"
   ]
  },
  {
   "cell_type": "code",
   "execution_count": null,
   "id": "c66f5af7",
   "metadata": {},
   "outputs": [],
   "source": []
  }
 ],
 "metadata": {
  "kernelspec": {
   "display_name": "Python 3 (ipykernel)",
   "language": "python",
   "name": "python3"
  },
  "language_info": {
   "codemirror_mode": {
    "name": "ipython",
    "version": 3
   },
   "file_extension": ".py",
   "mimetype": "text/x-python",
   "name": "python",
   "nbconvert_exporter": "python",
   "pygments_lexer": "ipython3",
   "version": "3.9.13"
  }
 },
 "nbformat": 4,
 "nbformat_minor": 5
}
